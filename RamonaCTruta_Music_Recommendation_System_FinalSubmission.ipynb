{
 "cells": [
  {
   "cell_type": "markdown",
   "metadata": {
    "id": "DyAjEw4OHmDb"
   },
   "source": [
    "# <center><img src=\"http://millionsongdataset.com/sites/default/files/millionsong2-128.jpg\" width=100> <b>A MUSIC RECOMMENDATION SYSTEM PROPOSAL</b></center>"
   ]
  },
  {
   "cell_type": "markdown",
   "metadata": {},
   "source": [
    "# **1. Executive Summary**\n",
    "\n",
    "Humans are in a constant race against time, with ever-increasing busy lives. The volume of music available to us is contantly increasing, making the task of searching for new music to listen to daunting, at the very least. \n",
    "\n",
    "The problem we are addressing here is using data science to build a recommendation system capable of proposing the top 10 songs to a user, based on the likelihood that said user will be listening to those songs.\n",
    "\n",
    "Building a recommendation system based on our unique musical preferences, able to assist us in the process of finding new music to explore, will benefit us by enriching our lives. \n",
    "\n",
    "\n",
    "In order for us to build a recommendatio system, we need to answer a few key questions, listed below.\n",
    "  - How do we define the musical preference of a user?\n",
    "\n",
    "  - What factors contribute to a user's musical preference?\n",
    "  \n",
    "  - What data is the most useful when defining the preference of a user?\n",
    "  \n",
    "  - What is the musical content that a user is most likely to consume?\n",
    "\n",
    "Depending on the data available to us, answering these question may reveal different answers. Data scientists are striving to build a reliable recommendation system, one that is accurate, fast and inexpensive.\n",
    "\n",
    "Musical tastes are very personal, and recommending new songs to a user is not an easy task, by any measure. Ultimately, any user can benefit from having a reliable recommendation system, capable of making fast and accurate recommendations!\n",
    "\n",
    "## **Key takeaways**\n",
    "\n",
    "The initial analysis performed for the Milestone submission revealed important takeaways, which we aimed to address in this current submission. \n",
    "\n",
    "Arguably, the **most important** key takeway that needs addressing is improving the performance of the system, reflected in the performance metrics results. \n",
    "\n",
    "We have performed many experiments in trying to address the low performance of all the models we proposed and analyzed. In many ways, we performed a `Grid Search`, where the `hyperparameters` to by tuned are:\n",
    "\n",
    "1. The ratio of the trainset/testset data split:\n",
    "  - either a `80/20` split, \n",
    "  - a `70/30` split, or\n",
    "  - a `60/40`split.\n",
    "2. Dropping the imputed year values (year = 0):\n",
    "  - either `True` (drop),\n",
    "  - or `False` (keep).\n",
    "3. Threshold parameter, in `precision@k`, and `recall@k`:\n",
    "  - we experimented with these values: `1.0, 1.1, 1.2, 1.3, 1.4, 1.5`.\n",
    "\n",
    "Ultimately, based on the extensive analysis we performed, we have concluded that the _hyperparameter_ influencing the performance metrics the most is the `threshold` parameter. The value of this parameter, in combination with any choice of the other two parameters revealed very similar results, making the `threshold` parameter the one that influences the perfomance metrics the most. The reasoning behind this comes from the data itself.\n",
    "\n",
    "For the analysis presented in this report, the values of the parameters that we decided on are:\n",
    "1. The ratio of the trainset/testset data split: `80/20`.\n",
    "2. Dropping the imputed year values (year = 0): `True`.\n",
    "3. Threshold parameter, in `precision@k`, and `recall@k`: `1`.\n",
    "\n",
    "Based on our analysis, we can use any of the models presented here with these values for `hyperparameters`, the results are comparable. In fact, the simplest, most ready-to-use model can be deployed with these hyperparameters.\n",
    "\n",
    "\n",
    "## **Next steps** \n",
    "\n",
    "There is a well-known adage in data science, `the more data, the better the model`. In recommending next steps, we are focusing on the inclusion of more data into our analysis.\n",
    "\n",
    "When more data is available, the model is exposed to more learning opportunities, thus increasing the capability of making recommendations. \n",
    "\n",
    "To perform our analysis, we used a very small subset of our data, `4.86%`. We strongly believe that the reduce size of data had a tremendous influence on the performance of the models we tested. \n",
    "\n",
    "With respect to recommending songs based on a given title, we improved upon the `recommendations` function that generates such recommendations.\n",
    "- We added an additional filter in the `recommendations` function, to make sure that we are not recommending songs with a similarity of 0.\n",
    "- We have also added a verification for the existance of the title in the database. Thus, `LearnTo Fly` cannot be found in the database, and no recommendations can be made. We recommend extending the scope of this function, to capture more of such cases. There are simple NLP techniques that can be easily implemented, with very high impact.\n",
    "- Due to the additional filter, there are no longer 10 songs similar to `Learn To Fly` to be recommended. The maximum number of such songs is `5`, and they are:\n",
    "  1. `Everlong`.\n",
    "  2. `The Pretender`.\n",
    "  3. `Nothing Better (Album)`.\n",
    "  4. `From Left To Right`.\n",
    "  5. `Lifespan Of A Fly`.\n",
    "\n",
    "The relatively small number of features that were used can only help in recommending songs based on the `title/release/artist` content. However, the original dataset contains a lot more valuable features, like `danceability, energy, loudness, mode, similar artists, song hotttnesss, tempo` that can be used for a content-based recommendation model. We believe that using all, or just a subset of these features will increase the value of the system, thus generating more revenue. \n",
    "\n",
    "Although the data that we have used is not `Spotify`-per se, we can consider including `Spotify`-related data. There are vast data sets pertaining to `Spotify`, and their inclusion would have the potential of making a content-based system more robust. \n",
    "\n",
    "For example, there is a Spotify-specific dataset containing `genre`-related data. Our original dataset has no `genre` information. We would argue that incorporating this additional data to our dataset will increase the accuracy of the recommendations.\n",
    "\n",
    "We have also recently learned about the existence of `Spotipy`, a lightweight Python library for the `Spotify Web API`. Using `Spotipy`, one can get full access to all of the music data provided by the `Spotify` platform.\n",
    "\n",
    "One may discover new songs to listen to while listening on the Radio. The Radio stations tend to play new songs, providing exposure. At the same time, they play `Oldies but goldies songs`, songs based on various decades, catered to various age-categories of listeners.\n",
    "\n",
    "Many users listen to a limited number of genres of music. A cluster-based recommendation system based on genre information would make most sense when addressing this category of users.\n",
    "\n",
    "On the other hand, users with eclectic taste that spans across many various genres will benefit only to some extent from a genre-cluster based system. A more elaborate recommendation system would use sentiment analysis data, and make more accurate prediction in this way.\n",
    "\n",
    "For any user, instead of focusing on recommending a particular song, we may focus our recommendation on a particular playlist. For instance, if we are to incorporate data from an `IoT` wearable device, capable of measuring the `B`eats-`P`er-`M`inute, we can recommend song from a playlist accordingly.\n",
    "  - `Low BPM`: recommend songs from a `Relaxing/Meditative` playlist;\n",
    "  - `High BPM`: recommend songs from a `High Energy/Dancing` playlist.\n",
    "\n",
    "Music is present not only as stand-alone songs, but also as background audio, accompanying video. An app like `Shazam` gives an user the possibility of discovering new music/songs. Using data from Shazam alongside data already available, one can improve on a recommendation system, by making use of the data preferences of a user.\n",
    "\n",
    "# **2. Problem and solution summary**\n",
    "\n",
    "## **Summary of the problem**\n",
    "\n",
    "The problem we are addressing here is using data science to build a recommendation system capable of proposing the top 10 songs to a user, based on the likelihood that said user will be listening to those songs.\n",
    "\n",
    "## **Final proposed solution design**\n",
    "\n",
    "\n",
    "### **Data Preprocessing**\n",
    "\n",
    "The **data preprocessing steps** we performed are listed below:\n",
    "\n",
    "1. **Merge `count_df` and `song_df`**, the two dataframes with original data, and **drop** the `Unnamed: 0` column.\n",
    "  - Duplicated records in the `song_df` dataframe were discarded during the merge.\n",
    "  - The type of the merge is `left`-merge, as we need to include `all` the records in the `count_df`.\n",
    "  - The `merge`-ing column is `song_id`.\n",
    "2. **Encode the `user_id` and `song_id` attributes**, using a label encoder. This step is needed, as the original IDs are strings, and not numeric values.\n",
    "3. **Filter the dataset**, by removing, in this order:\n",
    "  \n",
    "  a. users who have listened to less than 90 songs, and \n",
    "  \n",
    "  b. songs that have been listened to by less than 120 users.\n",
    "4. **Generate a rating scale**. In order to create a semblance of a rating system, we have restricted our data to users that have listened to a song at most 5 times. In this way, `play_count` can be used as a rating system, with values between `1` and `5`.  \n",
    "5. **Drop the entries that have `year == 0`**\n",
    "\n",
    "After merging the two datasets, `count_df` and `song_df`, the resulting dataset contains `2,000,000` rows, and `7` columns. From a computing-resources standpoint, this volume of data can be computationally intensive, and, consequently, a long processing time. This, in turn, can impede on the efficiency of the training and evaluation of our models. To address this performance issue, we filtered our data, and reduced its size to `4.86%` of the original size. The final dataset we will be used for modeling contains `97,227` rows, and `7` columns.\n",
    "\n",
    "\n",
    "The following table summarizes the data size reduction obtained in steps 3-5\n",
    "\n",
    "\n",
    "|Step|Shape before step|Shape after step|\n",
    "|-:--|-----------------|----------------|\n",
    "| 3a | (2000000, 7) |  (438390, 7) |\n",
    "| 3b | (438390, 7) |  (130398, 7) |\n",
    "| 4 | (130398, 7) | (117876, 7) |\n",
    "| 5 | (117876, 7) | (97227, 7) |\n",
    "\n",
    "\n",
    "### **Recommendation system workflow**\n",
    "\n",
    "A training set is fed to a recommendation algorithm, which produces a recommendation model that can be used to generate new predictions. \n",
    "\n",
    "To evaluate the model, a held-out testset is fed to the learned model, where predictions are generated for each user-item pair. \n",
    "\n",
    "Predictions with known labels (true value) are then used as an input to the evaluation algorithm to produce evaluation results.\n",
    "\n",
    "### **Algorithms and Models analysis**\n",
    "\n",
    "In this case study, we built recommendation systems using four different category of algorithms, as described below.\n",
    "\n",
    "1. `Rank-based` algorithm, using averages of `play_count`s for ranking.\n",
    "\n",
    "2.  `Collaborative-filtering` algorithms:\n",
    "    \n",
    "    a. `Similarity/Neighborhood-based`:\n",
    "      - `User-user` similarity, and its improved version;\n",
    "      - `Item-item` similarity, and its improved version.\n",
    "    \n",
    "    b. `Model-based`:\n",
    "      - `Matrix-factorization`: `Singular Value Decomposition` and its improved version.\n",
    "\n",
    "3. `Cluster-based` algorithm, and its improved version.\n",
    "    \n",
    "4. `Content-based` recommendation system.  \n",
    "\n",
    "The `surprise` library was used to demonstrate all of the `Collaborative-filtering`-based algorithms. For all of these algorithms, `Grid Search Cross-Validation` was used to find the optimal hyperparameters for the data, and to improve upon the baseline algorithms. In addition, the optimal hyperparameters were used to generate related predictions.\n",
    "\n",
    "### **Evaluation metrics**\n",
    "\n",
    "Many evaluation metrics are available for recommendation systems, and each one of them has its own pros and cons. \n",
    "\n",
    "In the context of recommendation systems, we are most likely interested in recommending top-N items to the user. In this sense, it makes the most sense to compute precision and recall metrics in the first N items, instead of all of the items. Thus, we are using the notion of precision and recall at k, where k is a user-definable integer to match the top-N recommendations objective.\n",
    "\n",
    "To `evaluate the performance` of these models, we used `precision@k` and `recall@k` metrics. Since both of these metrics are indicative of a model's performance, the harmonic mean of these two metrics, `F_1 score` has been calculated for each of the models we highlighted. \n",
    "\n",
    "The `Precision@k`, `Recall@k` and `F1_score@k` are defined below:\n",
    "\n",
    "  - $\\text{Precision@k} = \\frac{ | \\{ \\text{Recommended items that are relevant} \\} | }{ | \\{ \\text{Recommended items} \\} | }$\n",
    "\n",
    "  - $\\text{Recall@k} = \\frac{ | \\{ \\text{Recommended items that are relevant} \\} | }{ | \\{ \\text{Relevant items} \\} | }$\n",
    "\n",
    "  - $\\text{F1_score@k} = \\frac{2}{{\\frac{1}{\\text{Precision@k}} + {\\frac{1}{\\text{Recall@k}}}}}$\n",
    "\n",
    "An item is considered `relevant` if its true rating $r_{ui}$ is greater than a given `threshold`. \n",
    "\n",
    "An item is considered `recommended` if its estimated rating\n",
    "$\\hat{r}_{ui}$ is greater than the threshold, and if it is among the k highest estimated ratings.\n",
    "\n",
    "Note that in the edge cases where division by zero occurs, `Precision@k` and `Recall@k` values are undefined. As a convention, we set their values to 0 in such cases.\n",
    "\n",
    "`Recall`: the fraction of relevant songs that are recommended to a user.\n",
    "\n",
    "`Precision`: the fraction of the recommended songs that are relevant to the user.\n",
    "\n",
    "`Precision@k` is the proportion of recommended items in the top-k set that are relevant.\n",
    "\n",
    "`Recall@k` is the proportion of relevant items found in the top-k recommendations.\n",
    "\n",
    "One takeaway worth mentioning is that we have performed an in-depth analysis of the `Precision@k` and `Recall@k`, varying the values of the `k` parameter, from `10` to `40`, in increments of 10. \n",
    "\n",
    "When `k = 40`, all the models we tested satisfy `Precision@40 = Recall@40 = 1`. That is, for `k = 40`, we reach `100% accuracy` of our models.\n",
    "\n",
    "Another takeaway worth mentioning is that for a `60/40` data split, the models reach `100% accuracy` when `k = 60`.\n",
    "\n",
    "The following table **summarizes the metric results** used to evaluate the models we build for our analysis. More on this analysis is presented later in the report.\n",
    "\n",
    "|metric|user-user|user-user-optimized|item-item|item-item-optimized|SVD|SVD-optimized|coCluster|coCluster-optimized\n",
    "|--:---|---------|-------------------|---------|-------------------|---|-------------|---------|-------------------|\n",
    "|RMSE  |1.088  |1.041             |  1.024  |1.02 |**1.009**|**1.009**|1.033|1.04\n",
    "|Precision@10|1.0|1.0|1.0|1.0|1.0|1.0|1.0|1.0|\n",
    "|Recall@10|0.948|0.948|0.948|0.948|0.948|0.948|0.948|0.948|\n",
    "|Recall@20|0.994|0.994|0.994|0.994|0.994|0.994|0.994|0.994|\n",
    "|Recall@30|0.999|0.999|0.999|0.999|0.999|0.999|0.999|0.999|\n",
    "|Recall@40|1.0|1.0|1.0|1.0|1.0|1.0|1.0|1.0|\n",
    "|$F_1$ score@10|0.973|0.973|0.973|0.973|0.973|0.973|0.973|0.973|\n",
    "|$F_1$ score@20|0.997|0.997|0.997|0.997|0.997|0.997|0.997|0.997|\n",
    "|$F_1$ score@30|0.999|0.999|0.999|0.999|0.999|0.999|0.999|0.999|\n",
    "|$F_1$ score@40|1.0|1.0|1.0|1.0|1.0|1.0|1.0|1.0|\n",
    "\n",
    "As illustrated in the table above, all the models we tested perform really well. \n",
    "\n",
    "The following table **summarizes the predictions** for user `6958`, and the 2 songs, \n",
    "- `1671` (`r_ui = 2`), that the user listened to, and\n",
    "- `3232`, (`r_ui = None`) that the user did not listened to.\n",
    "\n",
    "|Algorithm|min_predicted_play_count|max_predicted_play_count|(6958, 1671, 2)|(6958, 3232, None)|\n",
    "|--:------|------------------------|------------------------|---------------|------------------|\n",
    "|user-user|||1.67|1.67|\n",
    "|user-user-optimized|2.69|3.05|**1.91**|1.29|\n",
    "|item-item|||1.31|1.3|\n",
    "|item-item-optimized|2.04|2.72|**1.91**|1.29|\n",
    "|SVD|||1.31|1.23|\n",
    "|SVD-optimized|2.04|2.72|1.36|1.44|\n",
    "|coCluster|||1.2|1.02|\n",
    "|coCluster-optimized|1.98|3.14|1.0|1.0|\n",
    "\n",
    "Looking at the accuracy of the models we tested, we can conclude that the `user-user-optimized` model is performing the best predictions for the songs that have an actual rating (the `1.91` predicted value is the closest to the `2` actual value).\n",
    "\n",
    "To propose a final model, we can easily pick any one of the analyzed models. However, we propose the `S`ingular `V`alue `D`ecomposition (SVD) model, which is a ready-to-use, model-based collaborative filtering model, very robust. It is a personalized recommendation system, in which the recommendations are based on the past behavior of the user, and are not dependent on any additional information. The aim of this model is to use the latent features to find recommendations for each user.\n",
    "\n",
    "# **3. Recommendations for implementation**\n",
    "\n",
    "## **Implementation strategy**\n",
    "\n",
    "Below we present an example of an implementation strategy:\n",
    "\n",
    "1. **Establish a goal**: for example, implementing the data science model to recommend songs when `genre` feature is added to the data. \n",
    "2. **Schedule milestones**: for example, adding a new feature and testing its usefullness every month.\n",
    "3. **Define success**: for example, successful implementation and training in 4 weeks or less; model still in use 3 months or more after implementation.\n",
    "4. **Re-asses implementation metrics**: time and money necessary for implementation, availability of human resources, etc.\n",
    "\n",
    "## **Cost analysis**\n",
    "\n",
    "We run the complete analysis of all the models presented on Google Colab. While benefiting of the free-cost of using this system, we are cognizant of the fact that using a recommendation system at scale comes at a cost.\n",
    "\n",
    "Given the nature of the data used in the recommended solution, a cloud solution is recommended to be implemented, rather than one on-premise. A cloud-service model, ready-to-use has a lot of benefits.\n",
    "\n",
    "Moreover, considering that the data is constantly evolving, using a cloud solution will contribute to the efficiency of the system. While it is true that using a cloud provider comes at a cost, it is also true that it will offset the costs of having an on-premise solution build from ground-up, with all the additional costs of maintaining it.\n",
    "\n",
    "The next decision to be made is with respect to the type of cloud-service model that we wish to use: \n",
    "- `IaaS` - Infrastructure as a Service,\n",
    "- `PaaS` - Platform as a Service, or\n",
    "- `SaaS` - Software as a Service.\n",
    "\n",
    "Please note that a real cost analysis at large scale needs the help of an\n",
    "economist or business analyst. There are more factors involved when performing such analysis, than the scope of our analysis allowed for.\n",
    "\n",
    "## **Risks and challenges**\n",
    "\n",
    "Due to the nature of the data we used in our analysis, we concluded that the `threshold = 1` is the most indicative of the data, and it should be used as such.\n",
    "\n",
    "However, when more data is added to the system, the distribution of the ratings will change, and consequently, we will need to change the value of the parameter. A key indication of how to chose the value for the threshold comes from the statistical analysis of the ratings in the dataset. \n",
    "\n",
    "When the threshold parameter is changed, a complete performance analysis of the system is needed, and all the models discussed here need to be evaluated. \n",
    "\n",
    "One dillema we faced when building the content-based model was related to the accuracy of the recommendations. Our model is trained to recommend the top 10 songs. However, when further analysing the recommendations, we noticed that only half of the songs recommended were actually similar to the title we were recommending for. Thus, an ethical dillema was formed, `To recommend, or to not recommend, this is the question`. As a potential solution to this dilemma, we propose to introduce the notion of `suggestion`. \n",
    "\n",
    "## **Further analysis**\n",
    "\n",
    "We strongly believe that incorporating a larger `N`atural `L`anguage `P`rocessing(NLP) component would bring large benefits to the system. There are ready-to-use NLP models, that can be trained and tested on our data.\n",
    "\n",
    "If cost is not an issue, maybe it is worth investigating using Neural Networks to improve the recommendations. However, these models are known to be computationally expensive, so maybe the costs associated with using them far outweight the benefits."
   ]
  },
  {
   "cell_type": "markdown",
   "metadata": {
    "id": "BVUiyhYTHS1t"
   },
   "source": [
    "#### **Data Dictionary**\n",
    "\n",
    "The core data is the Taste Profile Subset released by the Echo Nest as part of the Million Song Dataset. There are two files in this dataset. The first file contains the details about the song id, titles, release, artist name, and the year of release. The second file contains the user id, song id, and the play count of users.\n",
    "\n",
    "### song_data\n",
    "\n",
    "**song_id** - A unique id given to every song\n",
    "\n",
    "**title** - Title of the song\n",
    "\n",
    "**Release** - Name of the released album\n",
    "\n",
    "**Artist_name** - Name of the artist \n",
    "\n",
    "**year** - Year of release\n",
    "\n",
    "### count_data\n",
    "\n",
    "**user_id** - A unique id given to the user\n",
    "\n",
    "**song_id** - A unique id given to the song\n",
    "\n",
    "**play_count** - Number of times the song was played\n",
    "\n",
    "## **Data Source**\n",
    "http://millionsongdataset.com/"
   ]
  },
  {
   "cell_type": "markdown",
   "metadata": {
    "id": "zagHqDjKGv89"
   },
   "source": [
    "#### Appendix: Acknowledgements:\n",
    "\n",
    "$\\text{Thierry Bertin-Mahieux, Daniel P.W. Ellis, Brian Whitman, and Paul Lamere. The Million Song Dataset. In Proceedings of the 12th International Society for Music Information Retrieval Conference (ISMIR 2011), 2011.}$\n",
    "\n"
   ]
  },
  {
   "cell_type": "markdown",
   "metadata": {
    "id": "NRJtXkTrHxMQ"
   },
   "source": [
    "## **Importing the Necessary Libraries, and the Dataset**"
   ]
  },
  {
   "cell_type": "code",
   "execution_count": null,
   "metadata": {
    "colab": {
     "base_uri": "https://localhost:8080/"
    },
    "id": "6SRzOPXI2Efn",
    "outputId": "2ee5145e-a3c1-4a7f-8788-2f1d3a07fc49"
   },
   "outputs": [
    {
     "name": "stdout",
     "output_type": "stream",
     "text": [
      "Mounted at /content/drive\n"
     ]
    }
   ],
   "source": [
    "# Mounting the drive\n",
    "from google.colab import drive\n",
    "drive.mount('/content/drive')"
   ]
  },
  {
   "cell_type": "code",
   "execution_count": null,
   "metadata": {
    "colab": {
     "base_uri": "https://localhost:8080/",
     "height": 155
    },
    "id": "R4YvKrpzId3K",
    "outputId": "d052f488-cf43-4a12-adbe-5feb1da51bd7"
   },
   "outputs": [
    {
     "name": "stdout",
     "output_type": "stream",
     "text": [
      "\u001b[1m\u001b[92mNotebook Color Scheme:\n",
      "\u001b[0m\n"
     ]
    },
    {
     "data": {
      "image/png": "[encoded data removed]",
      "text/plain": [
       "<Figure size 500x100 with 1 Axes>"
      ]
     },
     "metadata": {},
     "output_type": "display_data"
    }
   ],
   "source": [
    "import warnings\n",
    "warnings.filterwarnings('ignore')\n",
    "\n",
    "# Data manipulation libraries\n",
    "import numpy as np\n",
    "import pandas as pd\n",
    "\n",
    "# Visualization libraries\n",
    "import matplotlib.pyplot as plt\n",
    "from matplotlib.colors import ListedColormap, LinearSegmentedColormap\n",
    "import seaborn as sns\n",
    "\n",
    "# Import the required library to compute the cosine similarity between two vectors\n",
    "from sklearn.metrics.pairwise import cosine_similarity\n",
    "# Impoort mean_squared_error : a performance metrics in sklearn\n",
    "from sklearn.metrics import mean_squared_error\n",
    "\n",
    "from collections import defaultdict\n",
    "\n",
    "# Custom colors\n",
    "class clr:\n",
    "    S = '\\033[1m' + '\\033[92m'\n",
    "    E = '\\033[0m'\n",
    "\n",
    "# The custom colors chosen here were generated by 'I want hue' app. \n",
    "# The were chosen for color-blindness.\n",
    "my_colors = [\"#af953c\", \"#6971c9\", \"#56ae6c\",\n",
    "             \"#a24f99\", \"#ba4a4f\"]\n",
    "\n",
    "# Optionally, create a color map, particularly for future use.\n",
    "CMAP1 = ListedColormap(my_colors)\n",
    "\n",
    "# Display my own color scheme, as a reference.\n",
    "print(clr.S+'Notebook Color Scheme:\\n'+clr.E)\n",
    "sns.palplot(sns.color_palette(my_colors))\n",
    "plt.show()"
   ]
  },
  {
   "cell_type": "markdown",
   "metadata": {
    "id": "pU8347jHWDna"
   },
   "source": [
    "### **Loading the data**"
   ]
  },
  {
   "cell_type": "code",
   "execution_count": null,
   "metadata": {
    "id": "si6ulhIYImck"
   },
   "outputs": [],
   "source": [
    "# Importing the datasets\n",
    "song_df = pd.read_csv('/content/drive/MyDrive/CapstoneProject/song_data.csv') \n",
    "\n",
    "count_df = pd.read_csv('/content/drive/MyDrive/CapstoneProject/count_data.csv') \n",
    "\n"
   ]
  },
  {
   "cell_type": "markdown",
   "metadata": {
    "id": "12TKB2M7XyC6"
   },
   "source": [
    "### **A first look at the data**"
   ]
  },
  {
   "cell_type": "code",
   "execution_count": null,
   "metadata": {
    "colab": {
     "base_uri": "https://localhost:8080/",
     "height": 363
    },
    "id": "GCLzBuYiXlPM",
    "outputId": "d1d20f30-99f4-4e28-e57d-0a3b50f1ea97"
   },
   "outputs": [
    {
     "data": {
      "text/html": [
       "\n",
       "  <div id=\"df-22d888b8-7019-48cb-9bbc-292b95b3db05\">\n",
       "    <div class=\"colab-df-container\">\n",
       "      <div>\n",
       "<style scoped>\n",
       "    .dataframe tbody tr th:only-of-type {\n",
       "        vertical-align: middle;\n",
       "    }\n",
       "\n",
       "    .dataframe tbody tr th {\n",
       "        vertical-align: top;\n",
       "    }\n",
       "\n",
       "    .dataframe thead th {\n",
       "        text-align: right;\n",
       "    }\n",
       "</style>\n",
       "<table border=\"1\" class=\"dataframe\">\n",
       "  <thead>\n",
       "    <tr style=\"text-align: right;\">\n",
       "      <th></th>\n",
       "      <th>Unnamed: 0</th>\n",
       "      <th>user_id</th>\n",
       "      <th>song_id</th>\n",
       "      <th>play_count</th>\n",
       "    </tr>\n",
       "  </thead>\n",
       "  <tbody>\n",
       "    <tr>\n",
       "      <th>0</th>\n",
       "      <td>0</td>\n",
       "      <td>b80344d063b5ccb3212f76538f3d9e43d87dca9e</td>\n",
       "      <td>SOAKIMP12A8C130995</td>\n",
       "      <td>1</td>\n",
       "    </tr>\n",
       "    <tr>\n",
       "      <th>1</th>\n",
       "      <td>1</td>\n",
       "      <td>b80344d063b5ccb3212f76538f3d9e43d87dca9e</td>\n",
       "      <td>SOBBMDR12A8C13253B</td>\n",
       "      <td>2</td>\n",
       "    </tr>\n",
       "    <tr>\n",
       "      <th>2</th>\n",
       "      <td>2</td>\n",
       "      <td>b80344d063b5ccb3212f76538f3d9e43d87dca9e</td>\n",
       "      <td>SOBXHDL12A81C204C0</td>\n",
       "      <td>1</td>\n",
       "    </tr>\n",
       "    <tr>\n",
       "      <th>3</th>\n",
       "      <td>3</td>\n",
       "      <td>b80344d063b5ccb3212f76538f3d9e43d87dca9e</td>\n",
       "      <td>SOBYHAJ12A6701BF1D</td>\n",
       "      <td>1</td>\n",
       "    </tr>\n",
       "    <tr>\n",
       "      <th>4</th>\n",
       "      <td>4</td>\n",
       "      <td>b80344d063b5ccb3212f76538f3d9e43d87dca9e</td>\n",
       "      <td>SODACBL12A8C13C273</td>\n",
       "      <td>1</td>\n",
       "    </tr>\n",
       "    <tr>\n",
       "      <th>5</th>\n",
       "      <td>5</td>\n",
       "      <td>b80344d063b5ccb3212f76538f3d9e43d87dca9e</td>\n",
       "      <td>SODDNQT12A6D4F5F7E</td>\n",
       "      <td>5</td>\n",
       "    </tr>\n",
       "    <tr>\n",
       "      <th>6</th>\n",
       "      <td>6</td>\n",
       "      <td>b80344d063b5ccb3212f76538f3d9e43d87dca9e</td>\n",
       "      <td>SODXRTY12AB0180F3B</td>\n",
       "      <td>1</td>\n",
       "    </tr>\n",
       "    <tr>\n",
       "      <th>7</th>\n",
       "      <td>7</td>\n",
       "      <td>b80344d063b5ccb3212f76538f3d9e43d87dca9e</td>\n",
       "      <td>SOFGUAY12AB017B0A8</td>\n",
       "      <td>1</td>\n",
       "    </tr>\n",
       "    <tr>\n",
       "      <th>8</th>\n",
       "      <td>8</td>\n",
       "      <td>b80344d063b5ccb3212f76538f3d9e43d87dca9e</td>\n",
       "      <td>SOFRQTD12A81C233C0</td>\n",
       "      <td>1</td>\n",
       "    </tr>\n",
       "    <tr>\n",
       "      <th>9</th>\n",
       "      <td>9</td>\n",
       "      <td>b80344d063b5ccb3212f76538f3d9e43d87dca9e</td>\n",
       "      <td>SOHQWYZ12A6D4FA701</td>\n",
       "      <td>1</td>\n",
       "    </tr>\n",
       "  </tbody>\n",
       "</table>\n",
       "</div>\n",
       "      <button class=\"colab-df-convert\" onclick=\"convertToInteractive('df-22d888b8-7019-48cb-9bbc-292b95b3db05')\"\n",
       "              title=\"Convert this dataframe to an interactive table.\"\n",
       "              style=\"display:none;\">\n",
       "        \n",
       "  <svg xmlns=\"http://www.w3.org/2000/svg\" height=\"24px\"viewBox=\"0 0 24 24\"\n",
       "       width=\"24px\">\n",
       "    <path d=\"M0 0h24v24H0V0z\" fill=\"none\"/>\n",
       "    <path d=\"M18.56 5.44l.94 2.06.94-2.06 2.06-.94-2.06-.94-.94-2.06-.94 2.06-2.06.94zm-11 1L8.5 8.5l.94-2.06 2.06-.94-2.06-.94L8.5 2.5l-.94 2.06-2.06.94zm10 10l.94 2.06.94-2.06 2.06-.94-2.06-.94-.94-2.06-.94 2.06-2.06.94z\"/><path d=\"M17.41 7.96l-1.37-1.37c-.4-.4-.92-.59-1.43-.59-.52 0-1.04.2-1.43.59L10.3 9.45l-7.72 7.72c-.78.78-.78 2.05 0 2.83L4 21.41c.39.39.9.59 1.41.59.51 0 1.02-.2 1.41-.59l7.78-7.78 2.81-2.81c.8-.78.8-2.07 0-2.86zM5.41 20L4 18.59l7.72-7.72 1.47 1.35L5.41 20z\"/>\n",
       "  </svg>\n",
       "      </button>\n",
       "      \n",
       "  <style>\n",
       "    .colab-df-container {\n",
       "      display:flex;\n",
       "      flex-wrap:wrap;\n",
       "      gap: 12px;\n",
       "    }\n",
       "\n",
       "    .colab-df-convert {\n",
       "      background-color: #E8F0FE;\n",
       "      border: none;\n",
       "      border-radius: 50%;\n",
       "      cursor: pointer;\n",
       "      display: none;\n",
       "      fill: #1967D2;\n",
       "      height: 32px;\n",
       "      padding: 0 0 0 0;\n",
       "      width: 32px;\n",
       "    }\n",
       "\n",
       "    .colab-df-convert:hover {\n",
       "      background-color: #E2EBFA;\n",
       "      box-shadow: 0px 1px 2px rgba(60, 64, 67, 0.3), 0px 1px 3px 1px rgba(60, 64, 67, 0.15);\n",
       "      fill: #174EA6;\n",
       "    }\n",
       "\n",
       "    [theme=dark] .colab-df-convert {\n",
       "      background-color: #3B4455;\n",
       "      fill: #D2E3FC;\n",
       "    }\n",
       "\n",
       "    [theme=dark] .colab-df-convert:hover {\n",
       "      background-color: #434B5C;\n",
       "      box-shadow: 0px 1px 3px 1px rgba(0, 0, 0, 0.15);\n",
       "      filter: drop-shadow(0px 1px 2px rgba(0, 0, 0, 0.3));\n",
       "      fill: #FFFFFF;\n",
       "    }\n",
       "  </style>\n",
       "\n",
       "      <script>\n",
       "        const buttonEl =\n",
       "          document.querySelector('#df-22d888b8-7019-48cb-9bbc-292b95b3db05 button.colab-df-convert');\n",
       "        buttonEl.style.display =\n",
       "          google.colab.kernel.accessAllowed ? 'block' : 'none';\n",
       "\n",
       "        async function convertToInteractive(key) {\n",
       "          const element = document.querySelector('#df-22d888b8-7019-48cb-9bbc-292b95b3db05');\n",
       "          const dataTable =\n",
       "            await google.colab.kernel.invokeFunction('convertToInteractive',\n",
       "                                                     [key], {});\n",
       "          if (!dataTable) return;\n",
       "\n",
       "          const docLinkHtml = 'Like what you see? Visit the ' +\n",
       "            '<a target=\"_blank\" href=https://colab.research.google.com/notebooks/data_table.ipynb>data table notebook</a>'\n",
       "            + ' to learn more about interactive tables.';\n",
       "          element.innerHTML = '';\n",
       "          dataTable['output_type'] = 'display_data';\n",
       "          await google.colab.output.renderOutput(dataTable, element);\n",
       "          const docLink = document.createElement('div');\n",
       "          docLink.innerHTML = docLinkHtml;\n",
       "          element.appendChild(docLink);\n",
       "        }\n",
       "      </script>\n",
       "    </div>\n",
       "  </div>\n",
       "  "
      ],
      "text/plain": [
       "   Unnamed: 0                                   user_id             song_id  \\\n",
       "0           0  b80344d063b5ccb3212f76538f3d9e43d87dca9e  SOAKIMP12A8C130995   \n",
       "1           1  b80344d063b5ccb3212f76538f3d9e43d87dca9e  SOBBMDR12A8C13253B   \n",
       "2           2  b80344d063b5ccb3212f76538f3d9e43d87dca9e  SOBXHDL12A81C204C0   \n",
       "3           3  b80344d063b5ccb3212f76538f3d9e43d87dca9e  SOBYHAJ12A6701BF1D   \n",
       "4           4  b80344d063b5ccb3212f76538f3d9e43d87dca9e  SODACBL12A8C13C273   \n",
       "5           5  b80344d063b5ccb3212f76538f3d9e43d87dca9e  SODDNQT12A6D4F5F7E   \n",
       "6           6  b80344d063b5ccb3212f76538f3d9e43d87dca9e  SODXRTY12AB0180F3B   \n",
       "7           7  b80344d063b5ccb3212f76538f3d9e43d87dca9e  SOFGUAY12AB017B0A8   \n",
       "8           8  b80344d063b5ccb3212f76538f3d9e43d87dca9e  SOFRQTD12A81C233C0   \n",
       "9           9  b80344d063b5ccb3212f76538f3d9e43d87dca9e  SOHQWYZ12A6D4FA701   \n",
       "\n",
       "   play_count  \n",
       "0           1  \n",
       "1           2  \n",
       "2           1  \n",
       "3           1  \n",
       "4           1  \n",
       "5           5  \n",
       "6           1  \n",
       "7           1  \n",
       "8           1  \n",
       "9           1  "
      ]
     },
     "execution_count": 4,
     "metadata": {},
     "output_type": "execute_result"
    }
   ],
   "source": [
    "# Display the first 10 records in count_df\n",
    "count_df.head(10)"
   ]
  },
  {
   "cell_type": "code",
   "execution_count": null,
   "metadata": {
    "colab": {
     "base_uri": "https://localhost:8080/",
     "height": 363
    },
    "id": "tV1ed0ApXpu3",
    "outputId": "882dc34b-adba-4a63-a391-b7a9992309fc"
   },
   "outputs": [
    {
     "data": {
      "text/html": [
       "\n",
       "  <div id=\"df-26e86f89-c134-4b72-a4d4-cd2e8cfb84b6\">\n",
       "    <div class=\"colab-df-container\">\n",
       "      <div>\n",
       "<style scoped>\n",
       "    .dataframe tbody tr th:only-of-type {\n",
       "        vertical-align: middle;\n",
       "    }\n",
       "\n",
       "    .dataframe tbody tr th {\n",
       "        vertical-align: top;\n",
       "    }\n",
       "\n",
       "    .dataframe thead th {\n",
       "        text-align: right;\n",
       "    }\n",
       "</style>\n",
       "<table border=\"1\" class=\"dataframe\">\n",
       "  <thead>\n",
       "    <tr style=\"text-align: right;\">\n",
       "      <th></th>\n",
       "      <th>song_id</th>\n",
       "      <th>title</th>\n",
       "      <th>release</th>\n",
       "      <th>artist_name</th>\n",
       "      <th>year</th>\n",
       "    </tr>\n",
       "  </thead>\n",
       "  <tbody>\n",
       "    <tr>\n",
       "      <th>999990</th>\n",
       "      <td>SOFAXZU12AB01881C4</td>\n",
       "      <td>Way Down</td>\n",
       "      <td>Way Down</td>\n",
       "      <td>Taylor Hawkins &amp; The Coattail Riders</td>\n",
       "      <td>2010</td>\n",
       "    </tr>\n",
       "    <tr>\n",
       "      <th>999991</th>\n",
       "      <td>SOYFFWW12A6701C135</td>\n",
       "      <td>So Many People</td>\n",
       "      <td>Four</td>\n",
       "      <td>Bah Samba</td>\n",
       "      <td>2002</td>\n",
       "    </tr>\n",
       "    <tr>\n",
       "      <th>999992</th>\n",
       "      <td>SOBODSE12A8C13EBD6</td>\n",
       "      <td>Inequality Street</td>\n",
       "      <td>No Daylights_ Nor Heeltaps</td>\n",
       "      <td>SKYCLAD</td>\n",
       "      <td>1996</td>\n",
       "    </tr>\n",
       "    <tr>\n",
       "      <th>999993</th>\n",
       "      <td>SOWCNSN12AB018070F</td>\n",
       "      <td>Taurus (Keenhouse Remix)</td>\n",
       "      <td>Taurus</td>\n",
       "      <td>Loose Shus</td>\n",
       "      <td>0</td>\n",
       "    </tr>\n",
       "    <tr>\n",
       "      <th>999994</th>\n",
       "      <td>SOVRJOO12A8C143C7A</td>\n",
       "      <td>Down Fo' The Kick Doe</td>\n",
       "      <td>Messy Marv Presents: Draped Up and Chipped Out...</td>\n",
       "      <td>Killer Mike feat. Gangsta Pill and Nario of Gr...</td>\n",
       "      <td>0</td>\n",
       "    </tr>\n",
       "    <tr>\n",
       "      <th>999995</th>\n",
       "      <td>SOTXAME12AB018F136</td>\n",
       "      <td>O Samba Da Vida</td>\n",
       "      <td>Pacha V.I.P.</td>\n",
       "      <td>Kiko Navarro</td>\n",
       "      <td>0</td>\n",
       "    </tr>\n",
       "    <tr>\n",
       "      <th>999996</th>\n",
       "      <td>SOXQYIQ12A8C137FBB</td>\n",
       "      <td>Jago Chhadeo</td>\n",
       "      <td>Naale Baba Lassi Pee Gya</td>\n",
       "      <td>Kuldeep Manak</td>\n",
       "      <td>0</td>\n",
       "    </tr>\n",
       "    <tr>\n",
       "      <th>999997</th>\n",
       "      <td>SOHODZI12A8C137BB3</td>\n",
       "      <td>Novemba</td>\n",
       "      <td>Dub_Connected: electronic music</td>\n",
       "      <td>Gabriel Le Mar</td>\n",
       "      <td>0</td>\n",
       "    </tr>\n",
       "    <tr>\n",
       "      <th>999998</th>\n",
       "      <td>SOLXGOR12A81C21EB7</td>\n",
       "      <td>Faraday</td>\n",
       "      <td>The Trance Collection Vol. 2</td>\n",
       "      <td>Elude</td>\n",
       "      <td>0</td>\n",
       "    </tr>\n",
       "    <tr>\n",
       "      <th>999999</th>\n",
       "      <td>SOWXJXQ12AB0189F43</td>\n",
       "      <td>Fernweh feat. Sektion Kuchikäschtli</td>\n",
       "      <td>So Oder So</td>\n",
       "      <td>Texta</td>\n",
       "      <td>2004</td>\n",
       "    </tr>\n",
       "  </tbody>\n",
       "</table>\n",
       "</div>\n",
       "      <button class=\"colab-df-convert\" onclick=\"convertToInteractive('df-26e86f89-c134-4b72-a4d4-cd2e8cfb84b6')\"\n",
       "              title=\"Convert this dataframe to an interactive table.\"\n",
       "              style=\"display:none;\">\n",
       "        \n",
       "  <svg xmlns=\"http://www.w3.org/2000/svg\" height=\"24px\"viewBox=\"0 0 24 24\"\n",
       "       width=\"24px\">\n",
       "    <path d=\"M0 0h24v24H0V0z\" fill=\"none\"/>\n",
       "    <path d=\"M18.56 5.44l.94 2.06.94-2.06 2.06-.94-2.06-.94-.94-2.06-.94 2.06-2.06.94zm-11 1L8.5 8.5l.94-2.06 2.06-.94-2.06-.94L8.5 2.5l-.94 2.06-2.06.94zm10 10l.94 2.06.94-2.06 2.06-.94-2.06-.94-.94-2.06-.94 2.06-2.06.94z\"/><path d=\"M17.41 7.96l-1.37-1.37c-.4-.4-.92-.59-1.43-.59-.52 0-1.04.2-1.43.59L10.3 9.45l-7.72 7.72c-.78.78-.78 2.05 0 2.83L4 21.41c.39.39.9.59 1.41.59.51 0 1.02-.2 1.41-.59l7.78-7.78 2.81-2.81c.8-.78.8-2.07 0-2.86zM5.41 20L4 18.59l7.72-7.72 1.47 1.35L5.41 20z\"/>\n",
       "  </svg>\n",
       "      </button>\n",
       "      \n",
       "  <style>\n",
       "    .colab-df-container {\n",
       "      display:flex;\n",
       "      flex-wrap:wrap;\n",
       "      gap: 12px;\n",
       "    }\n",
       "\n",
       "    .colab-df-convert {\n",
       "      background-color: #E8F0FE;\n",
       "      border: none;\n",
       "      border-radius: 50%;\n",
       "      cursor: pointer;\n",
       "      display: none;\n",
       "      fill: #1967D2;\n",
       "      height: 32px;\n",
       "      padding: 0 0 0 0;\n",
       "      width: 32px;\n",
       "    }\n",
       "\n",
       "    .colab-df-convert:hover {\n",
       "      background-color: #E2EBFA;\n",
       "      box-shadow: 0px 1px 2px rgba(60, 64, 67, 0.3), 0px 1px 3px 1px rgba(60, 64, 67, 0.15);\n",
       "      fill: #174EA6;\n",
       "    }\n",
       "\n",
       "    [theme=dark] .colab-df-convert {\n",
       "      background-color: #3B4455;\n",
       "      fill: #D2E3FC;\n",
       "    }\n",
       "\n",
       "    [theme=dark] .colab-df-convert:hover {\n",
       "      background-color: #434B5C;\n",
       "      box-shadow: 0px 1px 3px 1px rgba(0, 0, 0, 0.15);\n",
       "      filter: drop-shadow(0px 1px 2px rgba(0, 0, 0, 0.3));\n",
       "      fill: #FFFFFF;\n",
       "    }\n",
       "  </style>\n",
       "\n",
       "      <script>\n",
       "        const buttonEl =\n",
       "          document.querySelector('#df-26e86f89-c134-4b72-a4d4-cd2e8cfb84b6 button.colab-df-convert');\n",
       "        buttonEl.style.display =\n",
       "          google.colab.kernel.accessAllowed ? 'block' : 'none';\n",
       "\n",
       "        async function convertToInteractive(key) {\n",
       "          const element = document.querySelector('#df-26e86f89-c134-4b72-a4d4-cd2e8cfb84b6');\n",
       "          const dataTable =\n",
       "            await google.colab.kernel.invokeFunction('convertToInteractive',\n",
       "                                                     [key], {});\n",
       "          if (!dataTable) return;\n",
       "\n",
       "          const docLinkHtml = 'Like what you see? Visit the ' +\n",
       "            '<a target=\"_blank\" href=https://colab.research.google.com/notebooks/data_table.ipynb>data table notebook</a>'\n",
       "            + ' to learn more about interactive tables.';\n",
       "          element.innerHTML = '';\n",
       "          dataTable['output_type'] = 'display_data';\n",
       "          await google.colab.output.renderOutput(dataTable, element);\n",
       "          const docLink = document.createElement('div');\n",
       "          docLink.innerHTML = docLinkHtml;\n",
       "          element.appendChild(docLink);\n",
       "        }\n",
       "      </script>\n",
       "    </div>\n",
       "  </div>\n",
       "  "
      ],
      "text/plain": [
       "                   song_id                                title  \\\n",
       "999990  SOFAXZU12AB01881C4                             Way Down   \n",
       "999991  SOYFFWW12A6701C135                       So Many People   \n",
       "999992  SOBODSE12A8C13EBD6                    Inequality Street   \n",
       "999993  SOWCNSN12AB018070F             Taurus (Keenhouse Remix)   \n",
       "999994  SOVRJOO12A8C143C7A                Down Fo' The Kick Doe   \n",
       "999995  SOTXAME12AB018F136                      O Samba Da Vida   \n",
       "999996  SOXQYIQ12A8C137FBB                         Jago Chhadeo   \n",
       "999997  SOHODZI12A8C137BB3                              Novemba   \n",
       "999998  SOLXGOR12A81C21EB7                              Faraday   \n",
       "999999  SOWXJXQ12AB0189F43  Fernweh feat. Sektion Kuchikäschtli   \n",
       "\n",
       "                                                  release  \\\n",
       "999990                                           Way Down   \n",
       "999991                                               Four   \n",
       "999992                         No Daylights_ Nor Heeltaps   \n",
       "999993                                             Taurus   \n",
       "999994  Messy Marv Presents: Draped Up and Chipped Out...   \n",
       "999995                                       Pacha V.I.P.   \n",
       "999996                           Naale Baba Lassi Pee Gya   \n",
       "999997                    Dub_Connected: electronic music   \n",
       "999998                       The Trance Collection Vol. 2   \n",
       "999999                                         So Oder So   \n",
       "\n",
       "                                              artist_name  year  \n",
       "999990               Taylor Hawkins & The Coattail Riders  2010  \n",
       "999991                                          Bah Samba  2002  \n",
       "999992                                            SKYCLAD  1996  \n",
       "999993                                         Loose Shus     0  \n",
       "999994  Killer Mike feat. Gangsta Pill and Nario of Gr...     0  \n",
       "999995                                       Kiko Navarro     0  \n",
       "999996                                      Kuldeep Manak     0  \n",
       "999997                                     Gabriel Le Mar     0  \n",
       "999998                                              Elude     0  \n",
       "999999                                              Texta  2004  "
      ]
     },
     "execution_count": 396,
     "metadata": {},
     "output_type": "execute_result"
    }
   ],
   "source": [
    "# Display the last 10 records in song_df\n",
    "song_df.tail(10)"
   ]
  },
  {
   "cell_type": "markdown",
   "metadata": {
    "id": "bvKb5FHcXzcN"
   },
   "source": [
    "### **Initial Data Exploratory Analysis**"
   ]
  },
  {
   "cell_type": "code",
   "execution_count": null,
   "metadata": {
    "colab": {
     "base_uri": "https://localhost:8080/"
    },
    "id": "yyoHc_cnX19J",
    "outputId": "2fa1e424-ecdc-4266-ea63-db4674ec687f"
   },
   "outputs": [
    {
     "name": "stdout",
     "output_type": "stream",
     "text": [
      "<class 'pandas.core.frame.DataFrame'>\n",
      "RangeIndex: 2000000 entries, 0 to 1999999\n",
      "Data columns (total 4 columns):\n",
      " #   Column      Dtype \n",
      "---  ------      ----- \n",
      " 0   Unnamed: 0  int64 \n",
      " 1   user_id     object\n",
      " 2   song_id     object\n",
      " 3   play_count  int64 \n",
      "dtypes: int64(2), object(2)\n",
      "memory usage: 61.0+ MB\n"
     ]
    }
   ],
   "source": [
    "# Display the count_df info\n",
    "count_df.info()"
   ]
  },
  {
   "cell_type": "code",
   "execution_count": null,
   "metadata": {
    "colab": {
     "base_uri": "https://localhost:8080/"
    },
    "id": "UpHosrlJonVq",
    "outputId": "00e8d9f8-079f-45ae-faf7-0b54df6c6b08"
   },
   "outputs": [
    {
     "data": {
      "text/plain": [
       "(2000000, 4)"
      ]
     },
     "execution_count": 398,
     "metadata": {},
     "output_type": "execute_result"
    }
   ],
   "source": [
    "# Display the shape of count_df\n",
    "count_df.shape"
   ]
  },
  {
   "cell_type": "code",
   "execution_count": null,
   "metadata": {
    "colab": {
     "base_uri": "https://localhost:8080/"
    },
    "id": "9tf6css-ctLv",
    "outputId": "116eac63-d01d-450a-d06c-84635277fcd6"
   },
   "outputs": [
    {
     "data": {
      "text/plain": [
       "Unnamed: 0    0\n",
       "user_id       0\n",
       "song_id       0\n",
       "play_count    0\n",
       "dtype: int64"
      ]
     },
     "execution_count": 7,
     "metadata": {},
     "output_type": "execute_result"
    }
   ],
   "source": [
    "# Check for missing values in count_df\n",
    "count_df.isna().sum()"
   ]
  },
  {
   "cell_type": "code",
   "execution_count": null,
   "metadata": {
    "colab": {
     "base_uri": "https://localhost:8080/"
    },
    "id": "-J69Al_xJaQE",
    "outputId": "e85667a1-b742-490a-bf37-a2a55b1dd8a8"
   },
   "outputs": [
    {
     "data": {
      "text/plain": [
       "10000"
      ]
     },
     "execution_count": 8,
     "metadata": {},
     "output_type": "execute_result"
    }
   ],
   "source": [
    "# Number of unique song IDs in count_df\n",
    "count_df['song_id'].nunique()"
   ]
  },
  {
   "cell_type": "code",
   "execution_count": null,
   "metadata": {
    "colab": {
     "base_uri": "https://localhost:8080/",
     "height": 300
    },
    "id": "rjn-rL-ZU-Is",
    "outputId": "8f8e1388-16c3-4fd7-bd74-1f91f058db52"
   },
   "outputs": [
    {
     "data": {
      "text/html": [
       "\n",
       "  <div id=\"df-1787899a-9fbe-41e7-a1d0-a66647e0bd43\">\n",
       "    <div class=\"colab-df-container\">\n",
       "      <div>\n",
       "<style scoped>\n",
       "    .dataframe tbody tr th:only-of-type {\n",
       "        vertical-align: middle;\n",
       "    }\n",
       "\n",
       "    .dataframe tbody tr th {\n",
       "        vertical-align: top;\n",
       "    }\n",
       "\n",
       "    .dataframe thead th {\n",
       "        text-align: right;\n",
       "    }\n",
       "</style>\n",
       "<table border=\"1\" class=\"dataframe\">\n",
       "  <thead>\n",
       "    <tr style=\"text-align: right;\">\n",
       "      <th></th>\n",
       "      <th>Unnamed: 0</th>\n",
       "      <th>play_count</th>\n",
       "    </tr>\n",
       "  </thead>\n",
       "  <tbody>\n",
       "    <tr>\n",
       "      <th>count</th>\n",
       "      <td>2.000000e+06</td>\n",
       "      <td>2.000000e+06</td>\n",
       "    </tr>\n",
       "    <tr>\n",
       "      <th>mean</th>\n",
       "      <td>9.999995e+05</td>\n",
       "      <td>3.045485e+00</td>\n",
       "    </tr>\n",
       "    <tr>\n",
       "      <th>std</th>\n",
       "      <td>5.773504e+05</td>\n",
       "      <td>6.579720e+00</td>\n",
       "    </tr>\n",
       "    <tr>\n",
       "      <th>min</th>\n",
       "      <td>0.000000e+00</td>\n",
       "      <td>1.000000e+00</td>\n",
       "    </tr>\n",
       "    <tr>\n",
       "      <th>25%</th>\n",
       "      <td>4.999998e+05</td>\n",
       "      <td>1.000000e+00</td>\n",
       "    </tr>\n",
       "    <tr>\n",
       "      <th>50%</th>\n",
       "      <td>9.999995e+05</td>\n",
       "      <td>1.000000e+00</td>\n",
       "    </tr>\n",
       "    <tr>\n",
       "      <th>75%</th>\n",
       "      <td>1.499999e+06</td>\n",
       "      <td>3.000000e+00</td>\n",
       "    </tr>\n",
       "    <tr>\n",
       "      <th>max</th>\n",
       "      <td>1.999999e+06</td>\n",
       "      <td>2.213000e+03</td>\n",
       "    </tr>\n",
       "  </tbody>\n",
       "</table>\n",
       "</div>\n",
       "      <button class=\"colab-df-convert\" onclick=\"convertToInteractive('df-1787899a-9fbe-41e7-a1d0-a66647e0bd43')\"\n",
       "              title=\"Convert this dataframe to an interactive table.\"\n",
       "              style=\"display:none;\">\n",
       "        \n",
       "  <svg xmlns=\"http://www.w3.org/2000/svg\" height=\"24px\"viewBox=\"0 0 24 24\"\n",
       "       width=\"24px\">\n",
       "    <path d=\"M0 0h24v24H0V0z\" fill=\"none\"/>\n",
       "    <path d=\"M18.56 5.44l.94 2.06.94-2.06 2.06-.94-2.06-.94-.94-2.06-.94 2.06-2.06.94zm-11 1L8.5 8.5l.94-2.06 2.06-.94-2.06-.94L8.5 2.5l-.94 2.06-2.06.94zm10 10l.94 2.06.94-2.06 2.06-.94-2.06-.94-.94-2.06-.94 2.06-2.06.94z\"/><path d=\"M17.41 7.96l-1.37-1.37c-.4-.4-.92-.59-1.43-.59-.52 0-1.04.2-1.43.59L10.3 9.45l-7.72 7.72c-.78.78-.78 2.05 0 2.83L4 21.41c.39.39.9.59 1.41.59.51 0 1.02-.2 1.41-.59l7.78-7.78 2.81-2.81c.8-.78.8-2.07 0-2.86zM5.41 20L4 18.59l7.72-7.72 1.47 1.35L5.41 20z\"/>\n",
       "  </svg>\n",
       "      </button>\n",
       "      \n",
       "  <style>\n",
       "    .colab-df-container {\n",
       "      display:flex;\n",
       "      flex-wrap:wrap;\n",
       "      gap: 12px;\n",
       "    }\n",
       "\n",
       "    .colab-df-convert {\n",
       "      background-color: #E8F0FE;\n",
       "      border: none;\n",
       "      border-radius: 50%;\n",
       "      cursor: pointer;\n",
       "      display: none;\n",
       "      fill: #1967D2;\n",
       "      height: 32px;\n",
       "      padding: 0 0 0 0;\n",
       "      width: 32px;\n",
       "    }\n",
       "\n",
       "    .colab-df-convert:hover {\n",
       "      background-color: #E2EBFA;\n",
       "      box-shadow: 0px 1px 2px rgba(60, 64, 67, 0.3), 0px 1px 3px 1px rgba(60, 64, 67, 0.15);\n",
       "      fill: #174EA6;\n",
       "    }\n",
       "\n",
       "    [theme=dark] .colab-df-convert {\n",
       "      background-color: #3B4455;\n",
       "      fill: #D2E3FC;\n",
       "    }\n",
       "\n",
       "    [theme=dark] .colab-df-convert:hover {\n",
       "      background-color: #434B5C;\n",
       "      box-shadow: 0px 1px 3px 1px rgba(0, 0, 0, 0.15);\n",
       "      filter: drop-shadow(0px 1px 2px rgba(0, 0, 0, 0.3));\n",
       "      fill: #FFFFFF;\n",
       "    }\n",
       "  </style>\n",
       "\n",
       "      <script>\n",
       "        const buttonEl =\n",
       "          document.querySelector('#df-1787899a-9fbe-41e7-a1d0-a66647e0bd43 button.colab-df-convert');\n",
       "        buttonEl.style.display =\n",
       "          google.colab.kernel.accessAllowed ? 'block' : 'none';\n",
       "\n",
       "        async function convertToInteractive(key) {\n",
       "          const element = document.querySelector('#df-1787899a-9fbe-41e7-a1d0-a66647e0bd43');\n",
       "          const dataTable =\n",
       "            await google.colab.kernel.invokeFunction('convertToInteractive',\n",
       "                                                     [key], {});\n",
       "          if (!dataTable) return;\n",
       "\n",
       "          const docLinkHtml = 'Like what you see? Visit the ' +\n",
       "            '<a target=\"_blank\" href=https://colab.research.google.com/notebooks/data_table.ipynb>data table notebook</a>'\n",
       "            + ' to learn more about interactive tables.';\n",
       "          element.innerHTML = '';\n",
       "          dataTable['output_type'] = 'display_data';\n",
       "          await google.colab.output.renderOutput(dataTable, element);\n",
       "          const docLink = document.createElement('div');\n",
       "          docLink.innerHTML = docLinkHtml;\n",
       "          element.appendChild(docLink);\n",
       "        }\n",
       "      </script>\n",
       "    </div>\n",
       "  </div>\n",
       "  "
      ],
      "text/plain": [
       "         Unnamed: 0    play_count\n",
       "count  2.000000e+06  2.000000e+06\n",
       "mean   9.999995e+05  3.045485e+00\n",
       "std    5.773504e+05  6.579720e+00\n",
       "min    0.000000e+00  1.000000e+00\n",
       "25%    4.999998e+05  1.000000e+00\n",
       "50%    9.999995e+05  1.000000e+00\n",
       "75%    1.499999e+06  3.000000e+00\n",
       "max    1.999999e+06  2.213000e+03"
      ]
     },
     "execution_count": 9,
     "metadata": {},
     "output_type": "execute_result"
    }
   ],
   "source": [
    "# General statistics on count_df\n",
    "count_df.describe()"
   ]
  },
  {
   "cell_type": "code",
   "execution_count": null,
   "metadata": {
    "colab": {
     "base_uri": "https://localhost:8080/"
    },
    "id": "rz3zDx_LX42y",
    "outputId": "c602b7e9-8bcc-4caf-d694-d1f1fdad607a"
   },
   "outputs": [
    {
     "name": "stdout",
     "output_type": "stream",
     "text": [
      "<class 'pandas.core.frame.DataFrame'>\n",
      "RangeIndex: 1000000 entries, 0 to 999999\n",
      "Data columns (total 5 columns):\n",
      " #   Column       Non-Null Count    Dtype \n",
      "---  ------       --------------    ----- \n",
      " 0   song_id      1000000 non-null  object\n",
      " 1   title        999985 non-null   object\n",
      " 2   release      999995 non-null   object\n",
      " 3   artist_name  1000000 non-null  object\n",
      " 4   year         1000000 non-null  int64 \n",
      "dtypes: int64(1), object(4)\n",
      "memory usage: 38.1+ MB\n"
     ]
    }
   ],
   "source": [
    "# Display the song_df info\n",
    "song_df.info()"
   ]
  },
  {
   "cell_type": "code",
   "execution_count": null,
   "metadata": {
    "colab": {
     "base_uri": "https://localhost:8080/"
    },
    "id": "1IDhONgCow1s",
    "outputId": "2310eca5-1e8f-4993-a931-198ade4f52f4"
   },
   "outputs": [
    {
     "data": {
      "text/plain": [
       "(1000000, 5)"
      ]
     },
     "execution_count": 399,
     "metadata": {},
     "output_type": "execute_result"
    }
   ],
   "source": [
    "# Display the shape of song_df\n",
    "song_df.shape"
   ]
  },
  {
   "cell_type": "code",
   "execution_count": null,
   "metadata": {
    "colab": {
     "base_uri": "https://localhost:8080/"
    },
    "id": "BSxC0CC3c8bB",
    "outputId": "7b6f6518-f1e5-4293-8b46-bd7b8ff57ae0"
   },
   "outputs": [
    {
     "data": {
      "text/plain": [
       "song_id         0\n",
       "title          15\n",
       "release         5\n",
       "artist_name     0\n",
       "year            0\n",
       "dtype: int64"
      ]
     },
     "execution_count": 11,
     "metadata": {},
     "output_type": "execute_result"
    }
   ],
   "source": [
    "# Check for missing values in song_df\n",
    "song_df.isna().sum()"
   ]
  },
  {
   "cell_type": "code",
   "execution_count": null,
   "metadata": {
    "colab": {
     "base_uri": "https://localhost:8080/"
    },
    "id": "4P_sLq6MJiqE",
    "outputId": "0b541128-9c57-43a1-aa36-15a3d5473241"
   },
   "outputs": [
    {
     "data": {
      "text/plain": [
       "999056"
      ]
     },
     "execution_count": 12,
     "metadata": {},
     "output_type": "execute_result"
    }
   ],
   "source": [
    "# Number of unique song IDs in song_df\n",
    "song_df['song_id'].nunique()"
   ]
  },
  {
   "cell_type": "code",
   "execution_count": null,
   "metadata": {
    "colab": {
     "base_uri": "https://localhost:8080/"
    },
    "id": "aUD4Od5xdLgH",
    "outputId": "5622499b-7746-4cd9-90da-aea87aed5636"
   },
   "outputs": [
    {
     "data": {
      "text/plain": [
       "702428"
      ]
     },
     "execution_count": 13,
     "metadata": {},
     "output_type": "execute_result"
    }
   ],
   "source": [
    "# Number of unique title in song_df\n",
    "song_df['title'].nunique()"
   ]
  },
  {
   "cell_type": "markdown",
   "metadata": {
    "id": "Ze2TlWxpYadn"
   },
   "source": [
    "#### **Observations and Insights:**\n",
    "\n",
    "1. Observations about `count_df`:\n",
    "- - There are `2,000,000` entries.\n",
    "- `10,000` unique song IDs in `count_df`, which means that, on average, there are aproximately `200` entries for each song, i.e., 200 different users listened to one particular song. This is a gross estimation, of course!\n",
    "- `Unnamed: 0` and `play_count` have integer values, while `user_id` and `song_id` are strings.\n",
    "- There are no missing values.\n",
    "- The average number of times a song was played is 3.\n",
    "- The minimum number of times a song was played is 1.\n",
    "- The maximum number of times a song was played is 2213. This value seems like a clear outlier, or maybe someone just loves a song that much!\n",
    "\n",
    "2. Observations about `song_df`:\n",
    "- There are `1,000,000` entries.\n",
    "- There are `999,056` unique song IDs, which means that there are very few rows sharing the same song ID.\n",
    "- There are `702,428` unique song titles, which means that there are a lot of different songs with the same title.\n",
    "- All the attributes are strings, with the exception of `year`, which is an integer number. \n",
    "- There are very few missing values:\n",
    "  - `15` missing values for `title`, and\n",
    "  - `5` missing values for `release`. \n",
    "\n"
   ]
  },
  {
   "cell_type": "markdown",
   "metadata": {
    "id": "BpjvBhB8Zmz6"
   },
   "source": [
    "### **Data Preprocessing**\n",
    "\n",
    "The **data preprocessing steps** we performed are listed below:\n",
    "\n",
    "1. **Merge `count_df` and `song_df`**, the two dataframes with original data, and **drop** the `Unnamed: 0` column.\n",
    "  - Duplicated records in the `song_df` dataframe were discarded during the merge.\n",
    "  - The type of the merge is `left`-merge, as we need to include `all` the records in the `count_df`.\n",
    "  - The `merge`-ing column is `song_id`.\n",
    "2. **Encode the `user_id` and `song_id` attributes**, using a label encoder. This step is needed, as the original IDs are strings, and not numeric values.\n",
    "3. **Filter the dataset**, by removing, in this order:\n",
    "  \n",
    "  a. users who have listened to less than 90 songs, and \n",
    "  \n",
    "  b. songs that have been listened to by less than 120 users.\n",
    "4. **Generate a rating scale**. In order to create a semblance of a rating system, we have restricted our data to users that have listened to a song at most 5 times. In this way, `play_count` can be used as a rating system, with values between `1` and `5`.  \n",
    "5. **Drop the entries that have `year == 0`**\n",
    "\n",
    "After merging the two datasets, `count_df` and `song_df`, the resulting dataset contains `2,000,000` rows, and `7` columns. From a computing-resources standpoint, this volume of data can be computationally intensive, and, consequently, a long processing time. This, in turn, can impede on the efficiency of the training and evaluation of our models. To address this performance issue, we filtered our data, and reduced its size to `4.86%` of the original size. The final dataset we will be used for modeling contains `97,227` rows, and `7` columns.\n",
    "\n",
    "\n",
    "The following table summarizes the data size reduction obtained in steps 3-5\n",
    "\n",
    "\n",
    "|Step|Shape before step|Shape after step|\n",
    "|-:--|-----------------|----------------|\n",
    "| 3a | (2000000, 7) |  (438390, 7) |\n",
    "| 3b | (438390, 7) |  (130398, 7) |\n",
    "| 4 | (130398, 7) | (117876, 7) |\n",
    "| 5 | (117876, 7) | (97227, 7) |\n"
   ]
  },
  {
   "cell_type": "markdown",
   "metadata": {
    "id": "y4qciw4TfOLK"
   },
   "source": [
    "#### 1. **Merge `count_df` and `song_df`**, the two dataframes with original data."
   ]
  },
  {
   "cell_type": "code",
   "execution_count": null,
   "metadata": {
    "id": "oTeurvID2T9U"
   },
   "outputs": [],
   "source": [
    "# Merge the count_df and song_df data on song_id. \n",
    "df = count_df.merge(song_df.drop_duplicates('song_id'), how='left', on='song_id').drop_duplicates()\n",
    "# Drop the column 'Unnamed: 0'\n",
    "df = df.drop(['Unnamed: 0'], axis=1)\n"
   ]
  },
  {
   "cell_type": "code",
   "execution_count": null,
   "metadata": {
    "colab": {
     "base_uri": "https://localhost:8080/"
    },
    "id": "9VVK14iuTLvU",
    "outputId": "dab0355f-527b-419b-c20e-92c4d45f497c"
   },
   "outputs": [
    {
     "name": "stdout",
     "output_type": "stream",
     "text": [
      "<class 'pandas.core.frame.DataFrame'>\n",
      "Int64Index: 2000000 entries, 0 to 1999999\n",
      "Data columns (total 7 columns):\n",
      " #   Column       Dtype \n",
      "---  ------       ----- \n",
      " 0   user_id      object\n",
      " 1   song_id      object\n",
      " 2   play_count   int64 \n",
      " 3   title        object\n",
      " 4   release      object\n",
      " 5   artist_name  object\n",
      " 6   year         int64 \n",
      "dtypes: int64(2), object(5)\n",
      "memory usage: 122.1+ MB\n"
     ]
    }
   ],
   "source": [
    "df.info()"
   ]
  },
  {
   "cell_type": "markdown",
   "metadata": {
    "id": "DpxqYLalfYxA"
   },
   "source": [
    "#### 2. **Encode the `user_id` and `song_id` attributes**"
   ]
  },
  {
   "cell_type": "code",
   "execution_count": null,
   "metadata": {
    "id": "oxeoOVxh2T9U"
   },
   "outputs": [],
   "source": [
    "# Apply a label-encoding for user_id and song_id attributes.\n",
    "from sklearn.preprocessing import LabelEncoder\n",
    "label_encoder = LabelEncoder()\n",
    "df['user_id'] = label_encoder.fit_transform(df['user_id']) \n",
    "df['song_id'] = label_encoder.fit_transform(df['song_id'])\n"
   ]
  },
  {
   "cell_type": "markdown",
   "metadata": {
    "id": "k42ZQDrVfgC5"
   },
   "source": [
    "#### 3. **Filter the dataset**\n"
   ]
  },
  {
   "cell_type": "code",
   "execution_count": null,
   "metadata": {
    "colab": {
     "base_uri": "https://localhost:8080/"
    },
    "id": "oVCZBD6uIFA_",
    "outputId": "6a15ddbd-2891-4b12-e1a8-28a7093cd19c"
   },
   "outputs": [
    {
     "name": "stdout",
     "output_type": "stream",
     "text": [
      "\u001b[1m\u001b[92mOriginal shape of df: (2000000, 7)\u001b[0m\n"
     ]
    }
   ],
   "source": [
    "print(clr.S+'Original shape of df: {}'.format(df.shape)+clr.E)"
   ]
  },
  {
   "cell_type": "markdown",
   "metadata": {
    "id": "AjtJL392cTVR"
   },
   "source": [
    "#### **3a. Remove the users who have listened to less than 90 songs**"
   ]
  },
  {
   "cell_type": "code",
   "execution_count": null,
   "metadata": {
    "id": "S57X9-3MDxsz"
   },
   "outputs": [],
   "source": [
    "# Group data on user_id, and count how many different songs each user has listened to.\n",
    "group_users = df.groupby('user_id').count().reset_index(names=['user_id'])\n",
    "# Drop the users that have listened to less than 90 songs.\n",
    "df = df.loc[~df['user_id'].isin(group_users[group_users['play_count'] < 90]['user_id'])]"
   ]
  },
  {
   "cell_type": "code",
   "execution_count": null,
   "metadata": {
    "colab": {
     "base_uri": "https://localhost:8080/"
    },
    "id": "wM6fk3EuHzi_",
    "outputId": "82a832bf-25eb-49f2-81bb-69b6ec9e2bc8"
   },
   "outputs": [
    {
     "name": "stdout",
     "output_type": "stream",
     "text": [
      "\u001b[1m\u001b[92mShape of df after removing the users that have listened to less than 90 songs: (438390, 7)\u001b[0m\n"
     ]
    }
   ],
   "source": [
    "print(clr.S+'Shape of df after removing the users that have listened to less than 90 songs: {}'.format(df.shape)+clr.E)"
   ]
  },
  {
   "cell_type": "markdown",
   "metadata": {
    "id": "y6eW1O6Kc1ok"
   },
   "source": [
    "#### **3b. Remove the songs that have been listened to by less than 120 users**"
   ]
  },
  {
   "cell_type": "code",
   "execution_count": null,
   "metadata": {
    "id": "hAR_Rv5bD2yT"
   },
   "outputs": [],
   "source": [
    "# Group data on song_id, and count how many different users listened to each song.\n",
    "group_songs = df.groupby('song_id').count().reset_index(names=['song_id'])\n",
    "# Drop the songs that have been listened to by less than 120 users.\n",
    "df = df.loc[~df['song_id'].isin(group_songs[group_songs['play_count'] < 120]['song_id'])]"
   ]
  },
  {
   "cell_type": "code",
   "execution_count": null,
   "metadata": {
    "colab": {
     "base_uri": "https://localhost:8080/"
    },
    "id": "yuhZwmfoHzFR",
    "outputId": "1e3868e0-e15f-45b8-f0b2-8e4cc18a15e0"
   },
   "outputs": [
    {
     "name": "stdout",
     "output_type": "stream",
     "text": [
      "\u001b[1m\u001b[92mShape of df after removing the songs that have been listened to by less than 120 users: (130398, 7)\u001b[0m\n"
     ]
    }
   ],
   "source": [
    "print(clr.S+'Shape of df after removing the songs that have been listened to by less than 120 users: {}'.format(df.shape)+clr.E)"
   ]
  },
  {
   "cell_type": "markdown",
   "metadata": {
    "id": "iMVwOyrYfnnh"
   },
   "source": [
    "#### 4. **Generate a rating scale**"
   ]
  },
  {
   "cell_type": "code",
   "execution_count": null,
   "metadata": {
    "id": "wMAgnPZXe21Z"
   },
   "outputs": [],
   "source": [
    "# Drop records with play_count more than(>) 5\n",
    "df = df[df.play_count <= 5]"
   ]
  },
  {
   "cell_type": "code",
   "execution_count": null,
   "metadata": {
    "colab": {
     "base_uri": "https://localhost:8080/"
    },
    "id": "jDyfLTgAJ5bJ",
    "outputId": "c8495028-885b-4480-977c-463db151b8a0"
   },
   "outputs": [
    {
     "name": "stdout",
     "output_type": "stream",
     "text": [
      "\u001b[1m\u001b[92mShape of df after removing the records with a play count greater than 5: (117876, 7)\u001b[0m\n"
     ]
    }
   ],
   "source": [
    "print(clr.S+'Shape of df after removing the records with a play count greater than 5: {}'.format(df.shape)+clr.E)"
   ]
  },
  {
   "cell_type": "markdown",
   "metadata": {
    "id": "1x7RVjXJfvEG"
   },
   "source": [
    "#### 5. **Drop the entries that have `year = 0`**"
   ]
  },
  {
   "cell_type": "code",
   "execution_count": null,
   "metadata": {
    "id": "T14L1jzQfJsr"
   },
   "outputs": [],
   "source": [
    "# Dropping all the records that have the `year = 0`.\n",
    "df_final = df[df['year'] > 0]\n"
   ]
  },
  {
   "cell_type": "code",
   "execution_count": null,
   "metadata": {
    "colab": {
     "base_uri": "https://localhost:8080/"
    },
    "id": "9Q9PH1RMe676",
    "outputId": "d908ebb1-466d-4868-b4f9-e4f0643635e2"
   },
   "outputs": [
    {
     "name": "stdout",
     "output_type": "stream",
     "text": [
      "\u001b[1m\u001b[92mThe final shape of the df: (97227, 7)\u001b[0m\n"
     ]
    }
   ],
   "source": [
    "# The shape of the preprocessed data\n",
    "print(clr.S+'The final shape of the df: {}'.format(df_final.shape)+clr.E)"
   ]
  },
  {
   "cell_type": "markdown",
   "metadata": {
    "id": "dk14KMF-UFkT"
   },
   "source": [
    "# 4. Helper Functions\n",
    "\n"
   ]
  },
  {
   "cell_type": "code",
   "execution_count": null,
   "metadata": {
    "id": "L7CdlozMUZeA"
   },
   "outputs": [],
   "source": [
    "# ========== General Functions ==========\n",
    "\n",
    "# ========== Function show_values_on_bars ==========\n",
    "def show_values_on_bars(axs, h_v='v', space=0.4, int_display=True):\n",
    "    \"\"\"\n",
    "    Plots the value at the end of the a seaborn barplot.\n",
    "    Params:\n",
    "      axs: the ax of the plot\n",
    "      h_v: weather or not the barplot is vertical/ horizontal\n",
    "      int_display: boolean indicating if we want the displayed numbers to be converted or not to int.\n",
    "    \"\"\"\n",
    "    \n",
    "    def _show_on_single_plot(ax):\n",
    "        if h_v == 'v':\n",
    "            for p in ax.patches:\n",
    "                _x = p.get_x() + p.get_width() / 2\n",
    "                _y = p.get_y() + p.get_height()\n",
    "                # if int_display, convert the number into int.\n",
    "                if int_display:\n",
    "                    value = int(p.get_height())\n",
    "                # otherwise, display the real number rounded to 2 decimals.\n",
    "                else:\n",
    "                    value = round(p.get_height(),2)\n",
    "                ax.text(_x, _y, format(value, ','), ha='center', weight='bold') \n",
    "        elif h_v == 'h':\n",
    "            for p in ax.patches:\n",
    "                _x = p.get_x() + p.get_width() + float(space)\n",
    "                _y = p.get_y() + p.get_height()\n",
    "                if int_display:\n",
    "                    value = int(p.get_height())\n",
    "                else:\n",
    "                    value = round(p.get_height(),2)\n",
    "                ax.text(_x, _y, format(value, ','), ha='left')\n",
    "\n",
    "    if isinstance(axs, np.ndarray):\n",
    "        for idx, ax in np.ndenumerate(axs):\n",
    "            _show_on_single_plot(ax)\n",
    "    else:\n",
    "        _show_on_single_plot(axs)\n",
    "\n",
    "# ========== Function get_describe ==========        \n",
    "def get_describe(x):\n",
    "    \"\"\"\n",
    "    Get .describe() info.\n",
    "    \"\"\"\n",
    "    return {\"mean\": x.mean(),\n",
    "            \"min\": x.min(),\n",
    "            \"max\": x.max(),\n",
    "            \"count\": len(x)}\n",
    " \n",
    "# ========== Function barplot_display ==========\n",
    "def barplot_display(df, x_col, y_col, title, xlabel, ylabel, figsize=(12,6), fontsize=12, int_display=True):\n",
    "    \"\"\"\n",
    "    A personalized display of a barplot.\n",
    "    Params:\n",
    "        df: the DataFrame with data to be displayed\n",
    "        x_col: the x column of the plot\n",
    "        y_col: the y column of the plot\n",
    "        title: the title of the plot\n",
    "        xlabel: the xlabel of the plot\n",
    "        ylabel: the ylabel of the plot\n",
    "        int_display: boolean indicating whether the displayed numbers to be converted or not to int.\n",
    "    \"\"\"\n",
    "    plt.figure(figsize=figsize)\n",
    "    figure = sns.barplot(data=df, x=x_col, y=y_col, palette=my_colors)\n",
    "    plt.xlabel(xlabel, weight='bold', size=fontsize)\n",
    "    plt.ylabel(ylabel, weight='bold', size=fontsize)\n",
    "    plt.xticks(weight='bold')\n",
    "    show_values_on_bars(figure, h_v=\"v\", space=0.4, int_display=int_display)\n",
    "    plt.title(title, weight=\"bold\", size=fontsize+4)\n",
    "    plt.yticks([])\n",
    "    sns.despine(top=True, bottom=True, left=True)\n",
    "    plt.savefig('fig.png')\n",
    "    plt.show()\n",
    "\n",
    "# ========== Function precision_recall_at_k ==========\n",
    "def precision_recall_at_k(model, k=10, threshold=1, verbose=True):\n",
    "    \"\"\"\n",
    "    A function to calculate rmse, precision, recall, and F1_score, at k.\n",
    "    This function is adapted from the one in the Surprise library.\n",
    "    Params:\n",
    "      model: the model to be used for predictions\n",
    "      k: the number of relevant items to be considered (top k)\n",
    "      threshold: the minimum value that a rating should satisfy to be relevant\n",
    "      verbose: Bool, determines the way to display the results\n",
    "    Returns:\n",
    "      [rmse, recall, precision, f1_score]\n",
    "        verbose=True: displays the list containing the 4 metrics     \n",
    "        verbose=False: returns a list with the 4 metrics. \n",
    "          This is useful when experimenting with various values for (k, threshold).\n",
    "\n",
    "    \"\"\"\n",
    "\n",
    "    # First map the predictions to each user.\n",
    "    user_est_true = defaultdict(list)\n",
    "    \n",
    "    # Making predictions on the test data.\n",
    "    predictions = model.test(testset)\n",
    "    \n",
    "    for uid, _, true_r, est, _ in predictions:\n",
    "        user_est_true[uid].append((est, true_r))\n",
    "\n",
    "    precisions = dict()\n",
    "    recalls = dict()\n",
    "    for uid, user_ratings in user_est_true.items():\n",
    "\n",
    "        # Sort user play counts by estimated value.\n",
    "        user_ratings.sort(key=lambda x : x[0], reverse=True)\n",
    "\n",
    "        # Number of relevant items\n",
    "        n_rel = sum((true_r >= threshold) for (_, true_r) in user_ratings)\n",
    "\n",
    "        # Number of recommended items in top k\n",
    "        n_rec_k = sum((est >= threshold) for (est, _) in user_ratings[ : k])\n",
    "\n",
    "        # Number of relevant and recommended items in top k\n",
    "        n_rel_and_rec_k = sum(((true_r >= threshold) and (est >= threshold))\n",
    "                              for (est, true_r) in user_ratings[ : k])\n",
    "\n",
    "        # Precision@K: Proportion of recommended items that are relevant\n",
    "        # When n_rec_k is 0, Precision is undefined. Here, we set Precision to 0 when n_rec_k is 0\n",
    "\n",
    "        precisions[uid] = n_rel_and_rec_k / n_rec_k if n_rec_k != 0 else 0\n",
    "\n",
    "        # Recall@K: Proportion of relevant items that are recommended\n",
    "        # When n_rel is 0, Recall is undefined. Here, we set Recall to 0 when n_rel is 0\n",
    "\n",
    "        recalls[uid] = n_rel_and_rec_k / n_rel if n_rel != 0 else 0\n",
    "    \n",
    "    # Mean of all the predicted precisions are calculated\n",
    "    precision = round((sum(prec for prec in precisions.values()) / len(precisions)), 3)\n",
    "\n",
    "    # Mean of all the predicted recalls are calculated\n",
    "    recall = round((sum(rec for rec in recalls.values()) / len(recalls)), 3)\n",
    "    \n",
    "    rmse = round(accuracy.rmse(predictions, verbose=False), 3)\n",
    "\n",
    "    f1_score = round((2 * precision * recall) / (precision + recall), 3)\n",
    "\n",
    "    if verbose:\n",
    "        return print(clr.S+'rmse: {}, recall: {}, precision: {}, f1_score: {}'.format(rmse, recall, precision, f1_score)+clr.E)\n",
    "    else:  \n",
    "        return [rmse, recall, precision, f1_score]  \n",
    "\n",
    "# ========== Function get_songs_played_by_user ==========       \n",
    "def get_songs_played_by_user(user, data):\n",
    "    \"\"\"\n",
    "    Returns all the songs played by a user.\n",
    "    Params:\n",
    "        user: user_id\n",
    "        data: the dataframe with the data\n",
    "    Returns:\n",
    "        An array with all the song_ids of the songs user_id listened to.    \n",
    "    TODO: it can be easily updated to generalize the interaction between a user and items.\n",
    "    Add an additional param item='song_id', and change the return condition.\n",
    "    \"\"\"\n",
    "    return data[data['user_id'] == user]['song_id'].unique()\n",
    "\n",
    "# ========== Function get_songs_not_played_by_user ==========       \n",
    "def get_songs_not_played_by_user(user, data):\n",
    "    \"\"\"\n",
    "    Returns all the songs not played by a user.\n",
    "    Params:\n",
    "        user: user_id\n",
    "        data: the dataframe with the data\n",
    "    Returns:\n",
    "        An array with all the song_ids of the songs user_id had not listened to.    \n",
    "    TODO: it can be easily updated to generalize the interaction between a user and items.\n",
    "    Add an additional param item='song_id', and change the return condition.\n",
    "    \"\"\"\n",
    "    return data[~data['song_id'].isin(get_songs_played_by_user(user))]['song_id'].unique()\n",
    "\n",
    "# ========== Function played_count_predict ==========       \n",
    "def play_count_predict(algo, user, song, r_ui=None):\n",
    "    \"\"\"\n",
    "    A function that uses algo, to predict the rating for a song, by user.\n",
    "    Args:\n",
    "        algo: the algorithm used for prediction\n",
    "        user: the user_id\n",
    "        song: the song_id \n",
    "        r_ui: play_count, if it exists \n",
    "    Returns:\n",
    "        A formatted display of the results of the prediction method.\n",
    "    \"\"\"\n",
    "  \n",
    "    r_ui = algo.predict(user, song, r_ui=r_ui).r_ui\n",
    "    est = round(algo.predict(user, song).est, 2)\n",
    "    return print(clr.S+'Displaying the predictions for user {} and song {}.\\n\\n- Real prediction: {},\\n- Estimated prediction: {}.'\n",
    "                 .format(user, song, r_ui, est)+clr.E)\n",
    "    \n",
    "# ========== Function display_best_params ==========       \n",
    "def display_best_params(model):\n",
    "    \"\"\"\n",
    "    Function to display the best RMSE and values of the hyper-parameters, following a Grid/Randomized search.\n",
    "    Args:\n",
    "        model: the model used\n",
    "    Returns:    \n",
    "    \"\"\"\n",
    "    print(clr.S+'RMSE of the best option: {}'.format(round(model.best_score['rmse'], 3))+clr.E)\n",
    "    print(clr.S+'The hyperparameters of the best option: {}'.format(model.best_params['rmse'])+clr.E)\n",
    "    \n",
    "# ========== Function get_recommendations ==========       \n",
    "def get_recommendations(data, user, n, algo):\n",
    "    \"\"\"\n",
    "    Function to get the top_n recommendations for a user.\n",
    "    Params:\n",
    "        data: the DataFrame with user-item information\n",
    "        user: the ID of the user for which we generate recommendations\n",
    "        n: the upper limit of the recommendations we are making\n",
    "        algo: the algorithm used for recommendations\n",
    "    Returns:\n",
    "        A list of the top_n items recommended to the user.\n",
    "    \"\"\"    \n",
    "    # Creating an empty list to store the recommended song IDs.\n",
    "    recommendations = []\n",
    "    \n",
    "    # Creating an user-item interactions matrix. \n",
    "    user_item_interactions_matrix = data.pivot(index='user_id', columns='song_id', values='play_count')\n",
    "   \n",
    "    # Extracting those song IDs that the user_id has not listened to yet.\n",
    "    non_listened_songs = user_item_interactions_matrix.loc[user][user_item_interactions_matrix.loc[user].isnull()].index.tolist()\n",
    "    \n",
    "    # Looping through each of the song IDs that user_id has not listened to yet.\n",
    "    for item_id in non_listened_songs:\n",
    "    \n",
    "        # Predicting the play_count for those songs not listened to by this user.\n",
    "        est = round(algo.predict(user, item_id).est, 2)\n",
    "       \n",
    "        # Appending the predicted play_counts.\n",
    "        recommendations.append((item_id, est))\n",
    "        \n",
    "    # Sorting the predicted play_counts in descending order.\n",
    "    recommendations.sort(key = lambda x: x[1], reverse=True)\n",
    "    \n",
    "    # Returing top n highest predicted play_counts for this user.\n",
    "    return recommendations[:n]\n",
    "\n",
    "# ========== Function get_users_who_played_song ==========       \n",
    "def get_users_who_played_song(song, data):\n",
    "    \"\"\"\n",
    "    data=df_final\n",
    "    Returns all the users who listened to the song.\n",
    "    Params:\n",
    "        song: song_id\n",
    "        data: the dataframe with the data\n",
    "    Returns:\n",
    "        An array with all the user_ids of the users who listened to the song.    \n",
    "    TODO: it can be easily updated to generalize the interaction between a user and items.\n",
    "    Add an additional param item='user_id', and change the return condition.\n",
    "    \"\"\"\n",
    "    return data[data['song_id'] == song]['user_id'].unique()\n",
    "\n",
    "# ========== Function get_users_who_did_not_played_song ==========    \n",
    "def get_users_who_did_not_played_song(song, data):\n",
    "    \"\"\"\n",
    "    Returns all the users who did not listened to the song. \n",
    "    Params:\n",
    "        song: song_id\n",
    "        data: the dataframe with the data\n",
    "    Returns:\n",
    "        An array with all the user_ids of the users who had not listened to the song.    \n",
    "    TODO: it can be easily updated to generalize the interaction between a user and items.\n",
    "    Add an additional param item='user_id', and change the return condition.\n",
    "    \"\"\"\n",
    "    return data[~data['user_id'].isin(get_users_who_played_song(song, data=data))]['user_id'].unique()\n",
    "\n",
    "# ========== Function ==========       \n"
   ]
  },
  {
   "cell_type": "markdown",
   "metadata": {
    "id": "uZcr1Eke2T9W"
   },
   "source": [
    "# 5. Exploratory Data Analysis"
   ]
  },
  {
   "cell_type": "code",
   "execution_count": null,
   "metadata": {
    "colab": {
     "base_uri": "https://localhost:8080/",
     "height": 206
    },
    "id": "Kxf-WwLW3ns-",
    "outputId": "00ad828b-0e7e-4af4-ac53-f4e0cb3a8b72"
   },
   "outputs": [
    {
     "data": {
      "text/html": [
       "\n",
       "  <div id=\"df-343ce12f-5cbc-4dab-93af-cf67ebb35462\">\n",
       "    <div class=\"colab-df-container\">\n",
       "      <div>\n",
       "<style scoped>\n",
       "    .dataframe tbody tr th:only-of-type {\n",
       "        vertical-align: middle;\n",
       "    }\n",
       "\n",
       "    .dataframe tbody tr th {\n",
       "        vertical-align: top;\n",
       "    }\n",
       "\n",
       "    .dataframe thead th {\n",
       "        text-align: right;\n",
       "    }\n",
       "</style>\n",
       "<table border=\"1\" class=\"dataframe\">\n",
       "  <thead>\n",
       "    <tr style=\"text-align: right;\">\n",
       "      <th></th>\n",
       "      <th>index</th>\n",
       "      <th>year</th>\n",
       "    </tr>\n",
       "  </thead>\n",
       "  <tbody>\n",
       "    <tr>\n",
       "      <th>0</th>\n",
       "      <td>2009</td>\n",
       "      <td>16351</td>\n",
       "    </tr>\n",
       "    <tr>\n",
       "      <th>1</th>\n",
       "      <td>2008</td>\n",
       "      <td>14031</td>\n",
       "    </tr>\n",
       "    <tr>\n",
       "      <th>2</th>\n",
       "      <td>2007</td>\n",
       "      <td>13750</td>\n",
       "    </tr>\n",
       "    <tr>\n",
       "      <th>3</th>\n",
       "      <td>2003</td>\n",
       "      <td>7928</td>\n",
       "    </tr>\n",
       "    <tr>\n",
       "      <th>4</th>\n",
       "      <td>2006</td>\n",
       "      <td>7592</td>\n",
       "    </tr>\n",
       "  </tbody>\n",
       "</table>\n",
       "</div>\n",
       "      <button class=\"colab-df-convert\" onclick=\"convertToInteractive('df-343ce12f-5cbc-4dab-93af-cf67ebb35462')\"\n",
       "              title=\"Convert this dataframe to an interactive table.\"\n",
       "              style=\"display:none;\">\n",
       "        \n",
       "  <svg xmlns=\"http://www.w3.org/2000/svg\" height=\"24px\"viewBox=\"0 0 24 24\"\n",
       "       width=\"24px\">\n",
       "    <path d=\"M0 0h24v24H0V0z\" fill=\"none\"/>\n",
       "    <path d=\"M18.56 5.44l.94 2.06.94-2.06 2.06-.94-2.06-.94-.94-2.06-.94 2.06-2.06.94zm-11 1L8.5 8.5l.94-2.06 2.06-.94-2.06-.94L8.5 2.5l-.94 2.06-2.06.94zm10 10l.94 2.06.94-2.06 2.06-.94-2.06-.94-.94-2.06-.94 2.06-2.06.94z\"/><path d=\"M17.41 7.96l-1.37-1.37c-.4-.4-.92-.59-1.43-.59-.52 0-1.04.2-1.43.59L10.3 9.45l-7.72 7.72c-.78.78-.78 2.05 0 2.83L4 21.41c.39.39.9.59 1.41.59.51 0 1.02-.2 1.41-.59l7.78-7.78 2.81-2.81c.8-.78.8-2.07 0-2.86zM5.41 20L4 18.59l7.72-7.72 1.47 1.35L5.41 20z\"/>\n",
       "  </svg>\n",
       "      </button>\n",
       "      \n",
       "  <style>\n",
       "    .colab-df-container {\n",
       "      display:flex;\n",
       "      flex-wrap:wrap;\n",
       "      gap: 12px;\n",
       "    }\n",
       "\n",
       "    .colab-df-convert {\n",
       "      background-color: #E8F0FE;\n",
       "      border: none;\n",
       "      border-radius: 50%;\n",
       "      cursor: pointer;\n",
       "      display: none;\n",
       "      fill: #1967D2;\n",
       "      height: 32px;\n",
       "      padding: 0 0 0 0;\n",
       "      width: 32px;\n",
       "    }\n",
       "\n",
       "    .colab-df-convert:hover {\n",
       "      background-color: #E2EBFA;\n",
       "      box-shadow: 0px 1px 2px rgba(60, 64, 67, 0.3), 0px 1px 3px 1px rgba(60, 64, 67, 0.15);\n",
       "      fill: #174EA6;\n",
       "    }\n",
       "\n",
       "    [theme=dark] .colab-df-convert {\n",
       "      background-color: #3B4455;\n",
       "      fill: #D2E3FC;\n",
       "    }\n",
       "\n",
       "    [theme=dark] .colab-df-convert:hover {\n",
       "      background-color: #434B5C;\n",
       "      box-shadow: 0px 1px 3px 1px rgba(0, 0, 0, 0.15);\n",
       "      filter: drop-shadow(0px 1px 2px rgba(0, 0, 0, 0.3));\n",
       "      fill: #FFFFFF;\n",
       "    }\n",
       "  </style>\n",
       "\n",
       "      <script>\n",
       "        const buttonEl =\n",
       "          document.querySelector('#df-343ce12f-5cbc-4dab-93af-cf67ebb35462 button.colab-df-convert');\n",
       "        buttonEl.style.display =\n",
       "          google.colab.kernel.accessAllowed ? 'block' : 'none';\n",
       "\n",
       "        async function convertToInteractive(key) {\n",
       "          const element = document.querySelector('#df-343ce12f-5cbc-4dab-93af-cf67ebb35462');\n",
       "          const dataTable =\n",
       "            await google.colab.kernel.invokeFunction('convertToInteractive',\n",
       "                                                     [key], {});\n",
       "          if (!dataTable) return;\n",
       "\n",
       "          const docLinkHtml = 'Like what you see? Visit the ' +\n",
       "            '<a target=\"_blank\" href=https://colab.research.google.com/notebooks/data_table.ipynb>data table notebook</a>'\n",
       "            + ' to learn more about interactive tables.';\n",
       "          element.innerHTML = '';\n",
       "          dataTable['output_type'] = 'display_data';\n",
       "          await google.colab.output.renderOutput(dataTable, element);\n",
       "          const docLink = document.createElement('div');\n",
       "          docLink.innerHTML = docLinkHtml;\n",
       "          element.appendChild(docLink);\n",
       "        }\n",
       "      </script>\n",
       "    </div>\n",
       "  </div>\n",
       "  "
      ],
      "text/plain": [
       "   index   year\n",
       "0   2009  16351\n",
       "1   2008  14031\n",
       "2   2007  13750\n",
       "3   2003   7928\n",
       "4   2006   7592"
      ]
     },
     "execution_count": 195,
     "metadata": {},
     "output_type": "execute_result"
    }
   ],
   "source": [
    "df_final['year'].value_counts().reset_index().head()"
   ]
  },
  {
   "cell_type": "code",
   "execution_count": null,
   "metadata": {
    "colab": {
     "base_uri": "https://localhost:8080/",
     "height": 475
    },
    "id": "D72Jh8DFe43o",
    "outputId": "ce97a588-4c54-43a1-8419-450ff277c429"
   },
   "outputs": [
    {
     "data": {
      "image/png": "[encoded data removed]",
      "text/plain": [
       "<Figure size 2000x600 with 1 Axes>"
      ]
     },
     "metadata": {},
     "output_type": "display_data"
    }
   ],
   "source": [
    "barplot_display(df_final['year'].value_counts().reset_index(), \\\n",
    "                'index', 'year', \\\n",
    "                'Number of titles played by year', \\\n",
    "                'Year', 'Number of titles played', \\\n",
    "                (20,6), 10)"
   ]
  },
  {
   "cell_type": "markdown",
   "metadata": {
    "id": "HV_huJagghHc"
   },
   "source": [
    "#### **Final dataset** general observations.\n",
    "\n",
    "  - `3154` unique users,\n",
    "  - `478` unique songs IDs,\n",
    "  - `476` unique song titles, and \n",
    "  - `185` unique artists.\n",
    "  - There are `no missing values` in our final data set.\n",
    "  - **_Note_**: the fact that there are more unique song IDs than titles indicates that there are songs with the same title, so title cannot be used as a unique key in further investigations.\n"
   ]
  },
  {
   "cell_type": "code",
   "execution_count": null,
   "metadata": {
    "colab": {
     "base_uri": "https://localhost:8080/",
     "height": 300
    },
    "id": "SVhwq5ymis86",
    "outputId": "c1c7f1f9-f3ac-4348-8fec-313aa142088e"
   },
   "outputs": [
    {
     "data": {
      "text/html": [
       "\n",
       "  <div id=\"df-46c44f1b-3392-437d-971d-ff9604fb7e9e\">\n",
       "    <div class=\"colab-df-container\">\n",
       "      <div>\n",
       "<style scoped>\n",
       "    .dataframe tbody tr th:only-of-type {\n",
       "        vertical-align: middle;\n",
       "    }\n",
       "\n",
       "    .dataframe tbody tr th {\n",
       "        vertical-align: top;\n",
       "    }\n",
       "\n",
       "    .dataframe thead th {\n",
       "        text-align: right;\n",
       "    }\n",
       "</style>\n",
       "<table border=\"1\" class=\"dataframe\">\n",
       "  <thead>\n",
       "    <tr style=\"text-align: right;\">\n",
       "      <th></th>\n",
       "      <th>user_id</th>\n",
       "      <th>song_id</th>\n",
       "      <th>play_count</th>\n",
       "      <th>year</th>\n",
       "    </tr>\n",
       "  </thead>\n",
       "  <tbody>\n",
       "    <tr>\n",
       "      <th>count</th>\n",
       "      <td>97227.000000</td>\n",
       "      <td>97227.000000</td>\n",
       "      <td>97227.000000</td>\n",
       "      <td>97227.000000</td>\n",
       "    </tr>\n",
       "    <tr>\n",
       "      <th>mean</th>\n",
       "      <td>37950.844405</td>\n",
       "      <td>4947.627511</td>\n",
       "      <td>1.676880</td>\n",
       "      <td>2003.844333</td>\n",
       "    </tr>\n",
       "    <tr>\n",
       "      <th>std</th>\n",
       "      <td>22015.563201</td>\n",
       "      <td>2889.550528</td>\n",
       "      <td>1.071061</td>\n",
       "      <td>7.065753</td>\n",
       "    </tr>\n",
       "    <tr>\n",
       "      <th>min</th>\n",
       "      <td>11.000000</td>\n",
       "      <td>21.000000</td>\n",
       "      <td>1.000000</td>\n",
       "      <td>1969.000000</td>\n",
       "    </tr>\n",
       "    <tr>\n",
       "      <th>25%</th>\n",
       "      <td>19406.000000</td>\n",
       "      <td>2389.000000</td>\n",
       "      <td>1.000000</td>\n",
       "      <td>2002.000000</td>\n",
       "    </tr>\n",
       "    <tr>\n",
       "      <th>50%</th>\n",
       "      <td>37043.000000</td>\n",
       "      <td>5138.000000</td>\n",
       "      <td>1.000000</td>\n",
       "      <td>2006.000000</td>\n",
       "    </tr>\n",
       "    <tr>\n",
       "      <th>75%</th>\n",
       "      <td>57039.000000</td>\n",
       "      <td>7509.000000</td>\n",
       "      <td>2.000000</td>\n",
       "      <td>2008.000000</td>\n",
       "    </tr>\n",
       "    <tr>\n",
       "      <th>max</th>\n",
       "      <td>76347.000000</td>\n",
       "      <td>9989.000000</td>\n",
       "      <td>5.000000</td>\n",
       "      <td>2010.000000</td>\n",
       "    </tr>\n",
       "  </tbody>\n",
       "</table>\n",
       "</div>\n",
       "      <button class=\"colab-df-convert\" onclick=\"convertToInteractive('df-46c44f1b-3392-437d-971d-ff9604fb7e9e')\"\n",
       "              title=\"Convert this dataframe to an interactive table.\"\n",
       "              style=\"display:none;\">\n",
       "        \n",
       "  <svg xmlns=\"http://www.w3.org/2000/svg\" height=\"24px\"viewBox=\"0 0 24 24\"\n",
       "       width=\"24px\">\n",
       "    <path d=\"M0 0h24v24H0V0z\" fill=\"none\"/>\n",
       "    <path d=\"M18.56 5.44l.94 2.06.94-2.06 2.06-.94-2.06-.94-.94-2.06-.94 2.06-2.06.94zm-11 1L8.5 8.5l.94-2.06 2.06-.94-2.06-.94L8.5 2.5l-.94 2.06-2.06.94zm10 10l.94 2.06.94-2.06 2.06-.94-2.06-.94-.94-2.06-.94 2.06-2.06.94z\"/><path d=\"M17.41 7.96l-1.37-1.37c-.4-.4-.92-.59-1.43-.59-.52 0-1.04.2-1.43.59L10.3 9.45l-7.72 7.72c-.78.78-.78 2.05 0 2.83L4 21.41c.39.39.9.59 1.41.59.51 0 1.02-.2 1.41-.59l7.78-7.78 2.81-2.81c.8-.78.8-2.07 0-2.86zM5.41 20L4 18.59l7.72-7.72 1.47 1.35L5.41 20z\"/>\n",
       "  </svg>\n",
       "      </button>\n",
       "      \n",
       "  <style>\n",
       "    .colab-df-container {\n",
       "      display:flex;\n",
       "      flex-wrap:wrap;\n",
       "      gap: 12px;\n",
       "    }\n",
       "\n",
       "    .colab-df-convert {\n",
       "      background-color: #E8F0FE;\n",
       "      border: none;\n",
       "      border-radius: 50%;\n",
       "      cursor: pointer;\n",
       "      display: none;\n",
       "      fill: #1967D2;\n",
       "      height: 32px;\n",
       "      padding: 0 0 0 0;\n",
       "      width: 32px;\n",
       "    }\n",
       "\n",
       "    .colab-df-convert:hover {\n",
       "      background-color: #E2EBFA;\n",
       "      box-shadow: 0px 1px 2px rgba(60, 64, 67, 0.3), 0px 1px 3px 1px rgba(60, 64, 67, 0.15);\n",
       "      fill: #174EA6;\n",
       "    }\n",
       "\n",
       "    [theme=dark] .colab-df-convert {\n",
       "      background-color: #3B4455;\n",
       "      fill: #D2E3FC;\n",
       "    }\n",
       "\n",
       "    [theme=dark] .colab-df-convert:hover {\n",
       "      background-color: #434B5C;\n",
       "      box-shadow: 0px 1px 3px 1px rgba(0, 0, 0, 0.15);\n",
       "      filter: drop-shadow(0px 1px 2px rgba(0, 0, 0, 0.3));\n",
       "      fill: #FFFFFF;\n",
       "    }\n",
       "  </style>\n",
       "\n",
       "      <script>\n",
       "        const buttonEl =\n",
       "          document.querySelector('#df-46c44f1b-3392-437d-971d-ff9604fb7e9e button.colab-df-convert');\n",
       "        buttonEl.style.display =\n",
       "          google.colab.kernel.accessAllowed ? 'block' : 'none';\n",
       "\n",
       "        async function convertToInteractive(key) {\n",
       "          const element = document.querySelector('#df-46c44f1b-3392-437d-971d-ff9604fb7e9e');\n",
       "          const dataTable =\n",
       "            await google.colab.kernel.invokeFunction('convertToInteractive',\n",
       "                                                     [key], {});\n",
       "          if (!dataTable) return;\n",
       "\n",
       "          const docLinkHtml = 'Like what you see? Visit the ' +\n",
       "            '<a target=\"_blank\" href=https://colab.research.google.com/notebooks/data_table.ipynb>data table notebook</a>'\n",
       "            + ' to learn more about interactive tables.';\n",
       "          element.innerHTML = '';\n",
       "          dataTable['output_type'] = 'display_data';\n",
       "          await google.colab.output.renderOutput(dataTable, element);\n",
       "          const docLink = document.createElement('div');\n",
       "          docLink.innerHTML = docLinkHtml;\n",
       "          element.appendChild(docLink);\n",
       "        }\n",
       "      </script>\n",
       "    </div>\n",
       "  </div>\n",
       "  "
      ],
      "text/plain": [
       "            user_id       song_id    play_count          year\n",
       "count  97227.000000  97227.000000  97227.000000  97227.000000\n",
       "mean   37950.844405   4947.627511      1.676880   2003.844333\n",
       "std    22015.563201   2889.550528      1.071061      7.065753\n",
       "min       11.000000     21.000000      1.000000   1969.000000\n",
       "25%    19406.000000   2389.000000      1.000000   2002.000000\n",
       "50%    37043.000000   5138.000000      1.000000   2006.000000\n",
       "75%    57039.000000   7509.000000      2.000000   2008.000000\n",
       "max    76347.000000   9989.000000      5.000000   2010.000000"
      ]
     },
     "execution_count": 233,
     "metadata": {},
     "output_type": "execute_result"
    }
   ],
   "source": [
    "df_final.describe()"
   ]
  },
  {
   "cell_type": "code",
   "execution_count": null,
   "metadata": {
    "colab": {
     "base_uri": "https://localhost:8080/"
    },
    "id": "P-mkcA5lIYJl",
    "outputId": "20037dc1-23b6-436c-9281-52b8807988fb"
   },
   "outputs": [
    {
     "data": {
      "text/plain": [
       "1.0"
      ]
     },
     "execution_count": 33,
     "metadata": {},
     "output_type": "execute_result"
    }
   ],
   "source": [
    "df_final['play_count'].median()"
   ]
  },
  {
   "cell_type": "code",
   "execution_count": null,
   "metadata": {
    "colab": {
     "base_uri": "https://localhost:8080/",
     "height": 570
    },
    "id": "Z3ht8RgtIqOf",
    "outputId": "e0ffbbb2-6990-420e-bfbc-4944c6ffc7bf"
   },
   "outputs": [
    {
     "data": {
      "image/png": "[encoded data removed]",
      "text/plain": [
       "<Figure size 1200x600 with 1 Axes>"
      ]
     },
     "metadata": {},
     "output_type": "display_data"
    }
   ],
   "source": [
    "barplot_display(df_final['play_count'].value_counts().reset_index(), \\\n",
    "                'index', 'play_count', \\\n",
    "                'The song rating distribution across all years', \\\n",
    "                'Song ratings', 'Number of songs')"
   ]
  },
  {
   "cell_type": "code",
   "execution_count": null,
   "metadata": {
    "id": "Dq1O0e4OOjXi"
   },
   "outputs": [],
   "source": [
    "from google.colab import drive\n",
    "drive.mount('/content/drive')"
   ]
  },
  {
   "cell_type": "markdown",
   "metadata": {
    "id": "DE_gukSJ2T9W"
   },
   "source": [
    "- Total number of `unique user_id`s"
   ]
  },
  {
   "cell_type": "code",
   "execution_count": null,
   "metadata": {
    "colab": {
     "base_uri": "https://localhost:8080/"
    },
    "id": "n5E24_Ec2T9W",
    "outputId": "fd885254-6d5d-41c1-a399-8197f9ffa613"
   },
   "outputs": [
    {
     "data": {
      "text/plain": [
       "3154"
      ]
     },
     "execution_count": 235,
     "metadata": {},
     "output_type": "execute_result"
    }
   ],
   "source": [
    "# Display the total number of unique user_id\n",
    "df_final['user_id'].nunique()"
   ]
  },
  {
   "cell_type": "markdown",
   "metadata": {
    "id": "wV3BOTdJII-t"
   },
   "source": [
    "- Total number of `unique song_id`s"
   ]
  },
  {
   "cell_type": "code",
   "execution_count": null,
   "metadata": {
    "colab": {
     "base_uri": "https://localhost:8080/"
    },
    "id": "5SlpPkIE2T9W",
    "outputId": "64cfa8fa-b0a5-4b42-88b0-431d7b896fc3"
   },
   "outputs": [
    {
     "data": {
      "text/plain": [
       "478"
      ]
     },
     "execution_count": 38,
     "metadata": {},
     "output_type": "execute_result"
    }
   ],
   "source": [
    "# Display the total number of unique song_id\n",
    "df_final['song_id'].nunique()"
   ]
  },
  {
   "cell_type": "markdown",
   "metadata": {
    "id": "_TvKmWSUiOwX"
   },
   "source": [
    "- Total number of `unique title`s"
   ]
  },
  {
   "cell_type": "code",
   "execution_count": null,
   "metadata": {
    "colab": {
     "base_uri": "https://localhost:8080/"
    },
    "id": "r6sP2bx6XExX",
    "outputId": "2108a0a1-b6c8-4aa0-d760-32011c5d308d"
   },
   "outputs": [
    {
     "data": {
      "text/plain": [
       "476"
      ]
     },
     "execution_count": 39,
     "metadata": {},
     "output_type": "execute_result"
    }
   ],
   "source": [
    "# Display the total number of unique titles\n",
    "df_final['title'].nunique()"
   ]
  },
  {
   "cell_type": "code",
   "execution_count": null,
   "metadata": {
    "colab": {
     "base_uri": "https://localhost:8080/"
    },
    "id": "qSVUwb8h2T9X",
    "outputId": "664ea4a2-57ce-42af-f857-87401dc4109d"
   },
   "outputs": [
    {
     "data": {
      "text/plain": [
       "185"
      ]
     },
     "execution_count": 40,
     "metadata": {},
     "output_type": "execute_result"
    }
   ],
   "source": [
    "# Display the total number of unique artists\n",
    "df_final['artist_name'].nunique()"
   ]
  },
  {
   "cell_type": "code",
   "execution_count": null,
   "metadata": {
    "colab": {
     "base_uri": "https://localhost:8080/"
    },
    "id": "ybnpRyQLawbp",
    "outputId": "fd5ccc62-5655-4853-c3f6-6ebf1e02a95e"
   },
   "outputs": [
    {
     "data": {
      "text/plain": [
       "user_id        0\n",
       "song_id        0\n",
       "play_count     0\n",
       "title          0\n",
       "release        0\n",
       "artist_name    0\n",
       "year           0\n",
       "dtype: int64"
      ]
     },
     "execution_count": 41,
     "metadata": {},
     "output_type": "execute_result"
    }
   ],
   "source": [
    "# Checking for missing values\n",
    "df_final.isna().sum()"
   ]
  },
  {
   "cell_type": "markdown",
   "metadata": {
    "id": "rLdIfv22ISBK"
   },
   "source": [
    "### **Finding the most popular songs, and the most active users**\n",
    "\n",
    "We are interested in finding:\n",
    "\n",
    "- `The most popular songs`, defined the songs that have been listened to by the largest number of unique users.\n",
    "- `The most active users`, defined as the users who have listened to the largest number of unique songs.\n"
   ]
  },
  {
   "cell_type": "markdown",
   "metadata": {
    "id": "W3DyN_8atsCx"
   },
   "source": [
    "#### **The most popular songs**"
   ]
  },
  {
   "cell_type": "code",
   "execution_count": null,
   "metadata": {
    "colab": {
     "base_uri": "https://localhost:8080/"
    },
    "id": "qWDrvIFF2T9X",
    "outputId": "1838f619-be83-4521-c801-5fdcadd7a7b0"
   },
   "outputs": [
    {
     "data": {
      "text/plain": [
       "song_id\n",
       "8582    751\n",
       "1118    662\n",
       "4152    652\n",
       "5531    618\n",
       "4448    609\n",
       "6189    606\n",
       "6293    583\n",
       "703     567\n",
       "8092    550\n",
       "9931    544\n",
       "dtype: int64"
      ]
     },
     "execution_count": 409,
     "metadata": {},
     "output_type": "execute_result"
    }
   ],
   "source": [
    "#most_popular_songs = df_final.groupby('song_id').count().reset_index().sort_values(by='user_id', ascending = False)[:10]\n",
    "most_popular_songs = df_final.groupby('song_id').size().sort_values(ascending=False)[:10]\n",
    "most_popular_songs"
   ]
  },
  {
   "cell_type": "markdown",
   "metadata": {
    "id": "nnoXCc9zIV45"
   },
   "source": [
    "#### **Most active users**"
   ]
  },
  {
   "cell_type": "code",
   "execution_count": null,
   "metadata": {
    "colab": {
     "base_uri": "https://localhost:8080/"
    },
    "id": "971EiBdf2T9X",
    "outputId": "986f8fcb-59b9-4679-9eab-897f75c724c0"
   },
   "outputs": [
    {
     "data": {
      "text/plain": [
       "user_id\n",
       "61472    207\n",
       "15733    183\n",
       "37049    174\n",
       "9570     150\n",
       "10763    150\n",
       "9097     148\n",
       "43041    148\n",
       "75144    146\n",
       "23337    142\n",
       "26616    142\n",
       "dtype: int64"
      ]
     },
     "execution_count": 44,
     "metadata": {},
     "output_type": "execute_result"
    }
   ],
   "source": [
    "most_active_users = df_final.groupby('user_id').size().sort_values(ascending = False)[:10]\n",
    "most_active_users"
   ]
  },
  {
   "cell_type": "markdown",
   "metadata": {
    "id": "tPZRc1e-eyyO"
   },
   "source": [
    "#### **Observations and Insights:**\n",
    "\n",
    "- The most interacted song is `8582`, and it has been listened by `751` different users.\n",
    "- The user `61472` had the highest number of interactions with songs, `207`. That is, this user listened to `207` different songs, which is the highest number of different songs a user listened to."
   ]
  },
  {
   "cell_type": "markdown",
   "metadata": {
    "id": "joFF5zndX1Dk"
   },
   "source": [
    "### **Songs played in a year**\n",
    "\n",
    "Our analysis indicates that there are \n",
    "- 478 unique song IDs, and \n",
    "- 476 unique titles. \n",
    "\n",
    "This means that there are a few titles that are used for different songs.\n",
    "Consequently, to compute the number of songs played in a year, we will use\n",
    "the `song_id` attribute, rather than the `title` attribute."
   ]
  },
  {
   "cell_type": "code",
   "execution_count": null,
   "metadata": {
    "colab": {
     "base_uri": "https://localhost:8080/",
     "height": 570
    },
    "id": "bkIdF4zPIeox",
    "outputId": "4fbe062e-f45e-4a49-c480-1353d6ba67fe"
   },
   "outputs": [
    {
     "data": {
      "image/png": "[encoded data removed]",
      "text/plain": [
       "<Figure size 1200x600 with 1 Axes>"
      ]
     },
     "metadata": {},
     "output_type": "display_data"
    }
   ],
   "source": [
    "barplot_display(df_final['play_count'].value_counts().reset_index(), \\\n",
    "                'index', 'play_count', \\\n",
    "                'The song rating distribution over years', \\\n",
    "                'Song ratings', 'Number of songs')\n"
   ]
  },
  {
   "cell_type": "code",
   "execution_count": null,
   "metadata": {
    "colab": {
     "base_uri": "https://localhost:8080/",
     "height": 570
    },
    "id": "AMMq7twJvJMP",
    "outputId": "fd76240c-b7f8-49fa-f39f-11f969eb415d"
   },
   "outputs": [
    {
     "data": {
      "image/png": "[encoded data removed]",
      "text/plain": [
       "<Figure size 1200x600 with 1 Axes>"
      ]
     },
     "metadata": {},
     "output_type": "display_data"
    }
   ],
   "source": [
    "\n",
    "barplot_display(df_final['play_count'].value_counts(normalize=True).reset_index(), \\\n",
    "                'index', 'play_count', \\\n",
    "                'The proportion of song rating distribution over the years', \\\n",
    "                'Song ratings', 'Proportion of songs, out of 1', \\\n",
    "                int_display=False)\n"
   ]
  },
  {
   "cell_type": "code",
   "execution_count": null,
   "metadata": {
    "colab": {
     "base_uri": "https://localhost:8080/",
     "height": 475
    },
    "id": "tuBPiOIoMjNu",
    "outputId": "4e07878e-57a7-463a-c757-cd1521b98d56"
   },
   "outputs": [
    {
     "data": {
      "image/png": "[encoded data removed]",
      "text/plain": [
       "<Figure size 2000x600 with 1 Axes>"
      ]
     },
     "metadata": {},
     "output_type": "display_data"
    }
   ],
   "source": [
    "barplot_display(df_final['year'].value_counts().reset_index(), \\\n",
    "                'index', 'year', \\\n",
    "                'Number of titles played by year', \\\n",
    "                'Year', 'Number of titles played', \\\n",
    "                (20,6), 10)"
   ]
  },
  {
   "cell_type": "markdown",
   "metadata": {
    "id": "VUcXc7ZYfaGl"
   },
   "source": [
    "#### **Observations and Insights:** # \n",
    "\n",
    "We notice that:\n",
    "\n",
    "- During the period `1969 - 1986`, the number of songs is extremely low. One possible explanation is that the songs with `year = 0` should have the value for the `year` from this range.\n",
    "- There are several years missing from this period. We may try imputing values for those missing years, as it's not feasible that there were no songs produced in those years.\n"
   ]
  },
  {
   "cell_type": "markdown",
   "metadata": {
    "id": "9VThYg7voGIz"
   },
   "source": [
    "# 6. Building various models"
   ]
  },
  {
   "cell_type": "markdown",
   "metadata": {
    "id": "Ituk9wA4Idib"
   },
   "source": [
    "## **6.1 Ranked-Based Recommendation Systems**"
   ]
  },
  {
   "cell_type": "markdown",
   "metadata": {
    "id": "462hsbxaI1ED"
   },
   "source": [
    "The `first model` we are building is based on the `popularity` of a song. We define the popularity measure of a song based on the frequency the song is played."
   ]
  },
  {
   "cell_type": "code",
   "execution_count": null,
   "metadata": {
    "id": "UXhBZlDE-jEu"
   },
   "outputs": [],
   "source": [
    "# Calculating average play_count\n",
    "average_count = df_final.groupby('song_id')['play_count'].mean()\n",
    "# Calculating the frequency a song is played\n",
    "play_frequency = df_final.groupby('song_id')['play_count'].sum()  "
   ]
  },
  {
   "cell_type": "code",
   "execution_count": null,
   "metadata": {
    "colab": {
     "base_uri": "https://localhost:8080/",
     "height": 238
    },
    "id": "v2XYdXvWdyys",
    "outputId": "03c02713-790d-4dff-a14b-a6b99a43e4ca"
   },
   "outputs": [
    {
     "data": {
      "text/html": [
       "\n",
       "  <div id=\"df-80ad87b0-4572-4d82-b6f6-46e6570b2d99\">\n",
       "    <div class=\"colab-df-container\">\n",
       "      <div>\n",
       "<style scoped>\n",
       "    .dataframe tbody tr th:only-of-type {\n",
       "        vertical-align: middle;\n",
       "    }\n",
       "\n",
       "    .dataframe tbody tr th {\n",
       "        vertical-align: top;\n",
       "    }\n",
       "\n",
       "    .dataframe thead th {\n",
       "        text-align: right;\n",
       "    }\n",
       "</style>\n",
       "<table border=\"1\" class=\"dataframe\">\n",
       "  <thead>\n",
       "    <tr style=\"text-align: right;\">\n",
       "      <th></th>\n",
       "      <th>avg_count</th>\n",
       "      <th>play_freq</th>\n",
       "    </tr>\n",
       "    <tr>\n",
       "      <th>song_id</th>\n",
       "      <th></th>\n",
       "      <th></th>\n",
       "    </tr>\n",
       "  </thead>\n",
       "  <tbody>\n",
       "    <tr>\n",
       "      <th>7224</th>\n",
       "      <td>3.373832</td>\n",
       "      <td>361</td>\n",
       "    </tr>\n",
       "    <tr>\n",
       "      <th>8324</th>\n",
       "      <td>2.625000</td>\n",
       "      <td>252</td>\n",
       "    </tr>\n",
       "    <tr>\n",
       "      <th>9942</th>\n",
       "      <td>2.486667</td>\n",
       "      <td>373</td>\n",
       "    </tr>\n",
       "    <tr>\n",
       "      <th>5531</th>\n",
       "      <td>2.309061</td>\n",
       "      <td>1427</td>\n",
       "    </tr>\n",
       "    <tr>\n",
       "      <th>5653</th>\n",
       "      <td>2.296296</td>\n",
       "      <td>248</td>\n",
       "    </tr>\n",
       "  </tbody>\n",
       "</table>\n",
       "</div>\n",
       "      <button class=\"colab-df-convert\" onclick=\"convertToInteractive('df-80ad87b0-4572-4d82-b6f6-46e6570b2d99')\"\n",
       "              title=\"Convert this dataframe to an interactive table.\"\n",
       "              style=\"display:none;\">\n",
       "        \n",
       "  <svg xmlns=\"http://www.w3.org/2000/svg\" height=\"24px\"viewBox=\"0 0 24 24\"\n",
       "       width=\"24px\">\n",
       "    <path d=\"M0 0h24v24H0V0z\" fill=\"none\"/>\n",
       "    <path d=\"M18.56 5.44l.94 2.06.94-2.06 2.06-.94-2.06-.94-.94-2.06-.94 2.06-2.06.94zm-11 1L8.5 8.5l.94-2.06 2.06-.94-2.06-.94L8.5 2.5l-.94 2.06-2.06.94zm10 10l.94 2.06.94-2.06 2.06-.94-2.06-.94-.94-2.06-.94 2.06-2.06.94z\"/><path d=\"M17.41 7.96l-1.37-1.37c-.4-.4-.92-.59-1.43-.59-.52 0-1.04.2-1.43.59L10.3 9.45l-7.72 7.72c-.78.78-.78 2.05 0 2.83L4 21.41c.39.39.9.59 1.41.59.51 0 1.02-.2 1.41-.59l7.78-7.78 2.81-2.81c.8-.78.8-2.07 0-2.86zM5.41 20L4 18.59l7.72-7.72 1.47 1.35L5.41 20z\"/>\n",
       "  </svg>\n",
       "      </button>\n",
       "      \n",
       "  <style>\n",
       "    .colab-df-container {\n",
       "      display:flex;\n",
       "      flex-wrap:wrap;\n",
       "      gap: 12px;\n",
       "    }\n",
       "\n",
       "    .colab-df-convert {\n",
       "      background-color: #E8F0FE;\n",
       "      border: none;\n",
       "      border-radius: 50%;\n",
       "      cursor: pointer;\n",
       "      display: none;\n",
       "      fill: #1967D2;\n",
       "      height: 32px;\n",
       "      padding: 0 0 0 0;\n",
       "      width: 32px;\n",
       "    }\n",
       "\n",
       "    .colab-df-convert:hover {\n",
       "      background-color: #E2EBFA;\n",
       "      box-shadow: 0px 1px 2px rgba(60, 64, 67, 0.3), 0px 1px 3px 1px rgba(60, 64, 67, 0.15);\n",
       "      fill: #174EA6;\n",
       "    }\n",
       "\n",
       "    [theme=dark] .colab-df-convert {\n",
       "      background-color: #3B4455;\n",
       "      fill: #D2E3FC;\n",
       "    }\n",
       "\n",
       "    [theme=dark] .colab-df-convert:hover {\n",
       "      background-color: #434B5C;\n",
       "      box-shadow: 0px 1px 3px 1px rgba(0, 0, 0, 0.15);\n",
       "      filter: drop-shadow(0px 1px 2px rgba(0, 0, 0, 0.3));\n",
       "      fill: #FFFFFF;\n",
       "    }\n",
       "  </style>\n",
       "\n",
       "      <script>\n",
       "        const buttonEl =\n",
       "          document.querySelector('#df-80ad87b0-4572-4d82-b6f6-46e6570b2d99 button.colab-df-convert');\n",
       "        buttonEl.style.display =\n",
       "          google.colab.kernel.accessAllowed ? 'block' : 'none';\n",
       "\n",
       "        async function convertToInteractive(key) {\n",
       "          const element = document.querySelector('#df-80ad87b0-4572-4d82-b6f6-46e6570b2d99');\n",
       "          const dataTable =\n",
       "            await google.colab.kernel.invokeFunction('convertToInteractive',\n",
       "                                                     [key], {});\n",
       "          if (!dataTable) return;\n",
       "\n",
       "          const docLinkHtml = 'Like what you see? Visit the ' +\n",
       "            '<a target=\"_blank\" href=https://colab.research.google.com/notebooks/data_table.ipynb>data table notebook</a>'\n",
       "            + ' to learn more about interactive tables.';\n",
       "          element.innerHTML = '';\n",
       "          dataTable['output_type'] = 'display_data';\n",
       "          await google.colab.output.renderOutput(dataTable, element);\n",
       "          const docLink = document.createElement('div');\n",
       "          docLink.innerHTML = docLinkHtml;\n",
       "          element.appendChild(docLink);\n",
       "        }\n",
       "      </script>\n",
       "    </div>\n",
       "  </div>\n",
       "  "
      ],
      "text/plain": [
       "         avg_count  play_freq\n",
       "song_id                      \n",
       "7224      3.373832        361\n",
       "8324      2.625000        252\n",
       "9942      2.486667        373\n",
       "5531      2.309061       1427\n",
       "5653      2.296296        248"
      ]
     },
     "execution_count": 347,
     "metadata": {},
     "output_type": "execute_result"
    }
   ],
   "source": [
    "# Making a dataframe with the average_count and play_freq\n",
    "final_play = pd.DataFrame({'avg_count': average_count, 'play_freq': play_frequency})\n",
    "# Sort the dataframe in descending order, by the average number of counts a song was played.\n",
    "# Reset the index, so song_id becomes the index.\n",
    "final_play = final_play.sort_values(by='avg_count', ascending=False)\n",
    "# Let us see the first five records of the final_play dataset\n",
    "final_play.head()"
   ]
  },
  {
   "cell_type": "code",
   "execution_count": null,
   "metadata": {
    "colab": {
     "base_uri": "https://localhost:8080/",
     "height": 300
    },
    "id": "TMmnrhq4Kf6p",
    "outputId": "0da4af71-3d3e-4a17-d78d-c360cb3c33e0"
   },
   "outputs": [
    {
     "data": {
      "text/html": [
       "\n",
       "  <div id=\"df-d2b65a0a-91cc-40e2-ac0f-cb0914792d0a\">\n",
       "    <div class=\"colab-df-container\">\n",
       "      <div>\n",
       "<style scoped>\n",
       "    .dataframe tbody tr th:only-of-type {\n",
       "        vertical-align: middle;\n",
       "    }\n",
       "\n",
       "    .dataframe tbody tr th {\n",
       "        vertical-align: top;\n",
       "    }\n",
       "\n",
       "    .dataframe thead th {\n",
       "        text-align: right;\n",
       "    }\n",
       "</style>\n",
       "<table border=\"1\" class=\"dataframe\">\n",
       "  <thead>\n",
       "    <tr style=\"text-align: right;\">\n",
       "      <th></th>\n",
       "      <th>avg_count</th>\n",
       "      <th>play_freq</th>\n",
       "    </tr>\n",
       "  </thead>\n",
       "  <tbody>\n",
       "    <tr>\n",
       "      <th>count</th>\n",
       "      <td>478.000000</td>\n",
       "      <td>478.000000</td>\n",
       "    </tr>\n",
       "    <tr>\n",
       "      <th>mean</th>\n",
       "      <td>1.638275</td>\n",
       "      <td>341.083682</td>\n",
       "    </tr>\n",
       "    <tr>\n",
       "      <th>std</th>\n",
       "      <td>0.210920</td>\n",
       "      <td>218.353466</td>\n",
       "    </tr>\n",
       "    <tr>\n",
       "      <th>min</th>\n",
       "      <td>1.238710</td>\n",
       "      <td>155.000000</td>\n",
       "    </tr>\n",
       "    <tr>\n",
       "      <th>25%</th>\n",
       "      <td>1.486484</td>\n",
       "      <td>205.250000</td>\n",
       "    </tr>\n",
       "    <tr>\n",
       "      <th>50%</th>\n",
       "      <td>1.613600</td>\n",
       "      <td>248.500000</td>\n",
       "    </tr>\n",
       "    <tr>\n",
       "      <th>75%</th>\n",
       "      <td>1.744960</td>\n",
       "      <td>389.750000</td>\n",
       "    </tr>\n",
       "    <tr>\n",
       "      <th>max</th>\n",
       "      <td>3.373832</td>\n",
       "      <td>1463.000000</td>\n",
       "    </tr>\n",
       "  </tbody>\n",
       "</table>\n",
       "</div>\n",
       "      <button class=\"colab-df-convert\" onclick=\"convertToInteractive('df-d2b65a0a-91cc-40e2-ac0f-cb0914792d0a')\"\n",
       "              title=\"Convert this dataframe to an interactive table.\"\n",
       "              style=\"display:none;\">\n",
       "        \n",
       "  <svg xmlns=\"http://www.w3.org/2000/svg\" height=\"24px\"viewBox=\"0 0 24 24\"\n",
       "       width=\"24px\">\n",
       "    <path d=\"M0 0h24v24H0V0z\" fill=\"none\"/>\n",
       "    <path d=\"M18.56 5.44l.94 2.06.94-2.06 2.06-.94-2.06-.94-.94-2.06-.94 2.06-2.06.94zm-11 1L8.5 8.5l.94-2.06 2.06-.94-2.06-.94L8.5 2.5l-.94 2.06-2.06.94zm10 10l.94 2.06.94-2.06 2.06-.94-2.06-.94-.94-2.06-.94 2.06-2.06.94z\"/><path d=\"M17.41 7.96l-1.37-1.37c-.4-.4-.92-.59-1.43-.59-.52 0-1.04.2-1.43.59L10.3 9.45l-7.72 7.72c-.78.78-.78 2.05 0 2.83L4 21.41c.39.39.9.59 1.41.59.51 0 1.02-.2 1.41-.59l7.78-7.78 2.81-2.81c.8-.78.8-2.07 0-2.86zM5.41 20L4 18.59l7.72-7.72 1.47 1.35L5.41 20z\"/>\n",
       "  </svg>\n",
       "      </button>\n",
       "      \n",
       "  <style>\n",
       "    .colab-df-container {\n",
       "      display:flex;\n",
       "      flex-wrap:wrap;\n",
       "      gap: 12px;\n",
       "    }\n",
       "\n",
       "    .colab-df-convert {\n",
       "      background-color: #E8F0FE;\n",
       "      border: none;\n",
       "      border-radius: 50%;\n",
       "      cursor: pointer;\n",
       "      display: none;\n",
       "      fill: #1967D2;\n",
       "      height: 32px;\n",
       "      padding: 0 0 0 0;\n",
       "      width: 32px;\n",
       "    }\n",
       "\n",
       "    .colab-df-convert:hover {\n",
       "      background-color: #E2EBFA;\n",
       "      box-shadow: 0px 1px 2px rgba(60, 64, 67, 0.3), 0px 1px 3px 1px rgba(60, 64, 67, 0.15);\n",
       "      fill: #174EA6;\n",
       "    }\n",
       "\n",
       "    [theme=dark] .colab-df-convert {\n",
       "      background-color: #3B4455;\n",
       "      fill: #D2E3FC;\n",
       "    }\n",
       "\n",
       "    [theme=dark] .colab-df-convert:hover {\n",
       "      background-color: #434B5C;\n",
       "      box-shadow: 0px 1px 3px 1px rgba(0, 0, 0, 0.15);\n",
       "      filter: drop-shadow(0px 1px 2px rgba(0, 0, 0, 0.3));\n",
       "      fill: #FFFFFF;\n",
       "    }\n",
       "  </style>\n",
       "\n",
       "      <script>\n",
       "        const buttonEl =\n",
       "          document.querySelector('#df-d2b65a0a-91cc-40e2-ac0f-cb0914792d0a button.colab-df-convert');\n",
       "        buttonEl.style.display =\n",
       "          google.colab.kernel.accessAllowed ? 'block' : 'none';\n",
       "\n",
       "        async function convertToInteractive(key) {\n",
       "          const element = document.querySelector('#df-d2b65a0a-91cc-40e2-ac0f-cb0914792d0a');\n",
       "          const dataTable =\n",
       "            await google.colab.kernel.invokeFunction('convertToInteractive',\n",
       "                                                     [key], {});\n",
       "          if (!dataTable) return;\n",
       "\n",
       "          const docLinkHtml = 'Like what you see? Visit the ' +\n",
       "            '<a target=\"_blank\" href=https://colab.research.google.com/notebooks/data_table.ipynb>data table notebook</a>'\n",
       "            + ' to learn more about interactive tables.';\n",
       "          element.innerHTML = '';\n",
       "          dataTable['output_type'] = 'display_data';\n",
       "          await google.colab.output.renderOutput(dataTable, element);\n",
       "          const docLink = document.createElement('div');\n",
       "          docLink.innerHTML = docLinkHtml;\n",
       "          element.appendChild(docLink);\n",
       "        }\n",
       "      </script>\n",
       "    </div>\n",
       "  </div>\n",
       "  "
      ],
      "text/plain": [
       "        avg_count    play_freq\n",
       "count  478.000000   478.000000\n",
       "mean     1.638275   341.083682\n",
       "std      0.210920   218.353466\n",
       "min      1.238710   155.000000\n",
       "25%      1.486484   205.250000\n",
       "50%      1.613600   248.500000\n",
       "75%      1.744960   389.750000\n",
       "max      3.373832  1463.000000"
      ]
     },
     "execution_count": 348,
     "metadata": {},
     "output_type": "execute_result"
    }
   ],
   "source": [
    "final_play.describe(include='all')"
   ]
  },
  {
   "cell_type": "markdown",
   "metadata": {
    "id": "WnCT-A7RK_5g"
   },
   "source": [
    "Now, let's create a function to find the top n songs for a recommendation based on the average play count of song. We can also add a threshold for a minimum number of playcounts for a song to be considered for recommendation."
   ]
  },
  {
   "cell_type": "code",
   "execution_count": null,
   "metadata": {
    "id": "QiT9FV3GNCrb"
   },
   "outputs": [],
   "source": [
    "# Build the function to find top n songs\n",
    "\n",
    "# Defining a function to get the top n songs, based on the highest average play_count of a song and minimum interactions with it.\n",
    "# Find the top *n* songs that have _at least_ *min_interaction*s (>= min_interaction). \n",
    "# We choose the default value for min_interaction to be 200, which is > min(play_freq).\n",
    "# The songs are ranked based on their average play_count.\n",
    "\n",
    "def top_n_songs(final_play, n, min_interaction=200):\n",
    "    \n",
    "    # Finding songs with minimum number of interactions.\n",
    "    recommendations = final_play[final_play['play_freq'] >= min_interaction]\n",
    "    \n",
    "    # Sorting songs with respect to their average play_count. \n",
    "    recommendations = recommendations.sort_values(by='avg_count', ascending=False)\n",
    "    \n",
    "    # Return the top n songs.\n",
    "    return recommendations.index[:n]"
   ]
  },
  {
   "cell_type": "code",
   "execution_count": null,
   "metadata": {
    "colab": {
     "base_uri": "https://localhost:8080/",
     "height": 394
    },
    "id": "GpZt_BeXgz4F",
    "outputId": "dea71a71-3e4b-4698-83a0-7996a02d8080"
   },
   "outputs": [
    {
     "data": {
      "text/html": [
       "\n",
       "  <div id=\"df-bdfb3563-caf1-43ca-ad13-6c25f8b4bbad\">\n",
       "    <div class=\"colab-df-container\">\n",
       "      <div>\n",
       "<style scoped>\n",
       "    .dataframe tbody tr th:only-of-type {\n",
       "        vertical-align: middle;\n",
       "    }\n",
       "\n",
       "    .dataframe tbody tr th {\n",
       "        vertical-align: top;\n",
       "    }\n",
       "\n",
       "    .dataframe thead th {\n",
       "        text-align: right;\n",
       "    }\n",
       "</style>\n",
       "<table border=\"1\" class=\"dataframe\">\n",
       "  <thead>\n",
       "    <tr style=\"text-align: right;\">\n",
       "      <th></th>\n",
       "      <th>avg_count</th>\n",
       "      <th>play_freq</th>\n",
       "    </tr>\n",
       "    <tr>\n",
       "      <th>song_id</th>\n",
       "      <th></th>\n",
       "      <th></th>\n",
       "    </tr>\n",
       "  </thead>\n",
       "  <tbody>\n",
       "    <tr>\n",
       "      <th>7224</th>\n",
       "      <td>3.373832</td>\n",
       "      <td>361</td>\n",
       "    </tr>\n",
       "    <tr>\n",
       "      <th>8324</th>\n",
       "      <td>2.625000</td>\n",
       "      <td>252</td>\n",
       "    </tr>\n",
       "    <tr>\n",
       "      <th>9942</th>\n",
       "      <td>2.486667</td>\n",
       "      <td>373</td>\n",
       "    </tr>\n",
       "    <tr>\n",
       "      <th>5531</th>\n",
       "      <td>2.309061</td>\n",
       "      <td>1427</td>\n",
       "    </tr>\n",
       "    <tr>\n",
       "      <th>5653</th>\n",
       "      <td>2.296296</td>\n",
       "      <td>248</td>\n",
       "    </tr>\n",
       "    <tr>\n",
       "      <th>8483</th>\n",
       "      <td>2.235772</td>\n",
       "      <td>275</td>\n",
       "    </tr>\n",
       "    <tr>\n",
       "      <th>657</th>\n",
       "      <td>2.218543</td>\n",
       "      <td>335</td>\n",
       "    </tr>\n",
       "    <tr>\n",
       "      <th>614</th>\n",
       "      <td>2.217158</td>\n",
       "      <td>827</td>\n",
       "    </tr>\n",
       "    <tr>\n",
       "      <th>4831</th>\n",
       "      <td>2.206186</td>\n",
       "      <td>214</td>\n",
       "    </tr>\n",
       "    <tr>\n",
       "      <th>6860</th>\n",
       "      <td>2.171598</td>\n",
       "      <td>367</td>\n",
       "    </tr>\n",
       "  </tbody>\n",
       "</table>\n",
       "</div>\n",
       "      <button class=\"colab-df-convert\" onclick=\"convertToInteractive('df-bdfb3563-caf1-43ca-ad13-6c25f8b4bbad')\"\n",
       "              title=\"Convert this dataframe to an interactive table.\"\n",
       "              style=\"display:none;\">\n",
       "        \n",
       "  <svg xmlns=\"http://www.w3.org/2000/svg\" height=\"24px\"viewBox=\"0 0 24 24\"\n",
       "       width=\"24px\">\n",
       "    <path d=\"M0 0h24v24H0V0z\" fill=\"none\"/>\n",
       "    <path d=\"M18.56 5.44l.94 2.06.94-2.06 2.06-.94-2.06-.94-.94-2.06-.94 2.06-2.06.94zm-11 1L8.5 8.5l.94-2.06 2.06-.94-2.06-.94L8.5 2.5l-.94 2.06-2.06.94zm10 10l.94 2.06.94-2.06 2.06-.94-2.06-.94-.94-2.06-.94 2.06-2.06.94z\"/><path d=\"M17.41 7.96l-1.37-1.37c-.4-.4-.92-.59-1.43-.59-.52 0-1.04.2-1.43.59L10.3 9.45l-7.72 7.72c-.78.78-.78 2.05 0 2.83L4 21.41c.39.39.9.59 1.41.59.51 0 1.02-.2 1.41-.59l7.78-7.78 2.81-2.81c.8-.78.8-2.07 0-2.86zM5.41 20L4 18.59l7.72-7.72 1.47 1.35L5.41 20z\"/>\n",
       "  </svg>\n",
       "      </button>\n",
       "      \n",
       "  <style>\n",
       "    .colab-df-container {\n",
       "      display:flex;\n",
       "      flex-wrap:wrap;\n",
       "      gap: 12px;\n",
       "    }\n",
       "\n",
       "    .colab-df-convert {\n",
       "      background-color: #E8F0FE;\n",
       "      border: none;\n",
       "      border-radius: 50%;\n",
       "      cursor: pointer;\n",
       "      display: none;\n",
       "      fill: #1967D2;\n",
       "      height: 32px;\n",
       "      padding: 0 0 0 0;\n",
       "      width: 32px;\n",
       "    }\n",
       "\n",
       "    .colab-df-convert:hover {\n",
       "      background-color: #E2EBFA;\n",
       "      box-shadow: 0px 1px 2px rgba(60, 64, 67, 0.3), 0px 1px 3px 1px rgba(60, 64, 67, 0.15);\n",
       "      fill: #174EA6;\n",
       "    }\n",
       "\n",
       "    [theme=dark] .colab-df-convert {\n",
       "      background-color: #3B4455;\n",
       "      fill: #D2E3FC;\n",
       "    }\n",
       "\n",
       "    [theme=dark] .colab-df-convert:hover {\n",
       "      background-color: #434B5C;\n",
       "      box-shadow: 0px 1px 3px 1px rgba(0, 0, 0, 0.15);\n",
       "      filter: drop-shadow(0px 1px 2px rgba(0, 0, 0, 0.3));\n",
       "      fill: #FFFFFF;\n",
       "    }\n",
       "  </style>\n",
       "\n",
       "      <script>\n",
       "        const buttonEl =\n",
       "          document.querySelector('#df-bdfb3563-caf1-43ca-ad13-6c25f8b4bbad button.colab-df-convert');\n",
       "        buttonEl.style.display =\n",
       "          google.colab.kernel.accessAllowed ? 'block' : 'none';\n",
       "\n",
       "        async function convertToInteractive(key) {\n",
       "          const element = document.querySelector('#df-bdfb3563-caf1-43ca-ad13-6c25f8b4bbad');\n",
       "          const dataTable =\n",
       "            await google.colab.kernel.invokeFunction('convertToInteractive',\n",
       "                                                     [key], {});\n",
       "          if (!dataTable) return;\n",
       "\n",
       "          const docLinkHtml = 'Like what you see? Visit the ' +\n",
       "            '<a target=\"_blank\" href=https://colab.research.google.com/notebooks/data_table.ipynb>data table notebook</a>'\n",
       "            + ' to learn more about interactive tables.';\n",
       "          element.innerHTML = '';\n",
       "          dataTable['output_type'] = 'display_data';\n",
       "          await google.colab.output.renderOutput(dataTable, element);\n",
       "          const docLink = document.createElement('div');\n",
       "          docLink.innerHTML = docLinkHtml;\n",
       "          element.appendChild(docLink);\n",
       "        }\n",
       "      </script>\n",
       "    </div>\n",
       "  </div>\n",
       "  "
      ],
      "text/plain": [
       "         avg_count  play_freq\n",
       "song_id                      \n",
       "7224      3.373832        361\n",
       "8324      2.625000        252\n",
       "9942      2.486667        373\n",
       "5531      2.309061       1427\n",
       "5653      2.296296        248\n",
       "8483      2.235772        275\n",
       "657       2.218543        335\n",
       "614       2.217158        827\n",
       "4831      2.206186        214\n",
       "6860      2.171598        367"
      ]
     },
     "execution_count": 350,
     "metadata": {},
     "output_type": "execute_result"
    }
   ],
   "source": [
    "# Recommend top 10 songs using the function defined above\n",
    "\n",
    "list(top_n_songs(final_play, 10))\n",
    "\n",
    "final_play.loc[top_n_songs(final_play, 10)]\n"
   ]
  },
  {
   "cell_type": "markdown",
   "metadata": {
    "id": "iwllXhduOO3L"
   },
   "source": [
    "#### Display the information on the top 10 most popular songs\n",
    "\n",
    "Please note that we are only displaying one entry for each song. The total number of records in this subset is in fact `1992`."
   ]
  },
  {
   "cell_type": "code",
   "execution_count": null,
   "metadata": {
    "colab": {
     "base_uri": "https://localhost:8080/"
    },
    "id": "LYPLq5MOoBl9",
    "outputId": "f3d61748-e3f6-44db-80c2-6aa139a1d4ae"
   },
   "outputs": [
    {
     "name": "stdout",
     "output_type": "stream",
     "text": [
      "\u001b[1m\u001b[92mThere are 1992 entries corresponding to the top 10 most popular songs.\u001b[0m\n"
     ]
    }
   ],
   "source": [
    "print(clr.S+'There are {} entries corresponding to the top 10 most popular songs.'\\\n",
    "      .format(df_final.loc[df_final['song_id'].isin(top_n_songs(final_play, 10))].shape[0])+clr.E)"
   ]
  },
  {
   "cell_type": "code",
   "execution_count": null,
   "metadata": {
    "colab": {
     "base_uri": "https://localhost:8080/",
     "height": 363
    },
    "id": "bFdBQFpKNN_v",
    "outputId": "50d25fdf-d587-4a45-8473-ca814d377f81"
   },
   "outputs": [
    {
     "data": {
      "text/html": [
       "\n",
       "  <div id=\"df-42c81a72-dd54-4cc5-b9d5-bd35263d8da0\">\n",
       "    <div class=\"colab-df-container\">\n",
       "      <div>\n",
       "<style scoped>\n",
       "    .dataframe tbody tr th:only-of-type {\n",
       "        vertical-align: middle;\n",
       "    }\n",
       "\n",
       "    .dataframe tbody tr th {\n",
       "        vertical-align: top;\n",
       "    }\n",
       "\n",
       "    .dataframe thead th {\n",
       "        text-align: right;\n",
       "    }\n",
       "</style>\n",
       "<table border=\"1\" class=\"dataframe\">\n",
       "  <thead>\n",
       "    <tr style=\"text-align: right;\">\n",
       "      <th></th>\n",
       "      <th>user_id</th>\n",
       "      <th>song_id</th>\n",
       "      <th>play_count</th>\n",
       "      <th>title</th>\n",
       "      <th>release</th>\n",
       "      <th>artist_name</th>\n",
       "      <th>year</th>\n",
       "    </tr>\n",
       "  </thead>\n",
       "  <tbody>\n",
       "    <tr>\n",
       "      <th>16144</th>\n",
       "      <td>37938</td>\n",
       "      <td>614</td>\n",
       "      <td>1</td>\n",
       "      <td>You're The One</td>\n",
       "      <td>If There Was A Way</td>\n",
       "      <td>Dwight Yoakam</td>\n",
       "      <td>1990</td>\n",
       "    </tr>\n",
       "    <tr>\n",
       "      <th>4408</th>\n",
       "      <td>7320</td>\n",
       "      <td>657</td>\n",
       "      <td>1</td>\n",
       "      <td>Luvstruck</td>\n",
       "      <td>Hard House Anthems</td>\n",
       "      <td>Southside Spinners</td>\n",
       "      <td>1999</td>\n",
       "    </tr>\n",
       "    <tr>\n",
       "      <th>2082</th>\n",
       "      <td>34234</td>\n",
       "      <td>4831</td>\n",
       "      <td>3</td>\n",
       "      <td>Heaven Must Be Missing An Angel</td>\n",
       "      <td>Capitol Gold: The Best Of Tavares</td>\n",
       "      <td>Tavares</td>\n",
       "      <td>1979</td>\n",
       "    </tr>\n",
       "    <tr>\n",
       "      <th>8756</th>\n",
       "      <td>57932</td>\n",
       "      <td>5531</td>\n",
       "      <td>3</td>\n",
       "      <td>Secrets</td>\n",
       "      <td>Waking Up</td>\n",
       "      <td>OneRepublic</td>\n",
       "      <td>2009</td>\n",
       "    </tr>\n",
       "    <tr>\n",
       "      <th>8759</th>\n",
       "      <td>57932</td>\n",
       "      <td>5653</td>\n",
       "      <td>1</td>\n",
       "      <td>Transparency</td>\n",
       "      <td>Workout Holiday</td>\n",
       "      <td>White Denim</td>\n",
       "      <td>2008</td>\n",
       "    </tr>\n",
       "    <tr>\n",
       "      <th>14805</th>\n",
       "      <td>60910</td>\n",
       "      <td>6860</td>\n",
       "      <td>2</td>\n",
       "      <td>Mercy:The Laundromat</td>\n",
       "      <td>Westing (By Musket and Sextant)</td>\n",
       "      <td>Pavement</td>\n",
       "      <td>1993</td>\n",
       "    </tr>\n",
       "    <tr>\n",
       "      <th>24098</th>\n",
       "      <td>23297</td>\n",
       "      <td>7224</td>\n",
       "      <td>5</td>\n",
       "      <td>Victoria (LP Version)</td>\n",
       "      <td>Hit By A Train: The Best Of Old 97's</td>\n",
       "      <td>Old 97's</td>\n",
       "      <td>2006</td>\n",
       "    </tr>\n",
       "    <tr>\n",
       "      <th>24163</th>\n",
       "      <td>23297</td>\n",
       "      <td>8324</td>\n",
       "      <td>5</td>\n",
       "      <td>The Big Gundown</td>\n",
       "      <td>Invaders Must Die Remixes and Bonus Tracks</td>\n",
       "      <td>The Prodigy</td>\n",
       "      <td>2009</td>\n",
       "    </tr>\n",
       "    <tr>\n",
       "      <th>40484</th>\n",
       "      <td>59579</td>\n",
       "      <td>8483</td>\n",
       "      <td>3</td>\n",
       "      <td>Video Killed The Radio Star</td>\n",
       "      <td>Friends Reunited: Music Of The Year 1979</td>\n",
       "      <td>The Buggles</td>\n",
       "      <td>1979</td>\n",
       "    </tr>\n",
       "    <tr>\n",
       "      <th>12637</th>\n",
       "      <td>34225</td>\n",
       "      <td>9942</td>\n",
       "      <td>5</td>\n",
       "      <td>Greece 2000</td>\n",
       "      <td>Greece 2000</td>\n",
       "      <td>Three Drives</td>\n",
       "      <td>1997</td>\n",
       "    </tr>\n",
       "  </tbody>\n",
       "</table>\n",
       "</div>\n",
       "      <button class=\"colab-df-convert\" onclick=\"convertToInteractive('df-42c81a72-dd54-4cc5-b9d5-bd35263d8da0')\"\n",
       "              title=\"Convert this dataframe to an interactive table.\"\n",
       "              style=\"display:none;\">\n",
       "        \n",
       "  <svg xmlns=\"http://www.w3.org/2000/svg\" height=\"24px\"viewBox=\"0 0 24 24\"\n",
       "       width=\"24px\">\n",
       "    <path d=\"M0 0h24v24H0V0z\" fill=\"none\"/>\n",
       "    <path d=\"M18.56 5.44l.94 2.06.94-2.06 2.06-.94-2.06-.94-.94-2.06-.94 2.06-2.06.94zm-11 1L8.5 8.5l.94-2.06 2.06-.94-2.06-.94L8.5 2.5l-.94 2.06-2.06.94zm10 10l.94 2.06.94-2.06 2.06-.94-2.06-.94-.94-2.06-.94 2.06-2.06.94z\"/><path d=\"M17.41 7.96l-1.37-1.37c-.4-.4-.92-.59-1.43-.59-.52 0-1.04.2-1.43.59L10.3 9.45l-7.72 7.72c-.78.78-.78 2.05 0 2.83L4 21.41c.39.39.9.59 1.41.59.51 0 1.02-.2 1.41-.59l7.78-7.78 2.81-2.81c.8-.78.8-2.07 0-2.86zM5.41 20L4 18.59l7.72-7.72 1.47 1.35L5.41 20z\"/>\n",
       "  </svg>\n",
       "      </button>\n",
       "      \n",
       "  <style>\n",
       "    .colab-df-container {\n",
       "      display:flex;\n",
       "      flex-wrap:wrap;\n",
       "      gap: 12px;\n",
       "    }\n",
       "\n",
       "    .colab-df-convert {\n",
       "      background-color: #E8F0FE;\n",
       "      border: none;\n",
       "      border-radius: 50%;\n",
       "      cursor: pointer;\n",
       "      display: none;\n",
       "      fill: #1967D2;\n",
       "      height: 32px;\n",
       "      padding: 0 0 0 0;\n",
       "      width: 32px;\n",
       "    }\n",
       "\n",
       "    .colab-df-convert:hover {\n",
       "      background-color: #E2EBFA;\n",
       "      box-shadow: 0px 1px 2px rgba(60, 64, 67, 0.3), 0px 1px 3px 1px rgba(60, 64, 67, 0.15);\n",
       "      fill: #174EA6;\n",
       "    }\n",
       "\n",
       "    [theme=dark] .colab-df-convert {\n",
       "      background-color: #3B4455;\n",
       "      fill: #D2E3FC;\n",
       "    }\n",
       "\n",
       "    [theme=dark] .colab-df-convert:hover {\n",
       "      background-color: #434B5C;\n",
       "      box-shadow: 0px 1px 3px 1px rgba(0, 0, 0, 0.15);\n",
       "      filter: drop-shadow(0px 1px 2px rgba(0, 0, 0, 0.3));\n",
       "      fill: #FFFFFF;\n",
       "    }\n",
       "  </style>\n",
       "\n",
       "      <script>\n",
       "        const buttonEl =\n",
       "          document.querySelector('#df-42c81a72-dd54-4cc5-b9d5-bd35263d8da0 button.colab-df-convert');\n",
       "        buttonEl.style.display =\n",
       "          google.colab.kernel.accessAllowed ? 'block' : 'none';\n",
       "\n",
       "        async function convertToInteractive(key) {\n",
       "          const element = document.querySelector('#df-42c81a72-dd54-4cc5-b9d5-bd35263d8da0');\n",
       "          const dataTable =\n",
       "            await google.colab.kernel.invokeFunction('convertToInteractive',\n",
       "                                                     [key], {});\n",
       "          if (!dataTable) return;\n",
       "\n",
       "          const docLinkHtml = 'Like what you see? Visit the ' +\n",
       "            '<a target=\"_blank\" href=https://colab.research.google.com/notebooks/data_table.ipynb>data table notebook</a>'\n",
       "            + ' to learn more about interactive tables.';\n",
       "          element.innerHTML = '';\n",
       "          dataTable['output_type'] = 'display_data';\n",
       "          await google.colab.output.renderOutput(dataTable, element);\n",
       "          const docLink = document.createElement('div');\n",
       "          docLink.innerHTML = docLinkHtml;\n",
       "          element.appendChild(docLink);\n",
       "        }\n",
       "      </script>\n",
       "    </div>\n",
       "  </div>\n",
       "  "
      ],
      "text/plain": [
       "       user_id  song_id  play_count                            title  \\\n",
       "16144    37938      614           1                   You're The One   \n",
       "4408      7320      657           1                        Luvstruck   \n",
       "2082     34234     4831           3  Heaven Must Be Missing An Angel   \n",
       "8756     57932     5531           3                          Secrets   \n",
       "8759     57932     5653           1                     Transparency   \n",
       "14805    60910     6860           2             Mercy:The Laundromat   \n",
       "24098    23297     7224           5            Victoria (LP Version)   \n",
       "24163    23297     8324           5                  The Big Gundown   \n",
       "40484    59579     8483           3      Video Killed The Radio Star   \n",
       "12637    34225     9942           5                      Greece 2000   \n",
       "\n",
       "                                          release         artist_name  year  \n",
       "16144                          If There Was A Way       Dwight Yoakam  1990  \n",
       "4408                           Hard House Anthems  Southside Spinners  1999  \n",
       "2082            Capitol Gold: The Best Of Tavares             Tavares  1979  \n",
       "8756                                    Waking Up         OneRepublic  2009  \n",
       "8759                              Workout Holiday         White Denim  2008  \n",
       "14805             Westing (By Musket and Sextant)            Pavement  1993  \n",
       "24098        Hit By A Train: The Best Of Old 97's            Old 97's  2006  \n",
       "24163  Invaders Must Die Remixes and Bonus Tracks         The Prodigy  2009  \n",
       "40484    Friends Reunited: Music Of The Year 1979         The Buggles  1979  \n",
       "12637                                 Greece 2000        Three Drives  1997  "
      ]
     },
     "execution_count": 352,
     "metadata": {},
     "output_type": "execute_result"
    }
   ],
   "source": [
    "df_final.loc[df_final['song_id'].isin(top_n_songs(final_play, 10))].drop_duplicates('title').sort_values(by='song_id')"
   ]
  },
  {
   "cell_type": "code",
   "execution_count": null,
   "metadata": {
    "colab": {
     "base_uri": "https://localhost:8080/"
    },
    "id": "aKLrKn8IfGjk",
    "outputId": "ddca5d50-24a0-4166-a80c-ef3df3ad5473"
   },
   "outputs": [
    {
     "name": "stdout",
     "output_type": "stream",
     "text": [
      "Looking in indexes: https://pypi.org/simple, https://us-python.pkg.dev/colab-wheels/public/simple/\n",
      "Collecting surprise\n",
      "  Downloading surprise-0.1-py2.py3-none-any.whl (1.8 kB)\n",
      "Collecting scikit-surprise\n",
      "  Downloading scikit-surprise-1.1.3.tar.gz (771 kB)\n",
      "\u001b[2K     \u001b[90m━━━━━━━━━━━━━━━━━━━━━━━━━━━━━━━━━━━━━━\u001b[0m \u001b[32m772.0/772.0 kB\u001b[0m \u001b[31m17.3 MB/s\u001b[0m eta \u001b[36m0:00:00\u001b[0m\n",
      "\u001b[?25h  Preparing metadata (setup.py) ... \u001b[?25l\u001b[?25hdone\n",
      "Requirement already satisfied: joblib>=1.0.0 in /usr/local/lib/python3.9/dist-packages (from scikit-surprise->surprise) (1.2.0)\n",
      "Requirement already satisfied: numpy>=1.17.3 in /usr/local/lib/python3.9/dist-packages (from scikit-surprise->surprise) (1.22.4)\n",
      "Requirement already satisfied: scipy>=1.3.2 in /usr/local/lib/python3.9/dist-packages (from scikit-surprise->surprise) (1.10.1)\n",
      "Building wheels for collected packages: scikit-surprise\n",
      "  Building wheel for scikit-surprise (setup.py) ... \u001b[?25l\u001b[?25hdone\n",
      "  Created wheel for scikit-surprise: filename=scikit_surprise-1.1.3-cp39-cp39-linux_x86_64.whl size=3195854 sha256=64b1cac277bb547e6c8694692e2eb2a35d8da290a6f71cbaa066cb4cdb3fedd8\n",
      "  Stored in directory: /root/.cache/pip/wheels/c6/3a/46/9b17b3512bdf283c6cb84f59929cdd5199d4e754d596d22784\n",
      "Successfully built scikit-surprise\n",
      "Installing collected packages: scikit-surprise, surprise\n",
      "Successfully installed scikit-surprise-1.1.3 surprise-0.1\n"
     ]
    }
   ],
   "source": [
    "# Install the surprise package using pip. Uncomment and run the below code to do the same\n",
    "\n",
    "!pip install surprise "
   ]
  },
  {
   "cell_type": "code",
   "execution_count": null,
   "metadata": {
    "id": "UJ1wEylUpexj"
   },
   "outputs": [],
   "source": [
    "# Import the necessary libraries\n",
    "\n",
    "# To compute the accuracy of models\n",
    "from surprise import accuracy\n",
    "\n",
    "# This class is used to parse a file containing play_counts, data should be in structure - user; item; play_count\n",
    "from surprise.reader import Reader\n",
    "\n",
    "# Class for loading datasets\n",
    "from surprise.dataset import Dataset\n",
    "\n",
    "# For tuning model hyperparameters\n",
    "from surprise.model_selection import GridSearchCV, RandomizedSearchCV\n",
    "\n",
    "# For splitting the data in train and test dataset\n",
    "from surprise.model_selection import train_test_split\n",
    "\n",
    "# For implementing similarity-based recommendation system\n",
    "from surprise.prediction_algorithms.knns import KNNBasic\n",
    "\n",
    "# For implementing matrix factorization based recommendation system\n",
    "from surprise.prediction_algorithms.matrix_factorization import SVD\n",
    "\n",
    "# For implementing KFold cross-validation\n",
    "from surprise.model_selection import KFold\n",
    "\n",
    "# For implementing clustering-based recommendation system\n",
    "from surprise import CoClustering"
   ]
  },
  {
   "cell_type": "markdown",
   "metadata": {
    "id": "5Ng3MaRHpdYj"
   },
   "source": [
    "## **6.2 Collaborative-Filtering-Based Models**"
   ]
  },
  {
   "cell_type": "markdown",
   "metadata": {
    "id": "jBW4BUhWTsnm"
   },
   "source": [
    "### **Evaluating the performance of the models: the metrics used**"
   ]
  },
  {
   "cell_type": "markdown",
   "metadata": {
    "id": "BAuZeQ90BQBP"
   },
   "source": [
    "In order to evaluate the performance of a model, we are using the function `precision_recall_at_k`, inspired from the `Surprise` library. The `Precision@k`, `Recall@k` and `F1_score@k` are defined below:\n",
    "\n",
    "$\\text{Precision@k} = \\frac{ | \\{ \\text{Recommended items that are relevant} \\} | }{ | \\{ \\text{Recommended items} \\} | }$\n",
    "\n",
    "$\\text{Recall@k} = \\frac{ | \\{ \\text{Recommended items that are relevant} \\} | }{ | \\{ \\text{Relevant items} \\} | }$\n",
    "\n",
    "$\\text{F1_score@k} = \\frac{2}{{\\frac{1}{\\text{Precision@k}} + {\\frac{1}{\\text{Recall@k}}}}}$\n",
    "\n",
    "An item is considered `relevant` if its true rating $r_{ui}$ is greater than a given threshold. An item is considered `recommended` if its estimated rating\n",
    "$\\hat{r}_{ui}$ is greater than the threshold, and if it is among the k highest estimated ratings.\n",
    "\n",
    "Note that in the edge cases where division by zero occurs, Precision@k and Recall@k values are undefined. As a convention, we set their values to 0 in such cases.\n",
    "\n",
    "`Recall`: the fraction of relevant songs that are recommended to a user.\n",
    "\n",
    "`Precision`: the fraction of the recommended songs that are relevant to the user.\n"
   ]
  },
  {
   "cell_type": "code",
   "execution_count": null,
   "metadata": {
    "colab": {
     "base_uri": "https://localhost:8080/"
    },
    "id": "IA7XPgqYlElZ",
    "outputId": "9f2e06de-2e36-45dc-ead1-5f3bbc6c6786"
   },
   "outputs": [
    {
     "data": {
      "text/plain": [
       "count    97227.000000\n",
       "mean         1.676880\n",
       "std          1.071061\n",
       "min          1.000000\n",
       "25%          1.000000\n",
       "50%          1.000000\n",
       "75%          2.000000\n",
       "max          5.000000\n",
       "Name: play_count, dtype: float64"
      ]
     },
     "execution_count": 246,
     "metadata": {},
     "output_type": "execute_result"
    }
   ],
   "source": [
    "df_final['play_count'].describe()"
   ]
  },
  {
   "cell_type": "markdown",
   "metadata": {
    "id": "NWPsBsnyQ2eb"
   },
   "source": [
    "### **Preparing the data for modeling**\n",
    "Since the rating contains only values in the [1, 5] range, it follows that our scaling should perform similarly. "
   ]
  },
  {
   "cell_type": "code",
   "execution_count": null,
   "metadata": {
    "id": "rGfYDiOCpe4X"
   },
   "outputs": [],
   "source": [
    "# Instantiating Reader scale with expected rating scale \n",
    " #use rating scale (1, 5)\n",
    "reader = Reader(rating_scale = (1, 5))\n",
    "# Loading the dataset\n",
    " # Take only \"user_id\",\"song_id\", and \"play_count\"\n",
    "data = Dataset.load_from_df(df_final[['user_id', 'song_id', 'play_count']], reader)\n",
    "\n",
    "# Splitting the data into train and test dataset\n",
    " # Take test_size = 0.2, random_state = 42\n",
    "trainset, testset = train_test_split(data, test_size = 0.2, random_state = 42)"
   ]
  },
  {
   "cell_type": "markdown",
   "metadata": {
    "id": "n6IwtauVTt-d"
   },
   "source": [
    "### **6.2.a Similarity/Neighborhood-Based Models**\n",
    "\n",
    "We will be building two categories of models based on similarity algorithms:\n",
    "- User-user similarity, and its improved version, and\n",
    "- Item-item similarity, and its improved version."
   ]
  },
  {
   "cell_type": "markdown",
   "metadata": {
    "id": "Ue-wPix9Umcg"
   },
   "source": [
    "### **Build a baseline user-user-similarity model**"
   ]
  },
  {
   "cell_type": "code",
   "execution_count": null,
   "metadata": {
    "colab": {
     "base_uri": "https://localhost:8080/"
    },
    "id": "vO3FL7iape8A",
    "outputId": "2a01586e-f2dc-4940-c719-aa8325ca59a0",
    "scrolled": false
   },
   "outputs": [
    {
     "name": "stdout",
     "output_type": "stream",
     "text": [
      "Computing the cosine similarity matrix...\n",
      "Done computing similarity matrix.\n",
      "\u001b[1m\u001b[92mrmse: 1.088, recall: 0.948, precision: 1.0, f1_score: 0.973\u001b[0m\n",
      "\u001b[1m\u001b[92mrmse: 1.088, recall: 0.994, precision: 1.0, f1_score: 0.997\u001b[0m\n",
      "\u001b[1m\u001b[92mrmse: 1.088, recall: 0.999, precision: 1.0, f1_score: 0.999\u001b[0m\n",
      "\u001b[1m\u001b[92mrmse: 1.088, recall: 1.0, precision: 1.0, f1_score: 1.0\u001b[0m\n"
     ]
    }
   ],
   "source": [
    "# Build the default user-user-similarity model\n",
    "\n",
    "sim_options = {'name': 'cosine',\n",
    "               'user_based': True}\n",
    "\n",
    "# KNN algorithm is used to find desired similar items\n",
    " # Use random_state = 1 \n",
    "sim_user_user = KNNBasic(sim_options=sim_options, Verbose=False, random_state=1) \n",
    "# Train the algorithm on the trainset, and predict play_count for the testset\n",
    "sim_user_user.fit(trainset)\n",
    "\n",
    "precision_recall_at_k(sim_user_user, 10, 1)\n",
    "precision_recall_at_k(sim_user_user, 20, 1)\n",
    "precision_recall_at_k(sim_user_user, 30, 1)\n",
    "precision_recall_at_k(sim_user_user, 40, 1)\n"
   ]
  },
  {
   "cell_type": "code",
   "execution_count": null,
   "metadata": {
    "colab": {
     "base_uri": "https://localhost:8080/"
    },
    "id": "wQmlBLZEW1nA",
    "outputId": "17942977-9778-4494-e607-401311f33576"
   },
   "outputs": [
    {
     "data": {
      "text/plain": [
       "user_id                                       66342\n",
       "song_id                                        8882\n",
       "play_count                                        1\n",
       "title          Every Little Thing She Does Is Magic\n",
       "release        Every Breath You Take : The Classics\n",
       "artist_name                              The Police\n",
       "year                                           1981\n",
       "Name: 863134, dtype: object"
      ]
     },
     "execution_count": 258,
     "metadata": {},
     "output_type": "execute_result"
    }
   ],
   "source": [
    "# Displaying the row from the dataframe corresponding to today's date: 04-11-23.\n",
    "df_final.iloc[41223]"
   ]
  },
  {
   "cell_type": "code",
   "execution_count": null,
   "metadata": {
    "colab": {
     "base_uri": "https://localhost:8080/",
     "height": 739
    },
    "id": "A7SvorEUajrB",
    "outputId": "89601f96-3c20-4e26-ff46-28fd37123b84"
   },
   "outputs": [
    {
     "data": {
      "text/html": [
       "\n",
       "  <div id=\"df-c684854c-51ca-4176-9b9d-00da28dc7c76\">\n",
       "    <div class=\"colab-df-container\">\n",
       "      <div>\n",
       "<style scoped>\n",
       "    .dataframe tbody tr th:only-of-type {\n",
       "        vertical-align: middle;\n",
       "    }\n",
       "\n",
       "    .dataframe tbody tr th {\n",
       "        vertical-align: top;\n",
       "    }\n",
       "\n",
       "    .dataframe thead th {\n",
       "        text-align: right;\n",
       "    }\n",
       "</style>\n",
       "<table border=\"1\" class=\"dataframe\">\n",
       "  <thead>\n",
       "    <tr style=\"text-align: right;\">\n",
       "      <th></th>\n",
       "      <th>song_id</th>\n",
       "      <th>play_count</th>\n",
       "      <th>title</th>\n",
       "      <th>release</th>\n",
       "      <th>artist_name</th>\n",
       "      <th>year</th>\n",
       "    </tr>\n",
       "  </thead>\n",
       "  <tbody>\n",
       "    <tr>\n",
       "      <th>863051</th>\n",
       "      <td>21</td>\n",
       "      <td>1</td>\n",
       "      <td>Back Against The Wall</td>\n",
       "      <td>Cage The Elephant</td>\n",
       "      <td>Cage The Elephant</td>\n",
       "      <td>2008</td>\n",
       "    </tr>\n",
       "    <tr>\n",
       "      <th>863059</th>\n",
       "      <td>750</td>\n",
       "      <td>5</td>\n",
       "      <td>Constellations</td>\n",
       "      <td>In Between Dreams</td>\n",
       "      <td>Jack Johnson</td>\n",
       "      <td>2005</td>\n",
       "    </tr>\n",
       "    <tr>\n",
       "      <th>863061</th>\n",
       "      <td>1118</td>\n",
       "      <td>1</td>\n",
       "      <td>Clocks</td>\n",
       "      <td>A Rush Of Blood To The Head</td>\n",
       "      <td>Coldplay</td>\n",
       "      <td>2002</td>\n",
       "    </tr>\n",
       "    <tr>\n",
       "      <th>863070</th>\n",
       "      <td>1828</td>\n",
       "      <td>3</td>\n",
       "      <td>Times Like These</td>\n",
       "      <td>On And On</td>\n",
       "      <td>Jack Johnson</td>\n",
       "      <td>2003</td>\n",
       "    </tr>\n",
       "    <tr>\n",
       "      <th>863073</th>\n",
       "      <td>2091</td>\n",
       "      <td>1</td>\n",
       "      <td>Just Dance</td>\n",
       "      <td>Just Dance</td>\n",
       "      <td>Lady GaGa / Colby O'Donis</td>\n",
       "      <td>2008</td>\n",
       "    </tr>\n",
       "    <tr>\n",
       "      <th>863076</th>\n",
       "      <td>2276</td>\n",
       "      <td>1</td>\n",
       "      <td>Far Away (Album Version)</td>\n",
       "      <td>All The Right Reasons</td>\n",
       "      <td>Nickelback</td>\n",
       "      <td>2006</td>\n",
       "    </tr>\n",
       "    <tr>\n",
       "      <th>863079</th>\n",
       "      <td>2610</td>\n",
       "      <td>1</td>\n",
       "      <td>Livin' On A Prayer</td>\n",
       "      <td>Cross Road</td>\n",
       "      <td>Bon Jovi</td>\n",
       "      <td>1986</td>\n",
       "    </tr>\n",
       "    <tr>\n",
       "      <th>863081</th>\n",
       "      <td>2686</td>\n",
       "      <td>1</td>\n",
       "      <td>Vanilla Twilight</td>\n",
       "      <td>Ocean Eyes</td>\n",
       "      <td>Owl City</td>\n",
       "      <td>2009</td>\n",
       "    </tr>\n",
       "    <tr>\n",
       "      <th>863094</th>\n",
       "      <td>4152</td>\n",
       "      <td>1</td>\n",
       "      <td>The Scientist</td>\n",
       "      <td>The Scientist</td>\n",
       "      <td>Coldplay</td>\n",
       "      <td>2002</td>\n",
       "    </tr>\n",
       "    <tr>\n",
       "      <th>863095</th>\n",
       "      <td>4160</td>\n",
       "      <td>4</td>\n",
       "      <td>How You Remind Me</td>\n",
       "      <td>FETENHITS - New Party Rock (set)</td>\n",
       "      <td>Nickelback</td>\n",
       "      <td>2000</td>\n",
       "    </tr>\n",
       "    <tr>\n",
       "      <th>863097</th>\n",
       "      <td>4289</td>\n",
       "      <td>2</td>\n",
       "      <td>Do You Remember</td>\n",
       "      <td>In Between Dreams</td>\n",
       "      <td>Jack Johnson</td>\n",
       "      <td>2005</td>\n",
       "    </tr>\n",
       "    <tr>\n",
       "      <th>863101</th>\n",
       "      <td>4727</td>\n",
       "      <td>1</td>\n",
       "      <td>All The Right Moves</td>\n",
       "      <td>Waking Up</td>\n",
       "      <td>OneRepublic</td>\n",
       "      <td>2009</td>\n",
       "    </tr>\n",
       "    <tr>\n",
       "      <th>863107</th>\n",
       "      <td>5843</td>\n",
       "      <td>1</td>\n",
       "      <td>You Give Love A Bad Name</td>\n",
       "      <td>Slippery When Wet: Special Edition</td>\n",
       "      <td>Bon Jovi</td>\n",
       "      <td>1986</td>\n",
       "    </tr>\n",
       "    <tr>\n",
       "      <th>863110</th>\n",
       "      <td>5991</td>\n",
       "      <td>1</td>\n",
       "      <td>I Want You</td>\n",
       "      <td>Only By The Night</td>\n",
       "      <td>Kings Of Leon</td>\n",
       "      <td>2008</td>\n",
       "    </tr>\n",
       "    <tr>\n",
       "      <th>863112</th>\n",
       "      <td>6293</td>\n",
       "      <td>1</td>\n",
       "      <td>Yellow</td>\n",
       "      <td>Yellow</td>\n",
       "      <td>Coldplay</td>\n",
       "      <td>2000</td>\n",
       "    </tr>\n",
       "    <tr>\n",
       "      <th>863122</th>\n",
       "      <td>7525</td>\n",
       "      <td>1</td>\n",
       "      <td>Read My Mind</td>\n",
       "      <td>Sam's Town</td>\n",
       "      <td>The Killers</td>\n",
       "      <td>2006</td>\n",
       "    </tr>\n",
       "    <tr>\n",
       "      <th>863124</th>\n",
       "      <td>7977</td>\n",
       "      <td>5</td>\n",
       "      <td>Speed Of Sound</td>\n",
       "      <td>Speed Of Sound</td>\n",
       "      <td>Coldplay</td>\n",
       "      <td>2005</td>\n",
       "    </tr>\n",
       "    <tr>\n",
       "      <th>863128</th>\n",
       "      <td>8411</td>\n",
       "      <td>1</td>\n",
       "      <td>Sweet home Alabama</td>\n",
       "      <td>To Die For</td>\n",
       "      <td>Lynyrd Skynyrd</td>\n",
       "      <td>1974</td>\n",
       "    </tr>\n",
       "    <tr>\n",
       "      <th>863133</th>\n",
       "      <td>8863</td>\n",
       "      <td>1</td>\n",
       "      <td>No Rain</td>\n",
       "      <td>Blind Melon</td>\n",
       "      <td>Blind Melon</td>\n",
       "      <td>1992</td>\n",
       "    </tr>\n",
       "    <tr>\n",
       "      <th>863134</th>\n",
       "      <td>8882</td>\n",
       "      <td>1</td>\n",
       "      <td>Every Little Thing She Does Is Magic</td>\n",
       "      <td>Every Breath You Take : The Classics</td>\n",
       "      <td>The Police</td>\n",
       "      <td>1981</td>\n",
       "    </tr>\n",
       "    <tr>\n",
       "      <th>863135</th>\n",
       "      <td>8915</td>\n",
       "      <td>1</td>\n",
       "      <td>It's My Life</td>\n",
       "      <td>Crush</td>\n",
       "      <td>Bon Jovi</td>\n",
       "      <td>2000</td>\n",
       "    </tr>\n",
       "    <tr>\n",
       "      <th>863148</th>\n",
       "      <td>9913</td>\n",
       "      <td>2</td>\n",
       "      <td>Romeo And Juliet</td>\n",
       "      <td>Sawdust</td>\n",
       "      <td>The Killers</td>\n",
       "      <td>2007</td>\n",
       "    </tr>\n",
       "  </tbody>\n",
       "</table>\n",
       "</div>\n",
       "      <button class=\"colab-df-convert\" onclick=\"convertToInteractive('df-c684854c-51ca-4176-9b9d-00da28dc7c76')\"\n",
       "              title=\"Convert this dataframe to an interactive table.\"\n",
       "              style=\"display:none;\">\n",
       "        \n",
       "  <svg xmlns=\"http://www.w3.org/2000/svg\" height=\"24px\"viewBox=\"0 0 24 24\"\n",
       "       width=\"24px\">\n",
       "    <path d=\"M0 0h24v24H0V0z\" fill=\"none\"/>\n",
       "    <path d=\"M18.56 5.44l.94 2.06.94-2.06 2.06-.94-2.06-.94-.94-2.06-.94 2.06-2.06.94zm-11 1L8.5 8.5l.94-2.06 2.06-.94-2.06-.94L8.5 2.5l-.94 2.06-2.06.94zm10 10l.94 2.06.94-2.06 2.06-.94-2.06-.94-.94-2.06-.94 2.06-2.06.94z\"/><path d=\"M17.41 7.96l-1.37-1.37c-.4-.4-.92-.59-1.43-.59-.52 0-1.04.2-1.43.59L10.3 9.45l-7.72 7.72c-.78.78-.78 2.05 0 2.83L4 21.41c.39.39.9.59 1.41.59.51 0 1.02-.2 1.41-.59l7.78-7.78 2.81-2.81c.8-.78.8-2.07 0-2.86zM5.41 20L4 18.59l7.72-7.72 1.47 1.35L5.41 20z\"/>\n",
       "  </svg>\n",
       "      </button>\n",
       "      \n",
       "  <style>\n",
       "    .colab-df-container {\n",
       "      display:flex;\n",
       "      flex-wrap:wrap;\n",
       "      gap: 12px;\n",
       "    }\n",
       "\n",
       "    .colab-df-convert {\n",
       "      background-color: #E8F0FE;\n",
       "      border: none;\n",
       "      border-radius: 50%;\n",
       "      cursor: pointer;\n",
       "      display: none;\n",
       "      fill: #1967D2;\n",
       "      height: 32px;\n",
       "      padding: 0 0 0 0;\n",
       "      width: 32px;\n",
       "    }\n",
       "\n",
       "    .colab-df-convert:hover {\n",
       "      background-color: #E2EBFA;\n",
       "      box-shadow: 0px 1px 2px rgba(60, 64, 67, 0.3), 0px 1px 3px 1px rgba(60, 64, 67, 0.15);\n",
       "      fill: #174EA6;\n",
       "    }\n",
       "\n",
       "    [theme=dark] .colab-df-convert {\n",
       "      background-color: #3B4455;\n",
       "      fill: #D2E3FC;\n",
       "    }\n",
       "\n",
       "    [theme=dark] .colab-df-convert:hover {\n",
       "      background-color: #434B5C;\n",
       "      box-shadow: 0px 1px 3px 1px rgba(0, 0, 0, 0.15);\n",
       "      filter: drop-shadow(0px 1px 2px rgba(0, 0, 0, 0.3));\n",
       "      fill: #FFFFFF;\n",
       "    }\n",
       "  </style>\n",
       "\n",
       "      <script>\n",
       "        const buttonEl =\n",
       "          document.querySelector('#df-c684854c-51ca-4176-9b9d-00da28dc7c76 button.colab-df-convert');\n",
       "        buttonEl.style.display =\n",
       "          google.colab.kernel.accessAllowed ? 'block' : 'none';\n",
       "\n",
       "        async function convertToInteractive(key) {\n",
       "          const element = document.querySelector('#df-c684854c-51ca-4176-9b9d-00da28dc7c76');\n",
       "          const dataTable =\n",
       "            await google.colab.kernel.invokeFunction('convertToInteractive',\n",
       "                                                     [key], {});\n",
       "          if (!dataTable) return;\n",
       "\n",
       "          const docLinkHtml = 'Like what you see? Visit the ' +\n",
       "            '<a target=\"_blank\" href=https://colab.research.google.com/notebooks/data_table.ipynb>data table notebook</a>'\n",
       "            + ' to learn more about interactive tables.';\n",
       "          element.innerHTML = '';\n",
       "          dataTable['output_type'] = 'display_data';\n",
       "          await google.colab.output.renderOutput(dataTable, element);\n",
       "          const docLink = document.createElement('div');\n",
       "          docLink.innerHTML = docLinkHtml;\n",
       "          element.appendChild(docLink);\n",
       "        }\n",
       "      </script>\n",
       "    </div>\n",
       "  </div>\n",
       "  "
      ],
      "text/plain": [
       "        song_id  play_count                                 title  \\\n",
       "863051       21           1                 Back Against The Wall   \n",
       "863059      750           5                        Constellations   \n",
       "863061     1118           1                                Clocks   \n",
       "863070     1828           3                      Times Like These   \n",
       "863073     2091           1                            Just Dance   \n",
       "863076     2276           1              Far Away (Album Version)   \n",
       "863079     2610           1                    Livin' On A Prayer   \n",
       "863081     2686           1                      Vanilla Twilight   \n",
       "863094     4152           1                         The Scientist   \n",
       "863095     4160           4                     How You Remind Me   \n",
       "863097     4289           2                       Do You Remember   \n",
       "863101     4727           1                   All The Right Moves   \n",
       "863107     5843           1              You Give Love A Bad Name   \n",
       "863110     5991           1                            I Want You   \n",
       "863112     6293           1                                Yellow   \n",
       "863122     7525           1                          Read My Mind   \n",
       "863124     7977           5                        Speed Of Sound   \n",
       "863128     8411           1                    Sweet home Alabama   \n",
       "863133     8863           1                               No Rain   \n",
       "863134     8882           1  Every Little Thing She Does Is Magic   \n",
       "863135     8915           1                          It's My Life   \n",
       "863148     9913           2                      Romeo And Juliet   \n",
       "\n",
       "                                     release                artist_name  year  \n",
       "863051                     Cage The Elephant          Cage The Elephant  2008  \n",
       "863059                     In Between Dreams               Jack Johnson  2005  \n",
       "863061           A Rush Of Blood To The Head                   Coldplay  2002  \n",
       "863070                             On And On               Jack Johnson  2003  \n",
       "863073                            Just Dance  Lady GaGa / Colby O'Donis  2008  \n",
       "863076                 All The Right Reasons                 Nickelback  2006  \n",
       "863079                            Cross Road                   Bon Jovi  1986  \n",
       "863081                            Ocean Eyes                   Owl City  2009  \n",
       "863094                         The Scientist                   Coldplay  2002  \n",
       "863095      FETENHITS - New Party Rock (set)                 Nickelback  2000  \n",
       "863097                     In Between Dreams               Jack Johnson  2005  \n",
       "863101                             Waking Up                OneRepublic  2009  \n",
       "863107    Slippery When Wet: Special Edition                   Bon Jovi  1986  \n",
       "863110                     Only By The Night              Kings Of Leon  2008  \n",
       "863112                                Yellow                   Coldplay  2000  \n",
       "863122                            Sam's Town                The Killers  2006  \n",
       "863124                        Speed Of Sound                   Coldplay  2005  \n",
       "863128                            To Die For             Lynyrd Skynyrd  1974  \n",
       "863133                           Blind Melon                Blind Melon  1992  \n",
       "863134  Every Breath You Take : The Classics                 The Police  1981  \n",
       "863135                                 Crush                   Bon Jovi  2000  \n",
       "863148                               Sawdust                The Killers  2007  "
      ]
     },
     "execution_count": 257,
     "metadata": {},
     "output_type": "execute_result"
    }
   ],
   "source": [
    "# Displaying the corresponding songs, that user '41223' listened to.\n",
    "df_final[df_final['user_id'] == df_final.iloc[41223]['user_id']][df_final.columns.values[1:]].sort_values(by='song_id')\n"
   ]
  },
  {
   "cell_type": "code",
   "execution_count": null,
   "metadata": {
    "colab": {
     "base_uri": "https://localhost:8080/"
    },
    "id": "Sxd23bZ9pe_x",
    "outputId": "9185d897-9aac-4352-9238-91b672a79828"
   },
   "outputs": [
    {
     "name": "stdout",
     "output_type": "stream",
     "text": [
      "\u001b[1m\u001b[92mDisplaying the predictions for user 3848 and song 8178.\n",
      "\n",
      "- Real prediction: None,\n",
      "- Estimated prediction: 1.67.\u001b[0m\n"
     ]
    }
   ],
   "source": [
    "# Predicting play_count for a sample user with a listened song.\n",
    "\n",
    "play_count_predict(sim_user_user, 3848, 8178)"
   ]
  },
  {
   "cell_type": "code",
   "execution_count": null,
   "metadata": {
    "colab": {
     "base_uri": "https://localhost:8080/"
    },
    "id": "VhAK0l8Jdq02",
    "outputId": "1109ed0c-cf95-4076-c90d-651e0e095a55"
   },
   "outputs": [
    {
     "name": "stdout",
     "output_type": "stream",
     "text": [
      "\u001b[1m\u001b[92mDisplaying the predictions for user 6958 and song 1671.\n",
      "\n",
      "- Real prediction: 2,\n",
      "- Estimated prediction: 1.67.\u001b[0m\n"
     ]
    }
   ],
   "source": [
    "play_count_predict(sim_user_user, 6958, 1671, 2)"
   ]
  },
  {
   "cell_type": "code",
   "execution_count": null,
   "metadata": {
    "colab": {
     "base_uri": "https://localhost:8080/"
    },
    "id": "aIFVF3tsfjyr",
    "outputId": "ba834cd1-8700-4dd6-8b67-d68d99c82c02"
   },
   "outputs": [
    {
     "name": "stdout",
     "output_type": "stream",
     "text": [
      "\u001b[1m\u001b[92mDisplaying the predictions for user 6958 and song 3232.\n",
      "\n",
      "- Real prediction: None,\n",
      "- Estimated prediction: 1.67.\u001b[0m\n"
     ]
    }
   ],
   "source": [
    "# Predicting play_count for a sample user with a song not listened by the user.\n",
    "play_count_predict(sim_user_user, 6958, 3232)"
   ]
  },
  {
   "cell_type": "code",
   "execution_count": null,
   "metadata": {
    "colab": {
     "base_uri": "https://localhost:8080/"
    },
    "id": "QVRidB1OeMYs",
    "outputId": "cebc34ce-8ac0-41d9-e5d8-c23d3010908b"
   },
   "outputs": [
    {
     "name": "stdout",
     "output_type": "stream",
     "text": [
      "\u001b[1m\u001b[92mAverage rating for user 3848: 1.683\u001b[0m\n"
     ]
    }
   ],
   "source": [
    "print(clr.S+'Average rating for user {}: {}'.format(3848, round(df_final[df_final['user_id'] == 3848]['play_count'].mean(), 3))+clr.E)"
   ]
  },
  {
   "cell_type": "markdown",
   "metadata": {
    "id": "P9EVM7DysC47"
   },
   "source": [
    "**Observations and Insights:**\n",
    "\n",
    "When predicting the `play_count` for a song that user `3848` interacted with, the estimated value is close to the real one: `1.7`, and `2.0` respectivelly.\n",
    "\n",
    "A simple inspection of the average `play_count` for this user reveal the value `1.82`."
   ]
  },
  {
   "cell_type": "markdown",
   "metadata": {
    "id": "Lt1QBiylsIOm"
   },
   "source": [
    "### **Tune the baseline user-user-similarity model, and try improving its performance**\n",
    "\n",
    "- We will perform a randomized grid search cross validation, in order to find the best values for the hyperparamenters. \n",
    "- We will then use the parameters obtained, and tune the model, in an effort to improve the model's performance.\n"
   ]
  },
  {
   "cell_type": "code",
   "execution_count": null,
   "metadata": {
    "colab": {
     "base_uri": "https://localhost:8080/"
    },
    "id": "B_-1jw3J4d-b",
    "outputId": "9c6ecdc5-7d05-47e2-94c2-5f3d8c4c98e2"
   },
   "outputs": [
    {
     "name": "stdout",
     "output_type": "stream",
     "text": [
      "\u001b[1m\u001b[92mRMSE of the best option: 1.032\u001b[0m\n",
      "\u001b[1m\u001b[92mThe hyperparameters of the best option: {'k': 50, 'min_k': 18, 'sim_options': {'name': 'pearson_baseline', 'user_based': True}}\u001b[0m\n"
     ]
    }
   ],
   "source": [
    "param_grid = {'k': [10, 20, 30, 40, 50, 60], 'min_k': [9, 12, 15, 18, 21],\n",
    "              'sim_options': {'name': ['msd', 'cosine', 'pearson', 'pearson_baseline'],\n",
    "                              'user_based': [True]}\n",
    "              }\n",
    "\n",
    "# Performing 3-fold cross-validation to tune the hyperparameters\n",
    "gs_user_user = RandomizedSearchCV(KNNBasic, param_grid, measures=['rmse'], cv=3, n_jobs=-1)\n",
    "\n",
    "# Fitting the data\n",
    "gs_user_user.fit(data)\n",
    "# Display the best parameters\n",
    "display_best_params(gs_user_user)\n"
   ]
  },
  {
   "cell_type": "markdown",
   "metadata": {
    "id": "R8DvZn_AnMg-"
   },
   "source": [
    "- The `Randomized GridSearch Cross Validation` algorithm has outputed the following **optimal values** for the hyperparameters:\n",
    "  - `k`: **50**,\n",
    "  - `min_k`: **18**, and\n",
    "  - `sim_options`: **{'name': 'pearson_baseline', 'user_based': True}**.\n"
   ]
  },
  {
   "cell_type": "code",
   "execution_count": null,
   "metadata": {
    "colab": {
     "base_uri": "https://localhost:8080/"
    },
    "id": "a6JwhDrhBT1D",
    "outputId": "93a3c1e3-2059-437c-ec5a-e81da9c6efba"
   },
   "outputs": [
    {
     "name": "stdout",
     "output_type": "stream",
     "text": [
      "\u001b[1m\u001b[92mrmse: 1.041, recall: 0.948, precision: 1.0, f1_score: 0.973\u001b[0m\n",
      "\u001b[1m\u001b[92mrmse: 1.041, recall: 0.994, precision: 1.0, f1_score: 0.997\u001b[0m\n",
      "\u001b[1m\u001b[92mrmse: 1.041, recall: 0.999, precision: 1.0, f1_score: 0.999\u001b[0m\n",
      "\u001b[1m\u001b[92mrmse: 1.041, recall: 1.0, precision: 1.0, f1_score: 1.0\u001b[0m\n",
      "\u001b[1m\u001b[92mrmse: 1.041, recall: 1.0, precision: 1.0, f1_score: 1.0\u001b[0m\n"
     ]
    }
   ],
   "source": [
    "# Train the best model found in the above grid search\n",
    "# Using the optimal similarity measure for user-user based collaborative filtering.\n",
    "sim_options = {'name': 'pearson_baseline',\n",
    "               'k': 50,\n",
    "               'min_k': 18,\n",
    "               'user_based': [True]}\n",
    "\n",
    "# Creating an instance of KNNBasic with optimal hyperparameter values\n",
    "sim_user_user_optimized = KNNBasic(sim_options=sim_options, random_state=1, verbose=False)\n",
    "\n",
    "# Training the algorithm on the train set\n",
    "sim_user_user_optimized.fit(trainset)\n",
    "precision_recall_at_k(sim_user_user_optimized, 10, 1)\n",
    "precision_recall_at_k(sim_user_user_optimized, 20, 1)\n",
    "precision_recall_at_k(sim_user_user_optimized, 30, 1)\n",
    "precision_recall_at_k(sim_user_user_optimized, 40, 1)\n",
    "precision_recall_at_k(sim_user_user_optimized, 50, 1)"
   ]
  },
  {
   "cell_type": "code",
   "execution_count": null,
   "metadata": {
    "colab": {
     "base_uri": "https://localhost:8080/",
     "height": 81
    },
    "id": "kNL7rIDKmwry",
    "outputId": "7877d2c6-a8a7-4469-d3eb-2b39d080e047"
   },
   "outputs": [
    {
     "data": {
      "text/html": [
       "\n",
       "  <div id=\"df-298dac17-7461-45e6-8aba-7cca9a73720a\">\n",
       "    <div class=\"colab-df-container\">\n",
       "      <div>\n",
       "<style scoped>\n",
       "    .dataframe tbody tr th:only-of-type {\n",
       "        vertical-align: middle;\n",
       "    }\n",
       "\n",
       "    .dataframe tbody tr th {\n",
       "        vertical-align: top;\n",
       "    }\n",
       "\n",
       "    .dataframe thead th {\n",
       "        text-align: right;\n",
       "    }\n",
       "</style>\n",
       "<table border=\"1\" class=\"dataframe\">\n",
       "  <thead>\n",
       "    <tr style=\"text-align: right;\">\n",
       "      <th></th>\n",
       "      <th>user_id</th>\n",
       "      <th>song_id</th>\n",
       "      <th>play_count</th>\n",
       "      <th>title</th>\n",
       "      <th>release</th>\n",
       "      <th>artist_name</th>\n",
       "      <th>year</th>\n",
       "    </tr>\n",
       "  </thead>\n",
       "  <tbody>\n",
       "    <tr>\n",
       "      <th>215</th>\n",
       "      <td>6958</td>\n",
       "      <td>1671</td>\n",
       "      <td>2</td>\n",
       "      <td>Sleeping In (Album)</td>\n",
       "      <td>Give Up</td>\n",
       "      <td>Postal Service</td>\n",
       "      <td>2003</td>\n",
       "    </tr>\n",
       "  </tbody>\n",
       "</table>\n",
       "</div>\n",
       "      <button class=\"colab-df-convert\" onclick=\"convertToInteractive('df-298dac17-7461-45e6-8aba-7cca9a73720a')\"\n",
       "              title=\"Convert this dataframe to an interactive table.\"\n",
       "              style=\"display:none;\">\n",
       "        \n",
       "  <svg xmlns=\"http://www.w3.org/2000/svg\" height=\"24px\"viewBox=\"0 0 24 24\"\n",
       "       width=\"24px\">\n",
       "    <path d=\"M0 0h24v24H0V0z\" fill=\"none\"/>\n",
       "    <path d=\"M18.56 5.44l.94 2.06.94-2.06 2.06-.94-2.06-.94-.94-2.06-.94 2.06-2.06.94zm-11 1L8.5 8.5l.94-2.06 2.06-.94-2.06-.94L8.5 2.5l-.94 2.06-2.06.94zm10 10l.94 2.06.94-2.06 2.06-.94-2.06-.94-.94-2.06-.94 2.06-2.06.94z\"/><path d=\"M17.41 7.96l-1.37-1.37c-.4-.4-.92-.59-1.43-.59-.52 0-1.04.2-1.43.59L10.3 9.45l-7.72 7.72c-.78.78-.78 2.05 0 2.83L4 21.41c.39.39.9.59 1.41.59.51 0 1.02-.2 1.41-.59l7.78-7.78 2.81-2.81c.8-.78.8-2.07 0-2.86zM5.41 20L4 18.59l7.72-7.72 1.47 1.35L5.41 20z\"/>\n",
       "  </svg>\n",
       "      </button>\n",
       "      \n",
       "  <style>\n",
       "    .colab-df-container {\n",
       "      display:flex;\n",
       "      flex-wrap:wrap;\n",
       "      gap: 12px;\n",
       "    }\n",
       "\n",
       "    .colab-df-convert {\n",
       "      background-color: #E8F0FE;\n",
       "      border: none;\n",
       "      border-radius: 50%;\n",
       "      cursor: pointer;\n",
       "      display: none;\n",
       "      fill: #1967D2;\n",
       "      height: 32px;\n",
       "      padding: 0 0 0 0;\n",
       "      width: 32px;\n",
       "    }\n",
       "\n",
       "    .colab-df-convert:hover {\n",
       "      background-color: #E2EBFA;\n",
       "      box-shadow: 0px 1px 2px rgba(60, 64, 67, 0.3), 0px 1px 3px 1px rgba(60, 64, 67, 0.15);\n",
       "      fill: #174EA6;\n",
       "    }\n",
       "\n",
       "    [theme=dark] .colab-df-convert {\n",
       "      background-color: #3B4455;\n",
       "      fill: #D2E3FC;\n",
       "    }\n",
       "\n",
       "    [theme=dark] .colab-df-convert:hover {\n",
       "      background-color: #434B5C;\n",
       "      box-shadow: 0px 1px 3px 1px rgba(0, 0, 0, 0.15);\n",
       "      filter: drop-shadow(0px 1px 2px rgba(0, 0, 0, 0.3));\n",
       "      fill: #FFFFFF;\n",
       "    }\n",
       "  </style>\n",
       "\n",
       "      <script>\n",
       "        const buttonEl =\n",
       "          document.querySelector('#df-298dac17-7461-45e6-8aba-7cca9a73720a button.colab-df-convert');\n",
       "        buttonEl.style.display =\n",
       "          google.colab.kernel.accessAllowed ? 'block' : 'none';\n",
       "\n",
       "        async function convertToInteractive(key) {\n",
       "          const element = document.querySelector('#df-298dac17-7461-45e6-8aba-7cca9a73720a');\n",
       "          const dataTable =\n",
       "            await google.colab.kernel.invokeFunction('convertToInteractive',\n",
       "                                                     [key], {});\n",
       "          if (!dataTable) return;\n",
       "\n",
       "          const docLinkHtml = 'Like what you see? Visit the ' +\n",
       "            '<a target=\"_blank\" href=https://colab.research.google.com/notebooks/data_table.ipynb>data table notebook</a>'\n",
       "            + ' to learn more about interactive tables.';\n",
       "          element.innerHTML = '';\n",
       "          dataTable['output_type'] = 'display_data';\n",
       "          await google.colab.output.renderOutput(dataTable, element);\n",
       "          const docLink = document.createElement('div');\n",
       "          docLink.innerHTML = docLinkHtml;\n",
       "          element.appendChild(docLink);\n",
       "        }\n",
       "      </script>\n",
       "    </div>\n",
       "  </div>\n",
       "  "
      ],
      "text/plain": [
       "     user_id  song_id  play_count                title  release  \\\n",
       "215     6958     1671           2  Sleeping In (Album)  Give Up   \n",
       "\n",
       "        artist_name  year  \n",
       "215  Postal Service  2003  "
      ]
     },
     "execution_count": 139,
     "metadata": {},
     "output_type": "execute_result"
    }
   ],
   "source": [
    "df_final[(df_final['user_id'] == 6958) & (df_final['song_id'] == 1671)]"
   ]
  },
  {
   "cell_type": "code",
   "execution_count": null,
   "metadata": {
    "colab": {
     "base_uri": "https://localhost:8080/"
    },
    "id": "iL4i4DJySjbu",
    "outputId": "6cf63a37-06fa-4b2e-d27f-17ec6b098f1a"
   },
   "outputs": [
    {
     "name": "stdout",
     "output_type": "stream",
     "text": [
      "\u001b[1m\u001b[92mDisplaying the predictions for user 6958 and song 1671.\n",
      "\n",
      "- Real prediction: 2,\n",
      "- Estimated prediction: 1.91.\u001b[0m\n"
     ]
    }
   ],
   "source": [
    "play_count_predict(sim_user_user_optimized, 6958, 1671, 2)"
   ]
  },
  {
   "cell_type": "markdown",
   "metadata": {
    "id": "SdpJ--8QWuzz"
   },
   "source": [
    "**Observations and Insights:**\n",
    "\n",
    "- The estimated prediction for a song that user `6958` listened to before is `1.91`, which is very close to the real value, `2.0`. "
   ]
  },
  {
   "cell_type": "code",
   "execution_count": null,
   "metadata": {
    "colab": {
     "base_uri": "https://localhost:8080/"
    },
    "id": "tAXpo6t4TIfW",
    "outputId": "4190c1c7-3e56-42d1-9de3-6c1f8bbe43f5"
   },
   "outputs": [
    {
     "name": "stdout",
     "output_type": "stream",
     "text": [
      "\u001b[1m\u001b[92mDisplaying the predictions for user 6958 and song 3232.\n",
      "\n",
      "- Real prediction: 2,\n",
      "- Estimated prediction: 1.29.\u001b[0m\n"
     ]
    }
   ],
   "source": [
    "play_count_predict(sim_user_user_optimized, 6958, 3232, 2)"
   ]
  },
  {
   "cell_type": "code",
   "execution_count": null,
   "metadata": {
    "colab": {
     "base_uri": "https://localhost:8080/"
    },
    "id": "ZwV5xACcTgVk",
    "outputId": "f45a03ce-4881-4d81-ea11-d731f2359309"
   },
   "outputs": [
    {
     "name": "stdout",
     "output_type": "stream",
     "text": [
      "\u001b[1m\u001b[92mDisplaying the predictions for user 6958 and song 861.\n",
      "\n",
      "- Real prediction: 2,\n",
      "- Estimated prediction: 1.67.\u001b[0m\n"
     ]
    }
   ],
   "source": [
    "play_count_predict(sim_user_user_optimized, 6958, 861, 2)"
   ]
  },
  {
   "cell_type": "markdown",
   "metadata": {
    "id": "rLE_zqA1qYNs"
   },
   "source": [
    "- The estimated prediction for a song that user `6958` has not listened to before is `1.58`, which is very close to threshold value for relevant songs. "
   ]
  },
  {
   "cell_type": "markdown",
   "metadata": {
    "id": "SQ9M4pplNbWS"
   },
   "source": [
    "**Think About It:** Along with making predictions on listened and unknown songs can we get 5 nearest neighbors (most similar) to a certain song?"
   ]
  },
  {
   "cell_type": "code",
   "execution_count": null,
   "metadata": {
    "id": "qWbR85mI5Hrk"
   },
   "outputs": [],
   "source": [
    "# Make top 5 recommendations for any user_id with a similarity-based recommendation engine\n",
    "recommendations = get_recommendations(df_final, 6958, 5, sim_user_user_optimized)"
   ]
  },
  {
   "cell_type": "code",
   "execution_count": null,
   "metadata": {
    "colab": {
     "base_uri": "https://localhost:8080/"
    },
    "id": "ztUzz4T7Gf_R",
    "outputId": "90f4a812-83a4-4a65-bd31-83f683d0032b"
   },
   "outputs": [
    {
     "data": {
      "text/plain": [
       "[(6860, 3.05), (7224, 2.97), (5653, 2.7), (4831, 2.69), (8324, 2.69)]"
      ]
     },
     "execution_count": 283,
     "metadata": {},
     "output_type": "execute_result"
    }
   ],
   "source": [
    "recommendations\n"
   ]
  },
  {
   "cell_type": "code",
   "execution_count": null,
   "metadata": {
    "colab": {
     "base_uri": "https://localhost:8080/",
     "height": 206
    },
    "id": "cNIfxKoOEP1w",
    "outputId": "05b2b08e-f82f-48c7-b046-e31dca2369b8"
   },
   "outputs": [
    {
     "data": {
      "text/html": [
       "\n",
       "  <div id=\"df-9871f37b-5c26-441b-aa86-5719a30a1fc1\">\n",
       "    <div class=\"colab-df-container\">\n",
       "      <div>\n",
       "<style scoped>\n",
       "    .dataframe tbody tr th:only-of-type {\n",
       "        vertical-align: middle;\n",
       "    }\n",
       "\n",
       "    .dataframe tbody tr th {\n",
       "        vertical-align: top;\n",
       "    }\n",
       "\n",
       "    .dataframe thead th {\n",
       "        text-align: right;\n",
       "    }\n",
       "</style>\n",
       "<table border=\"1\" class=\"dataframe\">\n",
       "  <thead>\n",
       "    <tr style=\"text-align: right;\">\n",
       "      <th></th>\n",
       "      <th>song_id</th>\n",
       "      <th>predicted_play_count</th>\n",
       "    </tr>\n",
       "  </thead>\n",
       "  <tbody>\n",
       "    <tr>\n",
       "      <th>0</th>\n",
       "      <td>6860</td>\n",
       "      <td>3.05</td>\n",
       "    </tr>\n",
       "    <tr>\n",
       "      <th>1</th>\n",
       "      <td>7224</td>\n",
       "      <td>2.97</td>\n",
       "    </tr>\n",
       "    <tr>\n",
       "      <th>2</th>\n",
       "      <td>5653</td>\n",
       "      <td>2.70</td>\n",
       "    </tr>\n",
       "    <tr>\n",
       "      <th>3</th>\n",
       "      <td>4831</td>\n",
       "      <td>2.69</td>\n",
       "    </tr>\n",
       "    <tr>\n",
       "      <th>4</th>\n",
       "      <td>8324</td>\n",
       "      <td>2.69</td>\n",
       "    </tr>\n",
       "  </tbody>\n",
       "</table>\n",
       "</div>\n",
       "      <button class=\"colab-df-convert\" onclick=\"convertToInteractive('df-9871f37b-5c26-441b-aa86-5719a30a1fc1')\"\n",
       "              title=\"Convert this dataframe to an interactive table.\"\n",
       "              style=\"display:none;\">\n",
       "        \n",
       "  <svg xmlns=\"http://www.w3.org/2000/svg\" height=\"24px\"viewBox=\"0 0 24 24\"\n",
       "       width=\"24px\">\n",
       "    <path d=\"M0 0h24v24H0V0z\" fill=\"none\"/>\n",
       "    <path d=\"M18.56 5.44l.94 2.06.94-2.06 2.06-.94-2.06-.94-.94-2.06-.94 2.06-2.06.94zm-11 1L8.5 8.5l.94-2.06 2.06-.94-2.06-.94L8.5 2.5l-.94 2.06-2.06.94zm10 10l.94 2.06.94-2.06 2.06-.94-2.06-.94-.94-2.06-.94 2.06-2.06.94z\"/><path d=\"M17.41 7.96l-1.37-1.37c-.4-.4-.92-.59-1.43-.59-.52 0-1.04.2-1.43.59L10.3 9.45l-7.72 7.72c-.78.78-.78 2.05 0 2.83L4 21.41c.39.39.9.59 1.41.59.51 0 1.02-.2 1.41-.59l7.78-7.78 2.81-2.81c.8-.78.8-2.07 0-2.86zM5.41 20L4 18.59l7.72-7.72 1.47 1.35L5.41 20z\"/>\n",
       "  </svg>\n",
       "      </button>\n",
       "      \n",
       "  <style>\n",
       "    .colab-df-container {\n",
       "      display:flex;\n",
       "      flex-wrap:wrap;\n",
       "      gap: 12px;\n",
       "    }\n",
       "\n",
       "    .colab-df-convert {\n",
       "      background-color: #E8F0FE;\n",
       "      border: none;\n",
       "      border-radius: 50%;\n",
       "      cursor: pointer;\n",
       "      display: none;\n",
       "      fill: #1967D2;\n",
       "      height: 32px;\n",
       "      padding: 0 0 0 0;\n",
       "      width: 32px;\n",
       "    }\n",
       "\n",
       "    .colab-df-convert:hover {\n",
       "      background-color: #E2EBFA;\n",
       "      box-shadow: 0px 1px 2px rgba(60, 64, 67, 0.3), 0px 1px 3px 1px rgba(60, 64, 67, 0.15);\n",
       "      fill: #174EA6;\n",
       "    }\n",
       "\n",
       "    [theme=dark] .colab-df-convert {\n",
       "      background-color: #3B4455;\n",
       "      fill: #D2E3FC;\n",
       "    }\n",
       "\n",
       "    [theme=dark] .colab-df-convert:hover {\n",
       "      background-color: #434B5C;\n",
       "      box-shadow: 0px 1px 3px 1px rgba(0, 0, 0, 0.15);\n",
       "      filter: drop-shadow(0px 1px 2px rgba(0, 0, 0, 0.3));\n",
       "      fill: #FFFFFF;\n",
       "    }\n",
       "  </style>\n",
       "\n",
       "      <script>\n",
       "        const buttonEl =\n",
       "          document.querySelector('#df-9871f37b-5c26-441b-aa86-5719a30a1fc1 button.colab-df-convert');\n",
       "        buttonEl.style.display =\n",
       "          google.colab.kernel.accessAllowed ? 'block' : 'none';\n",
       "\n",
       "        async function convertToInteractive(key) {\n",
       "          const element = document.querySelector('#df-9871f37b-5c26-441b-aa86-5719a30a1fc1');\n",
       "          const dataTable =\n",
       "            await google.colab.kernel.invokeFunction('convertToInteractive',\n",
       "                                                     [key], {});\n",
       "          if (!dataTable) return;\n",
       "\n",
       "          const docLinkHtml = 'Like what you see? Visit the ' +\n",
       "            '<a target=\"_blank\" href=https://colab.research.google.com/notebooks/data_table.ipynb>data table notebook</a>'\n",
       "            + ' to learn more about interactive tables.';\n",
       "          element.innerHTML = '';\n",
       "          dataTable['output_type'] = 'display_data';\n",
       "          await google.colab.output.renderOutput(dataTable, element);\n",
       "          const docLink = document.createElement('div');\n",
       "          docLink.innerHTML = docLinkHtml;\n",
       "          element.appendChild(docLink);\n",
       "        }\n",
       "      </script>\n",
       "    </div>\n",
       "  </div>\n",
       "  "
      ],
      "text/plain": [
       "   song_id  predicted_play_count\n",
       "0     6860                  3.05\n",
       "1     7224                  2.97\n",
       "2     5653                  2.70\n",
       "3     4831                  2.69\n",
       "4     8324                  2.69"
      ]
     },
     "execution_count": 278,
     "metadata": {},
     "output_type": "execute_result"
    }
   ],
   "source": [
    "pd.DataFrame(recommendations, columns=['song_id', 'predicted_play_count'])"
   ]
  },
  {
   "cell_type": "code",
   "execution_count": null,
   "metadata": {
    "colab": {
     "base_uri": "https://localhost:8080/"
    },
    "id": "b5WfIX0Z6_q2",
    "outputId": "c071bec3-a74a-4d48-cd4c-8d2ee48607e7"
   },
   "outputs": [
    {
     "data": {
      "text/plain": [
       "min    2.69\n",
       "max    3.05\n",
       "Name: predicted_play_count, dtype: float64"
      ]
     },
     "execution_count": 279,
     "metadata": {},
     "output_type": "execute_result"
    }
   ],
   "source": [
    "# Building the dataframe for above recommendations with columns 'song_id and 'predicted_play_count'\n",
    "pd.DataFrame(recommendations, columns=['song_id', 'predicted_play_count'])['predicted_play_count'].agg(['min', 'max'])"
   ]
  },
  {
   "cell_type": "markdown",
   "metadata": {
    "id": "kyhThMOttWjj"
   },
   "source": [
    "**Observations and Insights:**\n",
    "\n",
    "- We made `5` recommendations for user `6958`. The predicted play counts of the recommended songs vary between `2.69` and `3.05`."
   ]
  },
  {
   "cell_type": "markdown",
   "metadata": {
    "id": "ghwEJY2e7INB"
   },
   "source": [
    "#### **Correcting the play_counts and Ranking the above songs**"
   ]
  },
  {
   "cell_type": "code",
   "execution_count": null,
   "metadata": {
    "id": "39Hs7ZbO9v3O"
   },
   "outputs": [],
   "source": [
    "def ranking_songs(recommendations, final_rating):\n",
    "  # Sort the songs based on play counts\n",
    "  ranked_songs = final_rating.loc[[item[0] for item in recommendations]].sort_values('play_freq', ascending=False)[['play_freq']].reset_index()\n",
    "\n",
    "  # Merge with the recommended songs to get predicted play_count\n",
    "  ranked_songs = ranked_songs.merge(pd.DataFrame(recommendations, columns=['song_id', 'predicted_play_count']), on='song_id', how='inner')\n",
    "\n",
    "  # Rank the songs based on corrected play_counts\n",
    "  ranked_songs['corrected_play_count'] = round(ranked_songs['predicted_play_count'] - 1 / np.sqrt(ranked_songs['play_freq']), 2)\n",
    "\n",
    "  # Sort the songs based on corrected play_counts\n",
    "  ranked_songs = ranked_songs.sort_values('corrected_play_count', ascending=False)\n",
    "\n",
    "  return ranked_songs\n"
   ]
  },
  {
   "cell_type": "markdown",
   "metadata": {
    "id": "zQvst41lOoMX"
   },
   "source": [
    "**Think About It:** In the above function to correct the predicted play_count a quantity 1/np.sqrt(n) is subtracted. What is the intuition behind it? Is it also possible to add this quantity instead of subtracting?\n",
    "\n",
    "- If we want to recommend a new song, and increase its chance of being recommended, we would add the correction $\\frac{1}{\\sqrt{n}}$.\n",
    "- However, in this particular case, since there are songs with a maximum value of `play_count = 5`, we subtract the correction $\\frac{1}{\\sqrt{n}}$. In this way, we will obtain a more realistic prediction while avoiding a `play_count` for a song with a value higher than 5.\n"
   ]
  },
  {
   "cell_type": "code",
   "execution_count": null,
   "metadata": {
    "colab": {
     "base_uri": "https://localhost:8080/",
     "height": 424
    },
    "id": "d3xVG5SfHFPJ",
    "outputId": "7e661e59-2793-4913-a83d-3db7146d5ba6"
   },
   "outputs": [
    {
     "data": {
      "text/html": [
       "\n",
       "  <div id=\"df-e5d4b1b1-a91c-46dd-99fa-8d92a102ee1e\">\n",
       "    <div class=\"colab-df-container\">\n",
       "      <div>\n",
       "<style scoped>\n",
       "    .dataframe tbody tr th:only-of-type {\n",
       "        vertical-align: middle;\n",
       "    }\n",
       "\n",
       "    .dataframe tbody tr th {\n",
       "        vertical-align: top;\n",
       "    }\n",
       "\n",
       "    .dataframe thead th {\n",
       "        text-align: right;\n",
       "    }\n",
       "</style>\n",
       "<table border=\"1\" class=\"dataframe\">\n",
       "  <thead>\n",
       "    <tr style=\"text-align: right;\">\n",
       "      <th></th>\n",
       "      <th>user_id</th>\n",
       "      <th>song_id</th>\n",
       "      <th>play_count</th>\n",
       "      <th>title</th>\n",
       "      <th>release</th>\n",
       "      <th>artist_name</th>\n",
       "      <th>year</th>\n",
       "    </tr>\n",
       "  </thead>\n",
       "  <tbody>\n",
       "    <tr>\n",
       "      <th>1987037</th>\n",
       "      <td>75383</td>\n",
       "      <td>6860</td>\n",
       "      <td>5</td>\n",
       "      <td>Mercy:The Laundromat</td>\n",
       "      <td>Westing (By Musket and Sextant)</td>\n",
       "      <td>Pavement</td>\n",
       "      <td>1993</td>\n",
       "    </tr>\n",
       "    <tr>\n",
       "      <th>1416625</th>\n",
       "      <td>74632</td>\n",
       "      <td>6860</td>\n",
       "      <td>5</td>\n",
       "      <td>Mercy:The Laundromat</td>\n",
       "      <td>Westing (By Musket and Sextant)</td>\n",
       "      <td>Pavement</td>\n",
       "      <td>1993</td>\n",
       "    </tr>\n",
       "    <tr>\n",
       "      <th>1297645</th>\n",
       "      <td>36014</td>\n",
       "      <td>6860</td>\n",
       "      <td>5</td>\n",
       "      <td>Mercy:The Laundromat</td>\n",
       "      <td>Westing (By Musket and Sextant)</td>\n",
       "      <td>Pavement</td>\n",
       "      <td>1993</td>\n",
       "    </tr>\n",
       "    <tr>\n",
       "      <th>1246918</th>\n",
       "      <td>13378</td>\n",
       "      <td>6860</td>\n",
       "      <td>5</td>\n",
       "      <td>Mercy:The Laundromat</td>\n",
       "      <td>Westing (By Musket and Sextant)</td>\n",
       "      <td>Pavement</td>\n",
       "      <td>1993</td>\n",
       "    </tr>\n",
       "    <tr>\n",
       "      <th>348141</th>\n",
       "      <td>8361</td>\n",
       "      <td>6860</td>\n",
       "      <td>5</td>\n",
       "      <td>Mercy:The Laundromat</td>\n",
       "      <td>Westing (By Musket and Sextant)</td>\n",
       "      <td>Pavement</td>\n",
       "      <td>1993</td>\n",
       "    </tr>\n",
       "    <tr>\n",
       "      <th>...</th>\n",
       "      <td>...</td>\n",
       "      <td>...</td>\n",
       "      <td>...</td>\n",
       "      <td>...</td>\n",
       "      <td>...</td>\n",
       "      <td>...</td>\n",
       "      <td>...</td>\n",
       "    </tr>\n",
       "    <tr>\n",
       "      <th>1278361</th>\n",
       "      <td>26014</td>\n",
       "      <td>6860</td>\n",
       "      <td>1</td>\n",
       "      <td>Mercy:The Laundromat</td>\n",
       "      <td>Westing (By Musket and Sextant)</td>\n",
       "      <td>Pavement</td>\n",
       "      <td>1993</td>\n",
       "    </tr>\n",
       "    <tr>\n",
       "      <th>501362</th>\n",
       "      <td>11255</td>\n",
       "      <td>6860</td>\n",
       "      <td>1</td>\n",
       "      <td>Mercy:The Laundromat</td>\n",
       "      <td>Westing (By Musket and Sextant)</td>\n",
       "      <td>Pavement</td>\n",
       "      <td>1993</td>\n",
       "    </tr>\n",
       "    <tr>\n",
       "      <th>1249564</th>\n",
       "      <td>23340</td>\n",
       "      <td>6860</td>\n",
       "      <td>1</td>\n",
       "      <td>Mercy:The Laundromat</td>\n",
       "      <td>Westing (By Musket and Sextant)</td>\n",
       "      <td>Pavement</td>\n",
       "      <td>1993</td>\n",
       "    </tr>\n",
       "    <tr>\n",
       "      <th>489559</th>\n",
       "      <td>35775</td>\n",
       "      <td>6860</td>\n",
       "      <td>1</td>\n",
       "      <td>Mercy:The Laundromat</td>\n",
       "      <td>Westing (By Musket and Sextant)</td>\n",
       "      <td>Pavement</td>\n",
       "      <td>1993</td>\n",
       "    </tr>\n",
       "    <tr>\n",
       "      <th>1304699</th>\n",
       "      <td>43539</td>\n",
       "      <td>6860</td>\n",
       "      <td>1</td>\n",
       "      <td>Mercy:The Laundromat</td>\n",
       "      <td>Westing (By Musket and Sextant)</td>\n",
       "      <td>Pavement</td>\n",
       "      <td>1993</td>\n",
       "    </tr>\n",
       "  </tbody>\n",
       "</table>\n",
       "<p>169 rows × 7 columns</p>\n",
       "</div>\n",
       "      <button class=\"colab-df-convert\" onclick=\"convertToInteractive('df-e5d4b1b1-a91c-46dd-99fa-8d92a102ee1e')\"\n",
       "              title=\"Convert this dataframe to an interactive table.\"\n",
       "              style=\"display:none;\">\n",
       "        \n",
       "  <svg xmlns=\"http://www.w3.org/2000/svg\" height=\"24px\"viewBox=\"0 0 24 24\"\n",
       "       width=\"24px\">\n",
       "    <path d=\"M0 0h24v24H0V0z\" fill=\"none\"/>\n",
       "    <path d=\"M18.56 5.44l.94 2.06.94-2.06 2.06-.94-2.06-.94-.94-2.06-.94 2.06-2.06.94zm-11 1L8.5 8.5l.94-2.06 2.06-.94-2.06-.94L8.5 2.5l-.94 2.06-2.06.94zm10 10l.94 2.06.94-2.06 2.06-.94-2.06-.94-.94-2.06-.94 2.06-2.06.94z\"/><path d=\"M17.41 7.96l-1.37-1.37c-.4-.4-.92-.59-1.43-.59-.52 0-1.04.2-1.43.59L10.3 9.45l-7.72 7.72c-.78.78-.78 2.05 0 2.83L4 21.41c.39.39.9.59 1.41.59.51 0 1.02-.2 1.41-.59l7.78-7.78 2.81-2.81c.8-.78.8-2.07 0-2.86zM5.41 20L4 18.59l7.72-7.72 1.47 1.35L5.41 20z\"/>\n",
       "  </svg>\n",
       "      </button>\n",
       "      \n",
       "  <style>\n",
       "    .colab-df-container {\n",
       "      display:flex;\n",
       "      flex-wrap:wrap;\n",
       "      gap: 12px;\n",
       "    }\n",
       "\n",
       "    .colab-df-convert {\n",
       "      background-color: #E8F0FE;\n",
       "      border: none;\n",
       "      border-radius: 50%;\n",
       "      cursor: pointer;\n",
       "      display: none;\n",
       "      fill: #1967D2;\n",
       "      height: 32px;\n",
       "      padding: 0 0 0 0;\n",
       "      width: 32px;\n",
       "    }\n",
       "\n",
       "    .colab-df-convert:hover {\n",
       "      background-color: #E2EBFA;\n",
       "      box-shadow: 0px 1px 2px rgba(60, 64, 67, 0.3), 0px 1px 3px 1px rgba(60, 64, 67, 0.15);\n",
       "      fill: #174EA6;\n",
       "    }\n",
       "\n",
       "    [theme=dark] .colab-df-convert {\n",
       "      background-color: #3B4455;\n",
       "      fill: #D2E3FC;\n",
       "    }\n",
       "\n",
       "    [theme=dark] .colab-df-convert:hover {\n",
       "      background-color: #434B5C;\n",
       "      box-shadow: 0px 1px 3px 1px rgba(0, 0, 0, 0.15);\n",
       "      filter: drop-shadow(0px 1px 2px rgba(0, 0, 0, 0.3));\n",
       "      fill: #FFFFFF;\n",
       "    }\n",
       "  </style>\n",
       "\n",
       "      <script>\n",
       "        const buttonEl =\n",
       "          document.querySelector('#df-e5d4b1b1-a91c-46dd-99fa-8d92a102ee1e button.colab-df-convert');\n",
       "        buttonEl.style.display =\n",
       "          google.colab.kernel.accessAllowed ? 'block' : 'none';\n",
       "\n",
       "        async function convertToInteractive(key) {\n",
       "          const element = document.querySelector('#df-e5d4b1b1-a91c-46dd-99fa-8d92a102ee1e');\n",
       "          const dataTable =\n",
       "            await google.colab.kernel.invokeFunction('convertToInteractive',\n",
       "                                                     [key], {});\n",
       "          if (!dataTable) return;\n",
       "\n",
       "          const docLinkHtml = 'Like what you see? Visit the ' +\n",
       "            '<a target=\"_blank\" href=https://colab.research.google.com/notebooks/data_table.ipynb>data table notebook</a>'\n",
       "            + ' to learn more about interactive tables.';\n",
       "          element.innerHTML = '';\n",
       "          dataTable['output_type'] = 'display_data';\n",
       "          await google.colab.output.renderOutput(dataTable, element);\n",
       "          const docLink = document.createElement('div');\n",
       "          docLink.innerHTML = docLinkHtml;\n",
       "          element.appendChild(docLink);\n",
       "        }\n",
       "      </script>\n",
       "    </div>\n",
       "  </div>\n",
       "  "
      ],
      "text/plain": [
       "         user_id  song_id  play_count                 title  \\\n",
       "1987037    75383     6860           5  Mercy:The Laundromat   \n",
       "1416625    74632     6860           5  Mercy:The Laundromat   \n",
       "1297645    36014     6860           5  Mercy:The Laundromat   \n",
       "1246918    13378     6860           5  Mercy:The Laundromat   \n",
       "348141      8361     6860           5  Mercy:The Laundromat   \n",
       "...          ...      ...         ...                   ...   \n",
       "1278361    26014     6860           1  Mercy:The Laundromat   \n",
       "501362     11255     6860           1  Mercy:The Laundromat   \n",
       "1249564    23340     6860           1  Mercy:The Laundromat   \n",
       "489559     35775     6860           1  Mercy:The Laundromat   \n",
       "1304699    43539     6860           1  Mercy:The Laundromat   \n",
       "\n",
       "                                 release artist_name  year  \n",
       "1987037  Westing (By Musket and Sextant)    Pavement  1993  \n",
       "1416625  Westing (By Musket and Sextant)    Pavement  1993  \n",
       "1297645  Westing (By Musket and Sextant)    Pavement  1993  \n",
       "1246918  Westing (By Musket and Sextant)    Pavement  1993  \n",
       "348141   Westing (By Musket and Sextant)    Pavement  1993  \n",
       "...                                  ...         ...   ...  \n",
       "1278361  Westing (By Musket and Sextant)    Pavement  1993  \n",
       "501362   Westing (By Musket and Sextant)    Pavement  1993  \n",
       "1249564  Westing (By Musket and Sextant)    Pavement  1993  \n",
       "489559   Westing (By Musket and Sextant)    Pavement  1993  \n",
       "1304699  Westing (By Musket and Sextant)    Pavement  1993  \n",
       "\n",
       "[169 rows x 7 columns]"
      ]
     },
     "execution_count": 285,
     "metadata": {},
     "output_type": "execute_result"
    }
   ],
   "source": [
    "df_final[df_final['song_id'] == 6860].sort_values(by='play_count', ascending=False)"
   ]
  },
  {
   "cell_type": "code",
   "execution_count": null,
   "metadata": {
    "colab": {
     "base_uri": "https://localhost:8080/",
     "height": 81
    },
    "id": "hhuruHruHY7k",
    "outputId": "5ce9a4ab-2f1f-463c-b3ab-0630c20b29a1"
   },
   "outputs": [
    {
     "data": {
      "text/html": [
       "\n",
       "  <div id=\"df-71de0f26-4677-4533-9913-e1d4cb219467\">\n",
       "    <div class=\"colab-df-container\">\n",
       "      <div>\n",
       "<style scoped>\n",
       "    .dataframe tbody tr th:only-of-type {\n",
       "        vertical-align: middle;\n",
       "    }\n",
       "\n",
       "    .dataframe tbody tr th {\n",
       "        vertical-align: top;\n",
       "    }\n",
       "\n",
       "    .dataframe thead th {\n",
       "        text-align: right;\n",
       "    }\n",
       "</style>\n",
       "<table border=\"1\" class=\"dataframe\">\n",
       "  <thead>\n",
       "    <tr style=\"text-align: right;\">\n",
       "      <th></th>\n",
       "      <th>song_id</th>\n",
       "      <th>avg_count</th>\n",
       "      <th>play_freq</th>\n",
       "    </tr>\n",
       "  </thead>\n",
       "  <tbody>\n",
       "    <tr>\n",
       "      <th>9</th>\n",
       "      <td>6860</td>\n",
       "      <td>2.171598</td>\n",
       "      <td>367</td>\n",
       "    </tr>\n",
       "  </tbody>\n",
       "</table>\n",
       "</div>\n",
       "      <button class=\"colab-df-convert\" onclick=\"convertToInteractive('df-71de0f26-4677-4533-9913-e1d4cb219467')\"\n",
       "              title=\"Convert this dataframe to an interactive table.\"\n",
       "              style=\"display:none;\">\n",
       "        \n",
       "  <svg xmlns=\"http://www.w3.org/2000/svg\" height=\"24px\"viewBox=\"0 0 24 24\"\n",
       "       width=\"24px\">\n",
       "    <path d=\"M0 0h24v24H0V0z\" fill=\"none\"/>\n",
       "    <path d=\"M18.56 5.44l.94 2.06.94-2.06 2.06-.94-2.06-.94-.94-2.06-.94 2.06-2.06.94zm-11 1L8.5 8.5l.94-2.06 2.06-.94-2.06-.94L8.5 2.5l-.94 2.06-2.06.94zm10 10l.94 2.06.94-2.06 2.06-.94-2.06-.94-.94-2.06-.94 2.06-2.06.94z\"/><path d=\"M17.41 7.96l-1.37-1.37c-.4-.4-.92-.59-1.43-.59-.52 0-1.04.2-1.43.59L10.3 9.45l-7.72 7.72c-.78.78-.78 2.05 0 2.83L4 21.41c.39.39.9.59 1.41.59.51 0 1.02-.2 1.41-.59l7.78-7.78 2.81-2.81c.8-.78.8-2.07 0-2.86zM5.41 20L4 18.59l7.72-7.72 1.47 1.35L5.41 20z\"/>\n",
       "  </svg>\n",
       "      </button>\n",
       "      \n",
       "  <style>\n",
       "    .colab-df-container {\n",
       "      display:flex;\n",
       "      flex-wrap:wrap;\n",
       "      gap: 12px;\n",
       "    }\n",
       "\n",
       "    .colab-df-convert {\n",
       "      background-color: #E8F0FE;\n",
       "      border: none;\n",
       "      border-radius: 50%;\n",
       "      cursor: pointer;\n",
       "      display: none;\n",
       "      fill: #1967D2;\n",
       "      height: 32px;\n",
       "      padding: 0 0 0 0;\n",
       "      width: 32px;\n",
       "    }\n",
       "\n",
       "    .colab-df-convert:hover {\n",
       "      background-color: #E2EBFA;\n",
       "      box-shadow: 0px 1px 2px rgba(60, 64, 67, 0.3), 0px 1px 3px 1px rgba(60, 64, 67, 0.15);\n",
       "      fill: #174EA6;\n",
       "    }\n",
       "\n",
       "    [theme=dark] .colab-df-convert {\n",
       "      background-color: #3B4455;\n",
       "      fill: #D2E3FC;\n",
       "    }\n",
       "\n",
       "    [theme=dark] .colab-df-convert:hover {\n",
       "      background-color: #434B5C;\n",
       "      box-shadow: 0px 1px 3px 1px rgba(0, 0, 0, 0.15);\n",
       "      filter: drop-shadow(0px 1px 2px rgba(0, 0, 0, 0.3));\n",
       "      fill: #FFFFFF;\n",
       "    }\n",
       "  </style>\n",
       "\n",
       "      <script>\n",
       "        const buttonEl =\n",
       "          document.querySelector('#df-71de0f26-4677-4533-9913-e1d4cb219467 button.colab-df-convert');\n",
       "        buttonEl.style.display =\n",
       "          google.colab.kernel.accessAllowed ? 'block' : 'none';\n",
       "\n",
       "        async function convertToInteractive(key) {\n",
       "          const element = document.querySelector('#df-71de0f26-4677-4533-9913-e1d4cb219467');\n",
       "          const dataTable =\n",
       "            await google.colab.kernel.invokeFunction('convertToInteractive',\n",
       "                                                     [key], {});\n",
       "          if (!dataTable) return;\n",
       "\n",
       "          const docLinkHtml = 'Like what you see? Visit the ' +\n",
       "            '<a target=\"_blank\" href=https://colab.research.google.com/notebooks/data_table.ipynb>data table notebook</a>'\n",
       "            + ' to learn more about interactive tables.';\n",
       "          element.innerHTML = '';\n",
       "          dataTable['output_type'] = 'display_data';\n",
       "          await google.colab.output.renderOutput(dataTable, element);\n",
       "          const docLink = document.createElement('div');\n",
       "          docLink.innerHTML = docLinkHtml;\n",
       "          element.appendChild(docLink);\n",
       "        }\n",
       "      </script>\n",
       "    </div>\n",
       "  </div>\n",
       "  "
      ],
      "text/plain": [
       "   song_id  avg_count  play_freq\n",
       "9     6860   2.171598        367"
      ]
     },
     "execution_count": 336,
     "metadata": {},
     "output_type": "execute_result"
    }
   ],
   "source": [
    "final_play[final_play['song_id'] == 6860]"
   ]
  },
  {
   "cell_type": "markdown",
   "metadata": {
    "id": "QgbzJKk7Tsnr"
   },
   "source": [
    "### **Build a baseline item-item-similarity model**"
   ]
  },
  {
   "cell_type": "code",
   "execution_count": null,
   "metadata": {
    "colab": {
     "base_uri": "https://localhost:8080/"
    },
    "id": "W5RMcdzjTsns",
    "outputId": "991cea3c-3a91-4ca0-f7b8-be4f92880a9d",
    "scrolled": false
   },
   "outputs": [
    {
     "name": "stdout",
     "output_type": "stream",
     "text": [
      "\u001b[1m\u001b[92mrmse: 1.024, recall: 0.948, precision: 1.0, f1_score: 0.973\u001b[0m\n",
      "\u001b[1m\u001b[92mrmse: 1.024, recall: 0.994, precision: 1.0, f1_score: 0.997\u001b[0m\n",
      "\u001b[1m\u001b[92mrmse: 1.024, recall: 0.999, precision: 1.0, f1_score: 0.999\u001b[0m\n",
      "\u001b[1m\u001b[92mrmse: 1.024, recall: 1.0, precision: 1.0, f1_score: 1.0\u001b[0m\n"
     ]
    }
   ],
   "source": [
    "# Apply the item-item similarity collaborative filtering model with random_state = 1 and evaluate the model performance\n",
    "sim_options = {'name': 'cosine',\n",
    "               'user_based': False}\n",
    "\n",
    "# KNN algorithm is used to find desired similar items\n",
    "sim_item_item = KNNBasic(sim_options=sim_options, random_state=1, verbose=False)\n",
    "\n",
    "# Train the algorithm on the train set, and predict ratings for the test set\n",
    "sim_item_item.fit(trainset)\n",
    "\n",
    "# Compute and display the metrics\n",
    "precision_recall_at_k(sim_item_item, 10, 1)\n",
    "precision_recall_at_k(sim_item_item, 20, 1)\n",
    "precision_recall_at_k(sim_item_item, 30, 1)\n",
    "precision_recall_at_k(sim_item_item, 40, 1)\n"
   ]
  },
  {
   "cell_type": "code",
   "execution_count": null,
   "metadata": {
    "colab": {
     "base_uri": "https://localhost:8080/"
    },
    "id": "V4P59ZZhWEke",
    "outputId": "bf883e03-4083-4bab-b61a-1a29f682b3b4"
   },
   "outputs": [
    {
     "name": "stdout",
     "output_type": "stream",
     "text": [
      "\u001b[1m\u001b[92mDisplaying the predictions for user 6958 and song 1671.\n",
      "\n",
      "- Real prediction: 2,\n",
      "- Estimated prediction: 1.31.\u001b[0m\n"
     ]
    }
   ],
   "source": [
    "play_count_predict(sim_item_item, 6958, 1671, 2)"
   ]
  },
  {
   "cell_type": "code",
   "execution_count": null,
   "metadata": {
    "colab": {
     "base_uri": "https://localhost:8080/"
    },
    "id": "PLmKYX4k9X3P",
    "outputId": "73da9f71-a2af-4eb3-b46a-a7238373360e"
   },
   "outputs": [
    {
     "name": "stdout",
     "output_type": "stream",
     "text": [
      "\u001b[1m\u001b[92mDisplaying the predictions for user 6958 and song 3232.\n",
      "\n",
      "- Real prediction: 2,\n",
      "- Estimated prediction: 1.3.\u001b[0m\n"
     ]
    }
   ],
   "source": [
    "play_count_predict(sim_item_item, 6958, 3232, 2)"
   ]
  },
  {
   "cell_type": "code",
   "execution_count": null,
   "metadata": {
    "colab": {
     "base_uri": "https://localhost:8080/"
    },
    "id": "J6_uW7TxaP1w",
    "outputId": "1602c839-cf03-46ea-ad3d-92d2fcc6631c"
   },
   "outputs": [
    {
     "data": {
      "text/plain": [
       "array([27018, 55837, 56576, 49549, 34234, 54439, 44689, 40583, 46525,\n",
       "       42302])"
      ]
     },
     "execution_count": 342,
     "metadata": {},
     "output_type": "execute_result"
    }
   ],
   "source": [
    "get_users_who_did_not_played_song(1671, data=df_final)[:10]"
   ]
  },
  {
   "cell_type": "code",
   "execution_count": null,
   "metadata": {
    "colab": {
     "base_uri": "https://localhost:8080/"
    },
    "id": "XLVuzO1IaYvR",
    "outputId": "bfb3817e-3a1c-40d6-e1ea-34508548b7db"
   },
   "outputs": [
    {
     "name": "stdout",
     "output_type": "stream",
     "text": [
      "\u001b[1m\u001b[92mDisplaying the predictions for user 54439 and song 1671.\n",
      "\n",
      "- Real prediction: None,\n",
      "- Estimated prediction: 1.6.\u001b[0m\n"
     ]
    }
   ],
   "source": [
    "play_count_predict(sim_item_item, 54439, 1671)"
   ]
  },
  {
   "cell_type": "markdown",
   "metadata": {
    "id": "dxE9fJ8Dupby"
   },
   "source": [
    "**Observations and Insights:**\n",
    "\n",
    "- This model is not making very accurate predictions. It estimated a value of `1.3` for a song with `play_count = 2`."
   ]
  },
  {
   "cell_type": "markdown",
   "metadata": {
    "id": "yUNe7qugVwww"
   },
   "source": [
    "### **Tune the baseline item-item-similarity model, and try improving its performance**\n",
    "\n",
    "- We will perform a randomized grid search cross validation, in order to find the best values for the hyperparamenters. \n",
    "- We will then use the parameters obtained, and tune the model, in an effort to improve the model's performance.\n"
   ]
  },
  {
   "cell_type": "code",
   "execution_count": null,
   "metadata": {
    "colab": {
     "base_uri": "https://localhost:8080/"
    },
    "id": "f5bcZ3HgTsnt",
    "outputId": "38f87755-1415-46fc-f6fe-f512efc87927"
   },
   "outputs": [
    {
     "name": "stdout",
     "output_type": "stream",
     "text": [
      "\u001b[1m\u001b[92mRMSE of the best option: 1.02\u001b[0m\n",
      "\u001b[1m\u001b[92mThe hyperparameters of the best option: {'k': 30, 'min_k': 9, 'sim_options': {'name': 'pearson_baseline', 'user_based': False}}\u001b[0m\n"
     ]
    }
   ],
   "source": [
    "# Apply grid search for enhancing model performance\n",
    "\n",
    "# Setting up parameter grid to tune the hyperparameters\n",
    "param_grid = {'k': [10, 20, 30, 40, 50, 60], \n",
    "              'min_k': [9, 12, 15, 18, 21],\n",
    "              'sim_options': {'name': ['msd', 'cosine', 'pearson', 'pearson_baseline'],\n",
    "                              'user_based': [False]}\n",
    "              }\n",
    "\n",
    "# Performing 3-fold cross-validation to tune the hyperparameters\n",
    "gs_item_item = RandomizedSearchCV(KNNBasic, param_grid, measures = ['rmse'], cv = 3, n_jobs = -1)\n",
    "\n",
    "# Fitting the data\n",
    "\n",
    "gs_item_item.fit(data)\n",
    "# Display the RMSE and the combination of parameters that gave the best RMSE score\n",
    "display_best_params(gs_item_item)\n"
   ]
  },
  {
   "cell_type": "markdown",
   "metadata": {
    "id": "xVe5Lp6enukL"
   },
   "source": [
    "- The `Randomized GridSearch Cross Validation` algorithm has outputed the following **optimal values** for the hyperparameters:\n",
    "  - `k`: **30**,\n",
    "  - `min_k`: **9**, and\n",
    "  - `sim_options`: **{'name': 'pearson_baseline', 'user_based': False}**."
   ]
  },
  {
   "cell_type": "code",
   "execution_count": null,
   "metadata": {
    "colab": {
     "base_uri": "https://localhost:8080/"
    },
    "id": "dSeiM1qeTsnt",
    "outputId": "a4a30a83-acbb-407c-9ea0-f586af484929"
   },
   "outputs": [
    {
     "name": "stdout",
     "output_type": "stream",
     "text": [
      "\u001b[1m\u001b[92mrmse: 1.02, recall: 0.948, precision: 1.0, f1_score: 0.973\u001b[0m\n",
      "\u001b[1m\u001b[92mrmse: 1.02, recall: 0.994, precision: 1.0, f1_score: 0.997\u001b[0m\n",
      "\u001b[1m\u001b[92mrmse: 1.02, recall: 0.999, precision: 1.0, f1_score: 0.999\u001b[0m\n",
      "\u001b[1m\u001b[92mrmse: 1.02, recall: 1.0, precision: 1.0, f1_score: 1.0\u001b[0m\n"
     ]
    }
   ],
   "source": [
    "# Apply the best model found in the grid search\n",
    "# Using the optimal similarity measure for item-item based collaborative filtering\n",
    "sim_options = {'name': 'pearson_baseline',\n",
    "               'k': 30,\n",
    "               'min_k': 9,\n",
    "               'user_based': False}\n",
    "\n",
    "# Creating an instance of KNNBasic with optimal hyperparameter values\n",
    "sim_item_item_optimized = KNNBasic(sim_options=sim_options, random_state=1, verbose=False)\n",
    "\n",
    "# Training the algorithm on the train set\n",
    "sim_item_item_optimized.fit(trainset)\n",
    "\n",
    "# Compute and display the metrics\n",
    "\n",
    "precision_recall_at_k(sim_item_item_optimized, 10, 1)\n",
    "precision_recall_at_k(sim_item_item_optimized, 20, 1)\n",
    "precision_recall_at_k(sim_item_item_optimized, 30, 1)\n",
    "precision_recall_at_k(sim_item_item_optimized, 40, 1)"
   ]
  },
  {
   "cell_type": "code",
   "execution_count": null,
   "metadata": {
    "colab": {
     "base_uri": "https://localhost:8080/"
    },
    "id": "pjzaLC9IcXNt",
    "outputId": "0d20cf2c-721a-407f-fc4a-c77889ca7cdb"
   },
   "outputs": [
    {
     "name": "stdout",
     "output_type": "stream",
     "text": [
      "\u001b[1m\u001b[92mDisplaying the predictions for user 6958 and song 1671.\n",
      "\n",
      "- Real prediction: 2,\n",
      "- Estimated prediction: 1.91.\u001b[0m\n"
     ]
    }
   ],
   "source": [
    "play_count_predict(sim_item_item_optimized, 6958, 1671, 2)"
   ]
  },
  {
   "cell_type": "code",
   "execution_count": null,
   "metadata": {
    "colab": {
     "base_uri": "https://localhost:8080/"
    },
    "id": "ucIXB7QIcina",
    "outputId": "e45baa5c-57e5-4fd0-dc80-caff8107f7b5"
   },
   "outputs": [
    {
     "name": "stdout",
     "output_type": "stream",
     "text": [
      "\u001b[1m\u001b[92mDisplaying the predictions for user 6958 and song 3232.\n",
      "\n",
      "- Real prediction: None,\n",
      "- Estimated prediction: 1.29.\u001b[0m\n"
     ]
    }
   ],
   "source": [
    "play_count_predict(sim_item_item_optimized, 6958, 3232)"
   ]
  },
  {
   "cell_type": "markdown",
   "metadata": {
    "id": "yf3kDSepuwcw"
   },
   "source": [
    "**Observations and Insights:**\n",
    "\n",
    "- This model is also making predictions that are not too accurate."
   ]
  },
  {
   "cell_type": "code",
   "execution_count": null,
   "metadata": {
    "colab": {
     "base_uri": "https://localhost:8080/"
    },
    "id": "ZRJS4oDFTsnu",
    "outputId": "30f0f960-bd6d-4b39-afce-98bf80302446"
   },
   "outputs": [
    {
     "data": {
      "text/plain": [
       "[1273, 508, 1518, 338, 160]"
      ]
     },
     "execution_count": 123,
     "metadata": {},
     "output_type": "execute_result"
    }
   ],
   "source": [
    "# Find five most similar items to the item with inner id 0\n",
    "sim_item_item_optimized.get_neighbors(0, 5)"
   ]
  },
  {
   "cell_type": "code",
   "execution_count": null,
   "metadata": {
    "id": "rzoEbuZFTsnu"
   },
   "outputs": [],
   "source": [
    "# Making top 5 recommendations for any user_id  with item_item_similarity-based recommendation engine\n",
    "recommendations = get_recommendations(df_final, 6958, 5, sim_item_item_optimized)"
   ]
  },
  {
   "cell_type": "code",
   "execution_count": null,
   "metadata": {
    "colab": {
     "base_uri": "https://localhost:8080/",
     "height": 206
    },
    "id": "_kXVTiysTsnv",
    "outputId": "5fd3a03d-246d-4ef8-afc8-6b92c0a45069"
   },
   "outputs": [
    {
     "data": {
      "text/html": [
       "\n",
       "  <div id=\"df-1622ae82-fd0c-4f09-8458-2fef2e717e75\">\n",
       "    <div class=\"colab-df-container\">\n",
       "      <div>\n",
       "<style scoped>\n",
       "    .dataframe tbody tr th:only-of-type {\n",
       "        vertical-align: middle;\n",
       "    }\n",
       "\n",
       "    .dataframe tbody tr th {\n",
       "        vertical-align: top;\n",
       "    }\n",
       "\n",
       "    .dataframe thead th {\n",
       "        text-align: right;\n",
       "    }\n",
       "</style>\n",
       "<table border=\"1\" class=\"dataframe\">\n",
       "  <thead>\n",
       "    <tr style=\"text-align: right;\">\n",
       "      <th></th>\n",
       "      <th>song_id</th>\n",
       "      <th>predicted_play_count</th>\n",
       "    </tr>\n",
       "  </thead>\n",
       "  <tbody>\n",
       "    <tr>\n",
       "      <th>0</th>\n",
       "      <td>7224</td>\n",
       "      <td>2.72</td>\n",
       "    </tr>\n",
       "    <tr>\n",
       "      <th>1</th>\n",
       "      <td>8483</td>\n",
       "      <td>2.21</td>\n",
       "    </tr>\n",
       "    <tr>\n",
       "      <th>2</th>\n",
       "      <td>8324</td>\n",
       "      <td>2.18</td>\n",
       "    </tr>\n",
       "    <tr>\n",
       "      <th>3</th>\n",
       "      <td>9942</td>\n",
       "      <td>2.07</td>\n",
       "    </tr>\n",
       "    <tr>\n",
       "      <th>4</th>\n",
       "      <td>5531</td>\n",
       "      <td>2.04</td>\n",
       "    </tr>\n",
       "  </tbody>\n",
       "</table>\n",
       "</div>\n",
       "      <button class=\"colab-df-convert\" onclick=\"convertToInteractive('df-1622ae82-fd0c-4f09-8458-2fef2e717e75')\"\n",
       "              title=\"Convert this dataframe to an interactive table.\"\n",
       "              style=\"display:none;\">\n",
       "        \n",
       "  <svg xmlns=\"http://www.w3.org/2000/svg\" height=\"24px\"viewBox=\"0 0 24 24\"\n",
       "       width=\"24px\">\n",
       "    <path d=\"M0 0h24v24H0V0z\" fill=\"none\"/>\n",
       "    <path d=\"M18.56 5.44l.94 2.06.94-2.06 2.06-.94-2.06-.94-.94-2.06-.94 2.06-2.06.94zm-11 1L8.5 8.5l.94-2.06 2.06-.94-2.06-.94L8.5 2.5l-.94 2.06-2.06.94zm10 10l.94 2.06.94-2.06 2.06-.94-2.06-.94-.94-2.06-.94 2.06-2.06.94z\"/><path d=\"M17.41 7.96l-1.37-1.37c-.4-.4-.92-.59-1.43-.59-.52 0-1.04.2-1.43.59L10.3 9.45l-7.72 7.72c-.78.78-.78 2.05 0 2.83L4 21.41c.39.39.9.59 1.41.59.51 0 1.02-.2 1.41-.59l7.78-7.78 2.81-2.81c.8-.78.8-2.07 0-2.86zM5.41 20L4 18.59l7.72-7.72 1.47 1.35L5.41 20z\"/>\n",
       "  </svg>\n",
       "      </button>\n",
       "      \n",
       "  <style>\n",
       "    .colab-df-container {\n",
       "      display:flex;\n",
       "      flex-wrap:wrap;\n",
       "      gap: 12px;\n",
       "    }\n",
       "\n",
       "    .colab-df-convert {\n",
       "      background-color: #E8F0FE;\n",
       "      border: none;\n",
       "      border-radius: 50%;\n",
       "      cursor: pointer;\n",
       "      display: none;\n",
       "      fill: #1967D2;\n",
       "      height: 32px;\n",
       "      padding: 0 0 0 0;\n",
       "      width: 32px;\n",
       "    }\n",
       "\n",
       "    .colab-df-convert:hover {\n",
       "      background-color: #E2EBFA;\n",
       "      box-shadow: 0px 1px 2px rgba(60, 64, 67, 0.3), 0px 1px 3px 1px rgba(60, 64, 67, 0.15);\n",
       "      fill: #174EA6;\n",
       "    }\n",
       "\n",
       "    [theme=dark] .colab-df-convert {\n",
       "      background-color: #3B4455;\n",
       "      fill: #D2E3FC;\n",
       "    }\n",
       "\n",
       "    [theme=dark] .colab-df-convert:hover {\n",
       "      background-color: #434B5C;\n",
       "      box-shadow: 0px 1px 3px 1px rgba(0, 0, 0, 0.15);\n",
       "      filter: drop-shadow(0px 1px 2px rgba(0, 0, 0, 0.3));\n",
       "      fill: #FFFFFF;\n",
       "    }\n",
       "  </style>\n",
       "\n",
       "      <script>\n",
       "        const buttonEl =\n",
       "          document.querySelector('#df-1622ae82-fd0c-4f09-8458-2fef2e717e75 button.colab-df-convert');\n",
       "        buttonEl.style.display =\n",
       "          google.colab.kernel.accessAllowed ? 'block' : 'none';\n",
       "\n",
       "        async function convertToInteractive(key) {\n",
       "          const element = document.querySelector('#df-1622ae82-fd0c-4f09-8458-2fef2e717e75');\n",
       "          const dataTable =\n",
       "            await google.colab.kernel.invokeFunction('convertToInteractive',\n",
       "                                                     [key], {});\n",
       "          if (!dataTable) return;\n",
       "\n",
       "          const docLinkHtml = 'Like what you see? Visit the ' +\n",
       "            '<a target=\"_blank\" href=https://colab.research.google.com/notebooks/data_table.ipynb>data table notebook</a>'\n",
       "            + ' to learn more about interactive tables.';\n",
       "          element.innerHTML = '';\n",
       "          dataTable['output_type'] = 'display_data';\n",
       "          await google.colab.output.renderOutput(dataTable, element);\n",
       "          const docLink = document.createElement('div');\n",
       "          docLink.innerHTML = docLinkHtml;\n",
       "          element.appendChild(docLink);\n",
       "        }\n",
       "      </script>\n",
       "    </div>\n",
       "  </div>\n",
       "  "
      ],
      "text/plain": [
       "   song_id  predicted_play_count\n",
       "0     7224                  2.72\n",
       "1     8483                  2.21\n",
       "2     8324                  2.18\n",
       "3     9942                  2.07\n",
       "4     5531                  2.04"
      ]
     },
     "execution_count": 367,
     "metadata": {},
     "output_type": "execute_result"
    }
   ],
   "source": [
    "# Building the dataframe for above recommendations with columns \"song_id\" and \"predicted_play_count\"\n",
    "pd.DataFrame(recommendations, columns=['song_id', 'predicted_play_count'])"
   ]
  },
  {
   "cell_type": "code",
   "execution_count": null,
   "metadata": {
    "colab": {
     "base_uri": "https://localhost:8080/",
     "height": 206
    },
    "id": "7gewfmTATsnv",
    "outputId": "fb7fab45-d52f-4aeb-df9b-23b10083c85d"
   },
   "outputs": [
    {
     "data": {
      "text/html": [
       "\n",
       "  <div id=\"df-80a6a42d-e5c7-4b42-8d68-aaa3ffa8ba8f\">\n",
       "    <div class=\"colab-df-container\">\n",
       "      <div>\n",
       "<style scoped>\n",
       "    .dataframe tbody tr th:only-of-type {\n",
       "        vertical-align: middle;\n",
       "    }\n",
       "\n",
       "    .dataframe tbody tr th {\n",
       "        vertical-align: top;\n",
       "    }\n",
       "\n",
       "    .dataframe thead th {\n",
       "        text-align: right;\n",
       "    }\n",
       "</style>\n",
       "<table border=\"1\" class=\"dataframe\">\n",
       "  <thead>\n",
       "    <tr style=\"text-align: right;\">\n",
       "      <th></th>\n",
       "      <th>song_id</th>\n",
       "      <th>play_freq</th>\n",
       "      <th>predicted_play_count</th>\n",
       "      <th>corrected_play_count</th>\n",
       "    </tr>\n",
       "  </thead>\n",
       "  <tbody>\n",
       "    <tr>\n",
       "      <th>2</th>\n",
       "      <td>7224</td>\n",
       "      <td>361</td>\n",
       "      <td>2.72</td>\n",
       "      <td>2.67</td>\n",
       "    </tr>\n",
       "    <tr>\n",
       "      <th>3</th>\n",
       "      <td>8483</td>\n",
       "      <td>275</td>\n",
       "      <td>2.21</td>\n",
       "      <td>2.15</td>\n",
       "    </tr>\n",
       "    <tr>\n",
       "      <th>4</th>\n",
       "      <td>8324</td>\n",
       "      <td>252</td>\n",
       "      <td>2.18</td>\n",
       "      <td>2.12</td>\n",
       "    </tr>\n",
       "    <tr>\n",
       "      <th>1</th>\n",
       "      <td>9942</td>\n",
       "      <td>373</td>\n",
       "      <td>2.07</td>\n",
       "      <td>2.02</td>\n",
       "    </tr>\n",
       "    <tr>\n",
       "      <th>0</th>\n",
       "      <td>5531</td>\n",
       "      <td>1427</td>\n",
       "      <td>2.04</td>\n",
       "      <td>2.01</td>\n",
       "    </tr>\n",
       "  </tbody>\n",
       "</table>\n",
       "</div>\n",
       "      <button class=\"colab-df-convert\" onclick=\"convertToInteractive('df-80a6a42d-e5c7-4b42-8d68-aaa3ffa8ba8f')\"\n",
       "              title=\"Convert this dataframe to an interactive table.\"\n",
       "              style=\"display:none;\">\n",
       "        \n",
       "  <svg xmlns=\"http://www.w3.org/2000/svg\" height=\"24px\"viewBox=\"0 0 24 24\"\n",
       "       width=\"24px\">\n",
       "    <path d=\"M0 0h24v24H0V0z\" fill=\"none\"/>\n",
       "    <path d=\"M18.56 5.44l.94 2.06.94-2.06 2.06-.94-2.06-.94-.94-2.06-.94 2.06-2.06.94zm-11 1L8.5 8.5l.94-2.06 2.06-.94-2.06-.94L8.5 2.5l-.94 2.06-2.06.94zm10 10l.94 2.06.94-2.06 2.06-.94-2.06-.94-.94-2.06-.94 2.06-2.06.94z\"/><path d=\"M17.41 7.96l-1.37-1.37c-.4-.4-.92-.59-1.43-.59-.52 0-1.04.2-1.43.59L10.3 9.45l-7.72 7.72c-.78.78-.78 2.05 0 2.83L4 21.41c.39.39.9.59 1.41.59.51 0 1.02-.2 1.41-.59l7.78-7.78 2.81-2.81c.8-.78.8-2.07 0-2.86zM5.41 20L4 18.59l7.72-7.72 1.47 1.35L5.41 20z\"/>\n",
       "  </svg>\n",
       "      </button>\n",
       "      \n",
       "  <style>\n",
       "    .colab-df-container {\n",
       "      display:flex;\n",
       "      flex-wrap:wrap;\n",
       "      gap: 12px;\n",
       "    }\n",
       "\n",
       "    .colab-df-convert {\n",
       "      background-color: #E8F0FE;\n",
       "      border: none;\n",
       "      border-radius: 50%;\n",
       "      cursor: pointer;\n",
       "      display: none;\n",
       "      fill: #1967D2;\n",
       "      height: 32px;\n",
       "      padding: 0 0 0 0;\n",
       "      width: 32px;\n",
       "    }\n",
       "\n",
       "    .colab-df-convert:hover {\n",
       "      background-color: #E2EBFA;\n",
       "      box-shadow: 0px 1px 2px rgba(60, 64, 67, 0.3), 0px 1px 3px 1px rgba(60, 64, 67, 0.15);\n",
       "      fill: #174EA6;\n",
       "    }\n",
       "\n",
       "    [theme=dark] .colab-df-convert {\n",
       "      background-color: #3B4455;\n",
       "      fill: #D2E3FC;\n",
       "    }\n",
       "\n",
       "    [theme=dark] .colab-df-convert:hover {\n",
       "      background-color: #434B5C;\n",
       "      box-shadow: 0px 1px 3px 1px rgba(0, 0, 0, 0.15);\n",
       "      filter: drop-shadow(0px 1px 2px rgba(0, 0, 0, 0.3));\n",
       "      fill: #FFFFFF;\n",
       "    }\n",
       "  </style>\n",
       "\n",
       "      <script>\n",
       "        const buttonEl =\n",
       "          document.querySelector('#df-80a6a42d-e5c7-4b42-8d68-aaa3ffa8ba8f button.colab-df-convert');\n",
       "        buttonEl.style.display =\n",
       "          google.colab.kernel.accessAllowed ? 'block' : 'none';\n",
       "\n",
       "        async function convertToInteractive(key) {\n",
       "          const element = document.querySelector('#df-80a6a42d-e5c7-4b42-8d68-aaa3ffa8ba8f');\n",
       "          const dataTable =\n",
       "            await google.colab.kernel.invokeFunction('convertToInteractive',\n",
       "                                                     [key], {});\n",
       "          if (!dataTable) return;\n",
       "\n",
       "          const docLinkHtml = 'Like what you see? Visit the ' +\n",
       "            '<a target=\"_blank\" href=https://colab.research.google.com/notebooks/data_table.ipynb>data table notebook</a>'\n",
       "            + ' to learn more about interactive tables.';\n",
       "          element.innerHTML = '';\n",
       "          dataTable['output_type'] = 'display_data';\n",
       "          await google.colab.output.renderOutput(dataTable, element);\n",
       "          const docLink = document.createElement('div');\n",
       "          docLink.innerHTML = docLinkHtml;\n",
       "          element.appendChild(docLink);\n",
       "        }\n",
       "      </script>\n",
       "    </div>\n",
       "  </div>\n",
       "  "
      ],
      "text/plain": [
       "   song_id  play_freq  predicted_play_count  corrected_play_count\n",
       "2     7224        361                  2.72                  2.67\n",
       "3     8483        275                  2.21                  2.15\n",
       "4     8324        252                  2.18                  2.12\n",
       "1     9942        373                  2.07                  2.02\n",
       "0     5531       1427                  2.04                  2.01"
      ]
     },
     "execution_count": 366,
     "metadata": {},
     "output_type": "execute_result"
    }
   ],
   "source": [
    "# Applying the ranking_songs function\n",
    "ranking_songs(recommendations, final_play)"
   ]
  },
  {
   "cell_type": "markdown",
   "metadata": {
    "id": "Ore9XTFgv5Np"
   },
   "source": [
    "**Observations and Insights:**\n",
    "\n",
    "- We have recommended 5 songs that have with values of predicted `play_count` between `2.04` and `2.72`."
   ]
  },
  {
   "cell_type": "markdown",
   "metadata": {
    "id": "rKgJpSA9vOOL"
   },
   "source": [
    "### **6.2.b Model-Based Collaborative Filtering - Matrix Factorization**"
   ]
  },
  {
   "cell_type": "markdown",
   "metadata": {
    "id": "hJynidJCw-ti"
   },
   "source": [
    "\n",
    "The `model-based collaborative filtering` is a **personalized recommendation system**, in which the recommendations are based on the past behavior of the user, and are not dependent on any additional information. We use **latent features** to find recommendations for each user."
   ]
  },
  {
   "cell_type": "markdown",
   "metadata": {
    "id": "0ihwcwL7YkIY"
   },
   "source": [
    "### **Build a baseline Singular Value Decomposition model**"
   ]
  },
  {
   "cell_type": "code",
   "execution_count": null,
   "metadata": {
    "colab": {
     "base_uri": "https://localhost:8080/"
    },
    "id": "07-2PT5Ssjqm",
    "outputId": "5dca478d-c90b-4d91-e0ce-ef89da363e34"
   },
   "outputs": [
    {
     "name": "stdout",
     "output_type": "stream",
     "text": [
      "\u001b[1m\u001b[92mrmse: 1.009, recall: 0.948, precision: 1.0, f1_score: 0.973\u001b[0m\n",
      "\u001b[1m\u001b[92mrmse: 1.009, recall: 0.994, precision: 1.0, f1_score: 0.997\u001b[0m\n",
      "\u001b[1m\u001b[92mrmse: 1.009, recall: 0.999, precision: 1.0, f1_score: 0.999\u001b[0m\n",
      "\u001b[1m\u001b[92mrmse: 1.009, recall: 1.0, precision: 1.0, f1_score: 1.0\u001b[0m\n"
     ]
    }
   ],
   "source": [
    "# Build baseline model using svd\n",
    "# Using SVD matrix factorization\n",
    "svd = SVD(random_state=1)\n",
    "\n",
    "# Training the algorithm on the train set\n",
    "svd.fit(trainset)\n",
    "\n",
    "# Compute and display the metrics\n",
    "precision_recall_at_k(svd, 10, 1)\n",
    "precision_recall_at_k(svd, 20, 1)\n",
    "precision_recall_at_k(svd, 30, 1)\n",
    "precision_recall_at_k(svd, 40, 1)"
   ]
  },
  {
   "cell_type": "code",
   "execution_count": null,
   "metadata": {
    "colab": {
     "base_uri": "https://localhost:8080/"
    },
    "id": "nrjVTZwrdJCc",
    "outputId": "0227b444-571b-4aec-9ad5-7082b2e48f84"
   },
   "outputs": [
    {
     "name": "stdout",
     "output_type": "stream",
     "text": [
      "\u001b[1m\u001b[92mDisplaying the predictions for user 6958 and song 1671.\n",
      "\n",
      "- Real prediction: 2,\n",
      "- Estimated prediction: 1.31.\u001b[0m\n"
     ]
    }
   ],
   "source": [
    "play_count_predict(svd, 6958, 1671, 2)"
   ]
  },
  {
   "cell_type": "code",
   "execution_count": null,
   "metadata": {
    "colab": {
     "base_uri": "https://localhost:8080/"
    },
    "id": "T7JMcGYRdWMq",
    "outputId": "46e18afa-494b-4122-fc9f-01b53e06446f"
   },
   "outputs": [
    {
     "name": "stdout",
     "output_type": "stream",
     "text": [
      "\u001b[1m\u001b[92mDisplaying the predictions for user 6958 and song 3232.\n",
      "\n",
      "- Real prediction: None,\n",
      "- Estimated prediction: 1.23.\u001b[0m\n"
     ]
    }
   ],
   "source": [
    "play_count_predict(svd, 6958, 3232)"
   ]
  },
  {
   "cell_type": "markdown",
   "metadata": {
    "id": "aSgBRcL1xnVC"
   },
   "source": [
    "### **Tune the baseline SVD model, and try improving its performance**\n",
    "\n",
    "- We will perform a randomized grid search cross validation, in order to find the best values for the hyperparamenters. \n",
    "- We will then use the parameters obtained, and tune the model, in an effort to improve the model's performance.\n"
   ]
  },
  {
   "cell_type": "code",
   "execution_count": null,
   "metadata": {
    "colab": {
     "base_uri": "https://localhost:8080/"
    },
    "id": "L5ZroBAb3t0D",
    "outputId": "43c633b4-368e-4209-a0aa-2da918236bfc"
   },
   "outputs": [
    {
     "name": "stdout",
     "output_type": "stream",
     "text": [
      "\u001b[1m\u001b[92mRMSE of the best option: 0.989\u001b[0m\n",
      "\u001b[1m\u001b[92mThe hyperparameters of the best option: {'n_epochs': 60, 'lr_all': 0.01, 'reg_all': 0.2}\u001b[0m\n"
     ]
    }
   ],
   "source": [
    "# Set the parameter space to tune\n",
    "param_grid = {'n_epochs': [10, 20, 30, 40, 50, 60], \n",
    "              'lr_all': [0.001, 0.005, 0.01],\n",
    "              'reg_all': [0.2, 0.4, 0.6, 0.8]}\n",
    "\n",
    "# Perform a 3-fold grid search cross-validation\n",
    "gs_svd = RandomizedSearchCV(SVD, param_grid, measures = ['rmse'], cv = 3, n_jobs = -1)\n",
    "\n",
    "# Fitting data\n",
    "gs_svd.fit(data)\n",
    "\n",
    "display_best_params(gs_svd)"
   ]
  },
  {
   "cell_type": "markdown",
   "metadata": {
    "id": "gJ3CoEpcnnoZ"
   },
   "source": [
    "\n",
    "- The `Randomized GridSearch Cross Validation` algorithm has outputed the following **optimal values** for the hyperparameters:\n",
    "  - `n_epochs`: **60**,\n",
    "  - `lr_all`: **0.01**, and\n",
    "  - `reg_all`: **0.2**."
   ]
  },
  {
   "cell_type": "code",
   "execution_count": null,
   "metadata": {
    "colab": {
     "base_uri": "https://localhost:8080/"
    },
    "id": "TA_7xe-nnhuu",
    "outputId": "88b6b964-79f9-4771-b416-49c83359cb0b"
   },
   "outputs": [
    {
     "name": "stdout",
     "output_type": "stream",
     "text": [
      "\u001b[1m\u001b[92mrmse: 1.009, recall: 0.948, precision: 1.0, f1_score: 0.973\u001b[0m\n",
      "\u001b[1m\u001b[92mrmse: 1.009, recall: 0.994, precision: 1.0, f1_score: 0.997\u001b[0m\n",
      "\u001b[1m\u001b[92mrmse: 1.009, recall: 0.999, precision: 1.0, f1_score: 0.999\u001b[0m\n",
      "\u001b[1m\u001b[92mrmse: 1.009, recall: 1.0, precision: 1.0, f1_score: 1.0\u001b[0m\n"
     ]
    }
   ],
   "source": [
    "# Building the optimized SVD model using optimal hyperparameters\n",
    "\n",
    "svd_optimized = SVD(n_epochs=60, lr_all=0.001, reg_all=0.2, random_state=1)\n",
    "\n",
    "# Train the algorithm on the train set\n",
    "\n",
    "svd_optimized = svd_optimized.fit(trainset)\n",
    "# Compute and display the metrics\n",
    "precision_recall_at_k(svd_optimized, 10, 1)\n",
    "precision_recall_at_k(svd_optimized, 20, 1)\n",
    "precision_recall_at_k(svd_optimized, 30, 1)\n",
    "precision_recall_at_k(svd_optimized, 40, 1)"
   ]
  },
  {
   "cell_type": "markdown",
   "metadata": {
    "id": "l3t5JdBmxz8l"
   },
   "source": [
    "**Observations and Insights:**\n",
    "\n",
    "- So far, this model performs very close to the best model yet, `user-user-similarity`."
   ]
  },
  {
   "cell_type": "code",
   "execution_count": null,
   "metadata": {
    "colab": {
     "base_uri": "https://localhost:8080/"
    },
    "id": "mASzXprjj21b",
    "outputId": "0809c4da-aa53-4954-8dc5-dd580997d24d"
   },
   "outputs": [
    {
     "name": "stdout",
     "output_type": "stream",
     "text": [
      "\u001b[1m\u001b[92mDisplaying the predictions for user 6958 and song 1671.\n",
      "\n",
      "- Real prediction: 2,\n",
      "- Estimated prediction: 1.36.\u001b[0m\n"
     ]
    }
   ],
   "source": [
    "play_count_predict(svd_optimized, 6958, 1671, 2)"
   ]
  },
  {
   "cell_type": "code",
   "execution_count": null,
   "metadata": {
    "colab": {
     "base_uri": "https://localhost:8080/"
    },
    "id": "QFh1XOqtj_aX",
    "outputId": "a3f03354-5952-4861-8350-ec903867ecc0"
   },
   "outputs": [
    {
     "name": "stdout",
     "output_type": "stream",
     "text": [
      "\u001b[1m\u001b[92mDisplaying the predictions for user 6958 and song 3232.\n",
      "\n",
      "- Real prediction: None,\n",
      "- Estimated prediction: 1.44.\u001b[0m\n"
     ]
    }
   ],
   "source": [
    "play_count_predict(svd_optimized, 6958, 3232)"
   ]
  },
  {
   "cell_type": "markdown",
   "metadata": {
    "id": "Qm732Wuvy76R"
   },
   "source": [
    "**Observations and Insights:**\n",
    "\n",
    "- This model is underperforming the accuracy of predictions."
   ]
  },
  {
   "cell_type": "code",
   "execution_count": null,
   "metadata": {
    "colab": {
     "base_uri": "https://localhost:8080/",
     "height": 206
    },
    "id": "1LGeE2EB_n90",
    "outputId": "4b1dcc93-71ed-4089-9562-662e3763b0e3"
   },
   "outputs": [
    {
     "data": {
      "text/html": [
       "\n",
       "  <div id=\"df-f573285f-254d-4c12-b5eb-12cab8a8c72d\">\n",
       "    <div class=\"colab-df-container\">\n",
       "      <div>\n",
       "<style scoped>\n",
       "    .dataframe tbody tr th:only-of-type {\n",
       "        vertical-align: middle;\n",
       "    }\n",
       "\n",
       "    .dataframe tbody tr th {\n",
       "        vertical-align: top;\n",
       "    }\n",
       "\n",
       "    .dataframe thead th {\n",
       "        text-align: right;\n",
       "    }\n",
       "</style>\n",
       "<table border=\"1\" class=\"dataframe\">\n",
       "  <thead>\n",
       "    <tr style=\"text-align: right;\">\n",
       "      <th></th>\n",
       "      <th>song_id</th>\n",
       "      <th>predicted_play_count</th>\n",
       "    </tr>\n",
       "  </thead>\n",
       "  <tbody>\n",
       "    <tr>\n",
       "      <th>0</th>\n",
       "      <td>7224</td>\n",
       "      <td>2.72</td>\n",
       "    </tr>\n",
       "    <tr>\n",
       "      <th>1</th>\n",
       "      <td>8483</td>\n",
       "      <td>2.21</td>\n",
       "    </tr>\n",
       "    <tr>\n",
       "      <th>2</th>\n",
       "      <td>8324</td>\n",
       "      <td>2.18</td>\n",
       "    </tr>\n",
       "    <tr>\n",
       "      <th>3</th>\n",
       "      <td>9942</td>\n",
       "      <td>2.07</td>\n",
       "    </tr>\n",
       "    <tr>\n",
       "      <th>4</th>\n",
       "      <td>5531</td>\n",
       "      <td>2.04</td>\n",
       "    </tr>\n",
       "  </tbody>\n",
       "</table>\n",
       "</div>\n",
       "      <button class=\"colab-df-convert\" onclick=\"convertToInteractive('df-f573285f-254d-4c12-b5eb-12cab8a8c72d')\"\n",
       "              title=\"Convert this dataframe to an interactive table.\"\n",
       "              style=\"display:none;\">\n",
       "        \n",
       "  <svg xmlns=\"http://www.w3.org/2000/svg\" height=\"24px\"viewBox=\"0 0 24 24\"\n",
       "       width=\"24px\">\n",
       "    <path d=\"M0 0h24v24H0V0z\" fill=\"none\"/>\n",
       "    <path d=\"M18.56 5.44l.94 2.06.94-2.06 2.06-.94-2.06-.94-.94-2.06-.94 2.06-2.06.94zm-11 1L8.5 8.5l.94-2.06 2.06-.94-2.06-.94L8.5 2.5l-.94 2.06-2.06.94zm10 10l.94 2.06.94-2.06 2.06-.94-2.06-.94-.94-2.06-.94 2.06-2.06.94z\"/><path d=\"M17.41 7.96l-1.37-1.37c-.4-.4-.92-.59-1.43-.59-.52 0-1.04.2-1.43.59L10.3 9.45l-7.72 7.72c-.78.78-.78 2.05 0 2.83L4 21.41c.39.39.9.59 1.41.59.51 0 1.02-.2 1.41-.59l7.78-7.78 2.81-2.81c.8-.78.8-2.07 0-2.86zM5.41 20L4 18.59l7.72-7.72 1.47 1.35L5.41 20z\"/>\n",
       "  </svg>\n",
       "      </button>\n",
       "      \n",
       "  <style>\n",
       "    .colab-df-container {\n",
       "      display:flex;\n",
       "      flex-wrap:wrap;\n",
       "      gap: 12px;\n",
       "    }\n",
       "\n",
       "    .colab-df-convert {\n",
       "      background-color: #E8F0FE;\n",
       "      border: none;\n",
       "      border-radius: 50%;\n",
       "      cursor: pointer;\n",
       "      display: none;\n",
       "      fill: #1967D2;\n",
       "      height: 32px;\n",
       "      padding: 0 0 0 0;\n",
       "      width: 32px;\n",
       "    }\n",
       "\n",
       "    .colab-df-convert:hover {\n",
       "      background-color: #E2EBFA;\n",
       "      box-shadow: 0px 1px 2px rgba(60, 64, 67, 0.3), 0px 1px 3px 1px rgba(60, 64, 67, 0.15);\n",
       "      fill: #174EA6;\n",
       "    }\n",
       "\n",
       "    [theme=dark] .colab-df-convert {\n",
       "      background-color: #3B4455;\n",
       "      fill: #D2E3FC;\n",
       "    }\n",
       "\n",
       "    [theme=dark] .colab-df-convert:hover {\n",
       "      background-color: #434B5C;\n",
       "      box-shadow: 0px 1px 3px 1px rgba(0, 0, 0, 0.15);\n",
       "      filter: drop-shadow(0px 1px 2px rgba(0, 0, 0, 0.3));\n",
       "      fill: #FFFFFF;\n",
       "    }\n",
       "  </style>\n",
       "\n",
       "      <script>\n",
       "        const buttonEl =\n",
       "          document.querySelector('#df-f573285f-254d-4c12-b5eb-12cab8a8c72d button.colab-df-convert');\n",
       "        buttonEl.style.display =\n",
       "          google.colab.kernel.accessAllowed ? 'block' : 'none';\n",
       "\n",
       "        async function convertToInteractive(key) {\n",
       "          const element = document.querySelector('#df-f573285f-254d-4c12-b5eb-12cab8a8c72d');\n",
       "          const dataTable =\n",
       "            await google.colab.kernel.invokeFunction('convertToInteractive',\n",
       "                                                     [key], {});\n",
       "          if (!dataTable) return;\n",
       "\n",
       "          const docLinkHtml = 'Like what you see? Visit the ' +\n",
       "            '<a target=\"_blank\" href=https://colab.research.google.com/notebooks/data_table.ipynb>data table notebook</a>'\n",
       "            + ' to learn more about interactive tables.';\n",
       "          element.innerHTML = '';\n",
       "          dataTable['output_type'] = 'display_data';\n",
       "          await google.colab.output.renderOutput(dataTable, element);\n",
       "          const docLink = document.createElement('div');\n",
       "          docLink.innerHTML = docLinkHtml;\n",
       "          element.appendChild(docLink);\n",
       "        }\n",
       "      </script>\n",
       "    </div>\n",
       "  </div>\n",
       "  "
      ],
      "text/plain": [
       "   song_id  predicted_play_count\n",
       "0     7224                  2.72\n",
       "1     8483                  2.21\n",
       "2     8324                  2.18\n",
       "3     9942                  2.07\n",
       "4     5531                  2.04"
      ]
     },
     "execution_count": 417,
     "metadata": {},
     "output_type": "execute_result"
    }
   ],
   "source": [
    "# Getting top 5 recommendations for user_id 6958 using \"svd_optimized\" algorithm\n",
    "\n",
    "recommendations = get_recommendations(df_final, 6958, 5, svd_optimized)\n",
    "pd.DataFrame(recommendations, columns=['song_id', 'predicted_play_count'])"
   ]
  },
  {
   "cell_type": "code",
   "execution_count": null,
   "metadata": {
    "colab": {
     "base_uri": "https://localhost:8080/",
     "height": 206
    },
    "id": "6ngiGSJU818M",
    "outputId": "90f5ae40-514f-40f0-bc23-be4985f3d0b2"
   },
   "outputs": [
    {
     "data": {
      "text/html": [
       "\n",
       "  <div id=\"df-203cabf6-5ec5-448b-9a98-d1022c60ac8a\">\n",
       "    <div class=\"colab-df-container\">\n",
       "      <div>\n",
       "<style scoped>\n",
       "    .dataframe tbody tr th:only-of-type {\n",
       "        vertical-align: middle;\n",
       "    }\n",
       "\n",
       "    .dataframe tbody tr th {\n",
       "        vertical-align: top;\n",
       "    }\n",
       "\n",
       "    .dataframe thead th {\n",
       "        text-align: right;\n",
       "    }\n",
       "</style>\n",
       "<table border=\"1\" class=\"dataframe\">\n",
       "  <thead>\n",
       "    <tr style=\"text-align: right;\">\n",
       "      <th></th>\n",
       "      <th>song_id</th>\n",
       "      <th>play_freq</th>\n",
       "      <th>predicted_play_count</th>\n",
       "      <th>corrected_play_count</th>\n",
       "    </tr>\n",
       "  </thead>\n",
       "  <tbody>\n",
       "    <tr>\n",
       "      <th>2</th>\n",
       "      <td>7224</td>\n",
       "      <td>361</td>\n",
       "      <td>2.72</td>\n",
       "      <td>2.67</td>\n",
       "    </tr>\n",
       "    <tr>\n",
       "      <th>3</th>\n",
       "      <td>8483</td>\n",
       "      <td>275</td>\n",
       "      <td>2.21</td>\n",
       "      <td>2.15</td>\n",
       "    </tr>\n",
       "    <tr>\n",
       "      <th>4</th>\n",
       "      <td>8324</td>\n",
       "      <td>252</td>\n",
       "      <td>2.18</td>\n",
       "      <td>2.12</td>\n",
       "    </tr>\n",
       "    <tr>\n",
       "      <th>1</th>\n",
       "      <td>9942</td>\n",
       "      <td>373</td>\n",
       "      <td>2.07</td>\n",
       "      <td>2.02</td>\n",
       "    </tr>\n",
       "    <tr>\n",
       "      <th>0</th>\n",
       "      <td>5531</td>\n",
       "      <td>1427</td>\n",
       "      <td>2.04</td>\n",
       "      <td>2.01</td>\n",
       "    </tr>\n",
       "  </tbody>\n",
       "</table>\n",
       "</div>\n",
       "      <button class=\"colab-df-convert\" onclick=\"convertToInteractive('df-203cabf6-5ec5-448b-9a98-d1022c60ac8a')\"\n",
       "              title=\"Convert this dataframe to an interactive table.\"\n",
       "              style=\"display:none;\">\n",
       "        \n",
       "  <svg xmlns=\"http://www.w3.org/2000/svg\" height=\"24px\"viewBox=\"0 0 24 24\"\n",
       "       width=\"24px\">\n",
       "    <path d=\"M0 0h24v24H0V0z\" fill=\"none\"/>\n",
       "    <path d=\"M18.56 5.44l.94 2.06.94-2.06 2.06-.94-2.06-.94-.94-2.06-.94 2.06-2.06.94zm-11 1L8.5 8.5l.94-2.06 2.06-.94-2.06-.94L8.5 2.5l-.94 2.06-2.06.94zm10 10l.94 2.06.94-2.06 2.06-.94-2.06-.94-.94-2.06-.94 2.06-2.06.94z\"/><path d=\"M17.41 7.96l-1.37-1.37c-.4-.4-.92-.59-1.43-.59-.52 0-1.04.2-1.43.59L10.3 9.45l-7.72 7.72c-.78.78-.78 2.05 0 2.83L4 21.41c.39.39.9.59 1.41.59.51 0 1.02-.2 1.41-.59l7.78-7.78 2.81-2.81c.8-.78.8-2.07 0-2.86zM5.41 20L4 18.59l7.72-7.72 1.47 1.35L5.41 20z\"/>\n",
       "  </svg>\n",
       "      </button>\n",
       "      \n",
       "  <style>\n",
       "    .colab-df-container {\n",
       "      display:flex;\n",
       "      flex-wrap:wrap;\n",
       "      gap: 12px;\n",
       "    }\n",
       "\n",
       "    .colab-df-convert {\n",
       "      background-color: #E8F0FE;\n",
       "      border: none;\n",
       "      border-radius: 50%;\n",
       "      cursor: pointer;\n",
       "      display: none;\n",
       "      fill: #1967D2;\n",
       "      height: 32px;\n",
       "      padding: 0 0 0 0;\n",
       "      width: 32px;\n",
       "    }\n",
       "\n",
       "    .colab-df-convert:hover {\n",
       "      background-color: #E2EBFA;\n",
       "      box-shadow: 0px 1px 2px rgba(60, 64, 67, 0.3), 0px 1px 3px 1px rgba(60, 64, 67, 0.15);\n",
       "      fill: #174EA6;\n",
       "    }\n",
       "\n",
       "    [theme=dark] .colab-df-convert {\n",
       "      background-color: #3B4455;\n",
       "      fill: #D2E3FC;\n",
       "    }\n",
       "\n",
       "    [theme=dark] .colab-df-convert:hover {\n",
       "      background-color: #434B5C;\n",
       "      box-shadow: 0px 1px 3px 1px rgba(0, 0, 0, 0.15);\n",
       "      filter: drop-shadow(0px 1px 2px rgba(0, 0, 0, 0.3));\n",
       "      fill: #FFFFFF;\n",
       "    }\n",
       "  </style>\n",
       "\n",
       "      <script>\n",
       "        const buttonEl =\n",
       "          document.querySelector('#df-203cabf6-5ec5-448b-9a98-d1022c60ac8a button.colab-df-convert');\n",
       "        buttonEl.style.display =\n",
       "          google.colab.kernel.accessAllowed ? 'block' : 'none';\n",
       "\n",
       "        async function convertToInteractive(key) {\n",
       "          const element = document.querySelector('#df-203cabf6-5ec5-448b-9a98-d1022c60ac8a');\n",
       "          const dataTable =\n",
       "            await google.colab.kernel.invokeFunction('convertToInteractive',\n",
       "                                                     [key], {});\n",
       "          if (!dataTable) return;\n",
       "\n",
       "          const docLinkHtml = 'Like what you see? Visit the ' +\n",
       "            '<a target=\"_blank\" href=https://colab.research.google.com/notebooks/data_table.ipynb>data table notebook</a>'\n",
       "            + ' to learn more about interactive tables.';\n",
       "          element.innerHTML = '';\n",
       "          dataTable['output_type'] = 'display_data';\n",
       "          await google.colab.output.renderOutput(dataTable, element);\n",
       "          const docLink = document.createElement('div');\n",
       "          docLink.innerHTML = docLinkHtml;\n",
       "          element.appendChild(docLink);\n",
       "        }\n",
       "      </script>\n",
       "    </div>\n",
       "  </div>\n",
       "  "
      ],
      "text/plain": [
       "   song_id  play_freq  predicted_play_count  corrected_play_count\n",
       "2     7224        361                  2.72                  2.67\n",
       "3     8483        275                  2.21                  2.15\n",
       "4     8324        252                  2.18                  2.12\n",
       "1     9942        373                  2.07                  2.02\n",
       "0     5531       1427                  2.04                  2.01"
      ]
     },
     "execution_count": 369,
     "metadata": {},
     "output_type": "execute_result"
    }
   ],
   "source": [
    "# Ranking songs based on above recommendations\n",
    "\n",
    "ranking_songs(recommendations, final_play)\n"
   ]
  },
  {
   "cell_type": "markdown",
   "metadata": {
    "id": "SepUU1Efy_9Z"
   },
   "source": [
    "**Observations and Insights:**\n",
    "\n",
    "- We have recommended 5 songs with values of the predicted `play_count` between `2.04` and `2.72`."
   ]
  },
  {
   "cell_type": "markdown",
   "metadata": {
    "id": "57b31de5"
   },
   "source": [
    "### **6.3 Cluster-Based Recommendation System**"
   ]
  },
  {
   "cell_type": "markdown",
   "metadata": {
    "id": "9Xv2AZCszCdN"
   },
   "source": [
    "In **clustering-based recommendation systems**, we explore the **similarities and differences** in people's tastes in songs, based on how often they listen to songs. We cluster similar users together, and we recommend songs to a user based on the `play_count`s of users in the same cluster.\n"
   ]
  },
  {
   "cell_type": "markdown",
   "metadata": {
    "id": "WkEETVafaEiX"
   },
   "source": [
    "### **Build a baseline Cluster-Based model**"
   ]
  },
  {
   "cell_type": "code",
   "execution_count": null,
   "metadata": {
    "colab": {
     "base_uri": "https://localhost:8080/"
    },
    "id": "0c4b20e4",
    "outputId": "c5a6c313-4c5f-4805-cd9f-4c087de9fc22"
   },
   "outputs": [
    {
     "name": "stdout",
     "output_type": "stream",
     "text": [
      "\u001b[1m\u001b[92mrmse: 1.033, recall: 0.948, precision: 1.0, f1_score: 0.973\u001b[0m\n",
      "\u001b[1m\u001b[92mrmse: 1.033, recall: 0.994, precision: 1.0, f1_score: 0.997\u001b[0m\n",
      "\u001b[1m\u001b[92mrmse: 1.033, recall: 0.999, precision: 1.0, f1_score: 0.999\u001b[0m\n",
      "\u001b[1m\u001b[92mrmse: 1.033, recall: 1.0, precision: 1.0, f1_score: 1.0\u001b[0m\n"
     ]
    }
   ],
   "source": [
    "# Make baseline clustering model\n",
    "coCluster = CoClustering(random_state=1)\n",
    "# Training the algorithm on the train set\n",
    "coCluster.fit(trainset)\n",
    "\n",
    "# # Compute and display the metrics\n",
    "precision_recall_at_k(coCluster, 10, 1)\n",
    "precision_recall_at_k(coCluster, 20, 1)\n",
    "precision_recall_at_k(coCluster, 30, 1)\n",
    "precision_recall_at_k(coCluster, 40, 1)"
   ]
  },
  {
   "cell_type": "code",
   "execution_count": null,
   "metadata": {
    "colab": {
     "base_uri": "https://localhost:8080/"
    },
    "id": "UdlmHuBCkOnw",
    "outputId": "b43fc81a-ff07-4487-9fb7-ed94d8bfe717"
   },
   "outputs": [
    {
     "name": "stdout",
     "output_type": "stream",
     "text": [
      "\u001b[1m\u001b[92mDisplaying the predictions for user 6958 and song 1671.\n",
      "\n",
      "- Real prediction: 2,\n",
      "- Estimated prediction: 1.2.\u001b[0m\n"
     ]
    }
   ],
   "source": [
    "play_count_predict(coCluster, 6958, 1671, 2)"
   ]
  },
  {
   "cell_type": "code",
   "execution_count": null,
   "metadata": {
    "colab": {
     "base_uri": "https://localhost:8080/"
    },
    "id": "t_eWzvmikZyZ",
    "outputId": "fbbfab61-d5de-49ea-8185-8123f10454cd"
   },
   "outputs": [
    {
     "name": "stdout",
     "output_type": "stream",
     "text": [
      "\u001b[1m\u001b[92mDisplaying the predictions for user 6958 and song 3232.\n",
      "\n",
      "- Real prediction: None,\n",
      "- Estimated prediction: 1.02.\u001b[0m\n"
     ]
    }
   ],
   "source": [
    "play_count_predict(coCluster, 6958, 3232)"
   ]
  },
  {
   "cell_type": "markdown",
   "metadata": {
    "id": "c2fd66f5"
   },
   "source": [
    "### **Tune the baseline Cluster-Based model, and try improving its performance**\n",
    "\n",
    "- We will perform a randomized grid search cross validation, in order to find the best values for the hyperparamenters. \n",
    "- We will then use the parameters obtained, and tune the model, in an effort to improve the model's performance.\n"
   ]
  },
  {
   "cell_type": "code",
   "execution_count": null,
   "metadata": {
    "colab": {
     "base_uri": "https://localhost:8080/"
    },
    "id": "efe7d8e6",
    "outputId": "7547859b-3839-4a9a-f35d-18b868c0941a"
   },
   "outputs": [
    {
     "name": "stdout",
     "output_type": "stream",
     "text": [
      "\u001b[1m\u001b[92mRMSE of the best option: 1.04\u001b[0m\n",
      "\u001b[1m\u001b[92mThe hyperparameters of the best option: {'n_cltr_u': 4, 'n_cltr_i': 5, 'n_epochs': 10}\u001b[0m\n"
     ]
    }
   ],
   "source": [
    "# Set the parameter space to tune\n",
    "param_grid = {'n_cltr_u': [4, 5, 6, 7, 8, 9], \n",
    "              'n_cltr_i': [4, 5, 6, 7, 8, 9], \n",
    "              'n_epochs': [10, 20, 30, 40, 50]}\n",
    "# Perform a 3-fold grid search cross-validation\n",
    "gs_cocluster = RandomizedSearchCV(CoClustering, param_grid, measures = ['rmse'], cv = 3, n_jobs = -1)\n",
    "# Fitting the data\n",
    "gs_cocluster.fit(data)\n",
    "display_best_params(gs_cocluster)\n",
    "# Find the best RMSE score\n",
    "#print(round(gs.best_score['rmse'], 3))\n",
    "# Extract the combination of parameters that gave the best RMSE score\n",
    "#print(gs.best_params['rmse'])"
   ]
  },
  {
   "cell_type": "markdown",
   "metadata": {
    "id": "eywpCFPfwSFT"
   },
   "source": [
    "- The `Grid Search Cross Validation` algorithm has outputed the following **optimal values** for the hyperparameters:\n",
    "  - `n_cltr_u`: **4**,\n",
    "  - `n_cltr_i`: **5**, and  \n",
    "  - `n_epochs`: **10**.\n"
   ]
  },
  {
   "cell_type": "code",
   "execution_count": null,
   "metadata": {
    "colab": {
     "base_uri": "https://localhost:8080/"
    },
    "id": "5a7a8a30",
    "outputId": "9887b932-10aa-4266-f45d-8871e8e9de61"
   },
   "outputs": [
    {
     "name": "stdout",
     "output_type": "stream",
     "text": [
      "\u001b[1m\u001b[92mrmse: 1.04, recall: 0.948, precision: 1.0, f1_score: 0.973\u001b[0m\n",
      "\u001b[1m\u001b[92mrmse: 1.04, recall: 0.994, precision: 1.0, f1_score: 0.997\u001b[0m\n",
      "\u001b[1m\u001b[92mrmse: 1.04, recall: 0.999, precision: 1.0, f1_score: 0.999\u001b[0m\n",
      "\u001b[1m\u001b[92mrmse: 1.04, recall: 1.0, precision: 1.0, f1_score: 1.0\u001b[0m\n"
     ]
    }
   ],
   "source": [
    "# Train the tuned Coclustering algorithm\n",
    "coCluster_optimized = CoClustering(n_cltr_u=4, n_cltr_i=5, n_epochs=10, random_state=1)\n",
    "coCluster_optimized.fit(trainset)\n",
    "# Use the function precision_recall_at_k to compute precision@k, recall@k, F1-Score, and RMSE\n",
    "precision_recall_at_k(coCluster_optimized, 10, 1)\n",
    "precision_recall_at_k(coCluster_optimized, 20, 1)\n",
    "precision_recall_at_k(coCluster_optimized, 30, 1)\n",
    "precision_recall_at_k(coCluster_optimized, 40, 1)"
   ]
  },
  {
   "cell_type": "markdown",
   "metadata": {
    "id": "l-Jvce1gznKa"
   },
   "source": [
    "**Observations and Insights:**\n",
    "\n",
    "- The optimized co-clustering model is underperforming to the baseline co-clustering one."
   ]
  },
  {
   "cell_type": "code",
   "execution_count": null,
   "metadata": {
    "colab": {
     "base_uri": "https://localhost:8080/"
    },
    "id": "kQi-kP6dlHSF",
    "outputId": "afe37986-0452-458d-8434-28ab1f2ff11d"
   },
   "outputs": [
    {
     "name": "stdout",
     "output_type": "stream",
     "text": [
      "\u001b[1m\u001b[92mDisplaying the predictions for user 6958 and song 1671.\n",
      "\n",
      "- Real prediction: 2,\n",
      "- Estimated prediction: 1.\u001b[0m\n"
     ]
    }
   ],
   "source": [
    "play_count_predict(coCluster_optimized, 6958, 1671, 2)"
   ]
  },
  {
   "cell_type": "code",
   "execution_count": null,
   "metadata": {
    "colab": {
     "base_uri": "https://localhost:8080/"
    },
    "id": "Uwob-ET-layf",
    "outputId": "04a067b3-cc17-4bac-a6d3-aff5a0a437bc"
   },
   "outputs": [
    {
     "name": "stdout",
     "output_type": "stream",
     "text": [
      "\u001b[1m\u001b[92mDisplaying the predictions for user 6958 and song 3232.\n",
      "\n",
      "- Real prediction: None,\n",
      "- Estimated prediction: 1.\u001b[0m\n"
     ]
    }
   ],
   "source": [
    "play_count_predict(coCluster_optimized, 6958, 3232)"
   ]
  },
  {
   "cell_type": "markdown",
   "metadata": {
    "id": "rjGUSMqrzoDH"
   },
   "source": [
    "**Observations and Insights:**\n",
    "\n",
    "- The `co-clustering-optimized` model seems to make better predictions of the `play_count` than the baseline `co-clustering` model."
   ]
  },
  {
   "cell_type": "code",
   "execution_count": null,
   "metadata": {
    "colab": {
     "base_uri": "https://localhost:8080/",
     "height": 206
    },
    "id": "e0f36e15",
    "outputId": "473517da-ef21-49d4-a4de-12b9972db23a"
   },
   "outputs": [
    {
     "data": {
      "text/html": [
       "\n",
       "  <div id=\"df-9ba6bb73-aceb-48b5-a74c-c432a00c9d03\">\n",
       "    <div class=\"colab-df-container\">\n",
       "      <div>\n",
       "<style scoped>\n",
       "    .dataframe tbody tr th:only-of-type {\n",
       "        vertical-align: middle;\n",
       "    }\n",
       "\n",
       "    .dataframe tbody tr th {\n",
       "        vertical-align: top;\n",
       "    }\n",
       "\n",
       "    .dataframe thead th {\n",
       "        text-align: right;\n",
       "    }\n",
       "</style>\n",
       "<table border=\"1\" class=\"dataframe\">\n",
       "  <thead>\n",
       "    <tr style=\"text-align: right;\">\n",
       "      <th></th>\n",
       "      <th>song_id</th>\n",
       "      <th>predicted_play_count</th>\n",
       "    </tr>\n",
       "  </thead>\n",
       "  <tbody>\n",
       "    <tr>\n",
       "      <th>0</th>\n",
       "      <td>7224</td>\n",
       "      <td>3.14</td>\n",
       "    </tr>\n",
       "    <tr>\n",
       "      <th>1</th>\n",
       "      <td>9942</td>\n",
       "      <td>2.34</td>\n",
       "    </tr>\n",
       "    <tr>\n",
       "      <th>2</th>\n",
       "      <td>8324</td>\n",
       "      <td>2.10</td>\n",
       "    </tr>\n",
       "    <tr>\n",
       "      <th>3</th>\n",
       "      <td>4831</td>\n",
       "      <td>2.07</td>\n",
       "    </tr>\n",
       "    <tr>\n",
       "      <th>4</th>\n",
       "      <td>4448</td>\n",
       "      <td>1.98</td>\n",
       "    </tr>\n",
       "  </tbody>\n",
       "</table>\n",
       "</div>\n",
       "      <button class=\"colab-df-convert\" onclick=\"convertToInteractive('df-9ba6bb73-aceb-48b5-a74c-c432a00c9d03')\"\n",
       "              title=\"Convert this dataframe to an interactive table.\"\n",
       "              style=\"display:none;\">\n",
       "        \n",
       "  <svg xmlns=\"http://www.w3.org/2000/svg\" height=\"24px\"viewBox=\"0 0 24 24\"\n",
       "       width=\"24px\">\n",
       "    <path d=\"M0 0h24v24H0V0z\" fill=\"none\"/>\n",
       "    <path d=\"M18.56 5.44l.94 2.06.94-2.06 2.06-.94-2.06-.94-.94-2.06-.94 2.06-2.06.94zm-11 1L8.5 8.5l.94-2.06 2.06-.94-2.06-.94L8.5 2.5l-.94 2.06-2.06.94zm10 10l.94 2.06.94-2.06 2.06-.94-2.06-.94-.94-2.06-.94 2.06-2.06.94z\"/><path d=\"M17.41 7.96l-1.37-1.37c-.4-.4-.92-.59-1.43-.59-.52 0-1.04.2-1.43.59L10.3 9.45l-7.72 7.72c-.78.78-.78 2.05 0 2.83L4 21.41c.39.39.9.59 1.41.59.51 0 1.02-.2 1.41-.59l7.78-7.78 2.81-2.81c.8-.78.8-2.07 0-2.86zM5.41 20L4 18.59l7.72-7.72 1.47 1.35L5.41 20z\"/>\n",
       "  </svg>\n",
       "      </button>\n",
       "      \n",
       "  <style>\n",
       "    .colab-df-container {\n",
       "      display:flex;\n",
       "      flex-wrap:wrap;\n",
       "      gap: 12px;\n",
       "    }\n",
       "\n",
       "    .colab-df-convert {\n",
       "      background-color: #E8F0FE;\n",
       "      border: none;\n",
       "      border-radius: 50%;\n",
       "      cursor: pointer;\n",
       "      display: none;\n",
       "      fill: #1967D2;\n",
       "      height: 32px;\n",
       "      padding: 0 0 0 0;\n",
       "      width: 32px;\n",
       "    }\n",
       "\n",
       "    .colab-df-convert:hover {\n",
       "      background-color: #E2EBFA;\n",
       "      box-shadow: 0px 1px 2px rgba(60, 64, 67, 0.3), 0px 1px 3px 1px rgba(60, 64, 67, 0.15);\n",
       "      fill: #174EA6;\n",
       "    }\n",
       "\n",
       "    [theme=dark] .colab-df-convert {\n",
       "      background-color: #3B4455;\n",
       "      fill: #D2E3FC;\n",
       "    }\n",
       "\n",
       "    [theme=dark] .colab-df-convert:hover {\n",
       "      background-color: #434B5C;\n",
       "      box-shadow: 0px 1px 3px 1px rgba(0, 0, 0, 0.15);\n",
       "      filter: drop-shadow(0px 1px 2px rgba(0, 0, 0, 0.3));\n",
       "      fill: #FFFFFF;\n",
       "    }\n",
       "  </style>\n",
       "\n",
       "      <script>\n",
       "        const buttonEl =\n",
       "          document.querySelector('#df-9ba6bb73-aceb-48b5-a74c-c432a00c9d03 button.colab-df-convert');\n",
       "        buttonEl.style.display =\n",
       "          google.colab.kernel.accessAllowed ? 'block' : 'none';\n",
       "\n",
       "        async function convertToInteractive(key) {\n",
       "          const element = document.querySelector('#df-9ba6bb73-aceb-48b5-a74c-c432a00c9d03');\n",
       "          const dataTable =\n",
       "            await google.colab.kernel.invokeFunction('convertToInteractive',\n",
       "                                                     [key], {});\n",
       "          if (!dataTable) return;\n",
       "\n",
       "          const docLinkHtml = 'Like what you see? Visit the ' +\n",
       "            '<a target=\"_blank\" href=https://colab.research.google.com/notebooks/data_table.ipynb>data table notebook</a>'\n",
       "            + ' to learn more about interactive tables.';\n",
       "          element.innerHTML = '';\n",
       "          dataTable['output_type'] = 'display_data';\n",
       "          await google.colab.output.renderOutput(dataTable, element);\n",
       "          const docLink = document.createElement('div');\n",
       "          docLink.innerHTML = docLinkHtml;\n",
       "          element.appendChild(docLink);\n",
       "        }\n",
       "      </script>\n",
       "    </div>\n",
       "  </div>\n",
       "  "
      ],
      "text/plain": [
       "   song_id  predicted_play_count\n",
       "0     7224                  3.14\n",
       "1     9942                  2.34\n",
       "2     8324                  2.10\n",
       "3     4831                  2.07\n",
       "4     4448                  1.98"
      ]
     },
     "execution_count": 374,
     "metadata": {},
     "output_type": "execute_result"
    }
   ],
   "source": [
    "# Getting top 5 recommendations for user_id 6958 using \"Co-clustering based optimized\" algorithm\n",
    "recommendations = get_recommendations(df_final, 6958, 5, coCluster_optimized)\n",
    "pd.DataFrame(recommendations, columns=['song_id', 'predicted_play_count'])"
   ]
  },
  {
   "cell_type": "markdown",
   "metadata": {
    "id": "f1696941"
   },
   "source": [
    "### Correcting the play_count and Ranking the above songs"
   ]
  },
  {
   "cell_type": "code",
   "execution_count": null,
   "metadata": {
    "colab": {
     "base_uri": "https://localhost:8080/",
     "height": 206
    },
    "id": "c186f13b",
    "outputId": "2826bc6f-96e4-40d0-dd01-b9fe6e2cc44a",
    "scrolled": true
   },
   "outputs": [
    {
     "data": {
      "text/html": [
       "\n",
       "  <div id=\"df-8e187cf7-f04a-45d8-91f6-d9e745497cd9\">\n",
       "    <div class=\"colab-df-container\">\n",
       "      <div>\n",
       "<style scoped>\n",
       "    .dataframe tbody tr th:only-of-type {\n",
       "        vertical-align: middle;\n",
       "    }\n",
       "\n",
       "    .dataframe tbody tr th {\n",
       "        vertical-align: top;\n",
       "    }\n",
       "\n",
       "    .dataframe thead th {\n",
       "        text-align: right;\n",
       "    }\n",
       "</style>\n",
       "<table border=\"1\" class=\"dataframe\">\n",
       "  <thead>\n",
       "    <tr style=\"text-align: right;\">\n",
       "      <th></th>\n",
       "      <th>song_id</th>\n",
       "      <th>play_freq</th>\n",
       "      <th>predicted_play_count</th>\n",
       "      <th>corrected_play_count</th>\n",
       "    </tr>\n",
       "  </thead>\n",
       "  <tbody>\n",
       "    <tr>\n",
       "      <th>2</th>\n",
       "      <td>7224</td>\n",
       "      <td>361</td>\n",
       "      <td>3.14</td>\n",
       "      <td>3.09</td>\n",
       "    </tr>\n",
       "    <tr>\n",
       "      <th>1</th>\n",
       "      <td>9942</td>\n",
       "      <td>373</td>\n",
       "      <td>2.34</td>\n",
       "      <td>2.29</td>\n",
       "    </tr>\n",
       "    <tr>\n",
       "      <th>3</th>\n",
       "      <td>8324</td>\n",
       "      <td>252</td>\n",
       "      <td>2.10</td>\n",
       "      <td>2.04</td>\n",
       "    </tr>\n",
       "    <tr>\n",
       "      <th>4</th>\n",
       "      <td>4831</td>\n",
       "      <td>214</td>\n",
       "      <td>2.07</td>\n",
       "      <td>2.00</td>\n",
       "    </tr>\n",
       "    <tr>\n",
       "      <th>0</th>\n",
       "      <td>4448</td>\n",
       "      <td>1291</td>\n",
       "      <td>1.98</td>\n",
       "      <td>1.95</td>\n",
       "    </tr>\n",
       "  </tbody>\n",
       "</table>\n",
       "</div>\n",
       "      <button class=\"colab-df-convert\" onclick=\"convertToInteractive('df-8e187cf7-f04a-45d8-91f6-d9e745497cd9')\"\n",
       "              title=\"Convert this dataframe to an interactive table.\"\n",
       "              style=\"display:none;\">\n",
       "        \n",
       "  <svg xmlns=\"http://www.w3.org/2000/svg\" height=\"24px\"viewBox=\"0 0 24 24\"\n",
       "       width=\"24px\">\n",
       "    <path d=\"M0 0h24v24H0V0z\" fill=\"none\"/>\n",
       "    <path d=\"M18.56 5.44l.94 2.06.94-2.06 2.06-.94-2.06-.94-.94-2.06-.94 2.06-2.06.94zm-11 1L8.5 8.5l.94-2.06 2.06-.94-2.06-.94L8.5 2.5l-.94 2.06-2.06.94zm10 10l.94 2.06.94-2.06 2.06-.94-2.06-.94-.94-2.06-.94 2.06-2.06.94z\"/><path d=\"M17.41 7.96l-1.37-1.37c-.4-.4-.92-.59-1.43-.59-.52 0-1.04.2-1.43.59L10.3 9.45l-7.72 7.72c-.78.78-.78 2.05 0 2.83L4 21.41c.39.39.9.59 1.41.59.51 0 1.02-.2 1.41-.59l7.78-7.78 2.81-2.81c.8-.78.8-2.07 0-2.86zM5.41 20L4 18.59l7.72-7.72 1.47 1.35L5.41 20z\"/>\n",
       "  </svg>\n",
       "      </button>\n",
       "      \n",
       "  <style>\n",
       "    .colab-df-container {\n",
       "      display:flex;\n",
       "      flex-wrap:wrap;\n",
       "      gap: 12px;\n",
       "    }\n",
       "\n",
       "    .colab-df-convert {\n",
       "      background-color: #E8F0FE;\n",
       "      border: none;\n",
       "      border-radius: 50%;\n",
       "      cursor: pointer;\n",
       "      display: none;\n",
       "      fill: #1967D2;\n",
       "      height: 32px;\n",
       "      padding: 0 0 0 0;\n",
       "      width: 32px;\n",
       "    }\n",
       "\n",
       "    .colab-df-convert:hover {\n",
       "      background-color: #E2EBFA;\n",
       "      box-shadow: 0px 1px 2px rgba(60, 64, 67, 0.3), 0px 1px 3px 1px rgba(60, 64, 67, 0.15);\n",
       "      fill: #174EA6;\n",
       "    }\n",
       "\n",
       "    [theme=dark] .colab-df-convert {\n",
       "      background-color: #3B4455;\n",
       "      fill: #D2E3FC;\n",
       "    }\n",
       "\n",
       "    [theme=dark] .colab-df-convert:hover {\n",
       "      background-color: #434B5C;\n",
       "      box-shadow: 0px 1px 3px 1px rgba(0, 0, 0, 0.15);\n",
       "      filter: drop-shadow(0px 1px 2px rgba(0, 0, 0, 0.3));\n",
       "      fill: #FFFFFF;\n",
       "    }\n",
       "  </style>\n",
       "\n",
       "      <script>\n",
       "        const buttonEl =\n",
       "          document.querySelector('#df-8e187cf7-f04a-45d8-91f6-d9e745497cd9 button.colab-df-convert');\n",
       "        buttonEl.style.display =\n",
       "          google.colab.kernel.accessAllowed ? 'block' : 'none';\n",
       "\n",
       "        async function convertToInteractive(key) {\n",
       "          const element = document.querySelector('#df-8e187cf7-f04a-45d8-91f6-d9e745497cd9');\n",
       "          const dataTable =\n",
       "            await google.colab.kernel.invokeFunction('convertToInteractive',\n",
       "                                                     [key], {});\n",
       "          if (!dataTable) return;\n",
       "\n",
       "          const docLinkHtml = 'Like what you see? Visit the ' +\n",
       "            '<a target=\"_blank\" href=https://colab.research.google.com/notebooks/data_table.ipynb>data table notebook</a>'\n",
       "            + ' to learn more about interactive tables.';\n",
       "          element.innerHTML = '';\n",
       "          dataTable['output_type'] = 'display_data';\n",
       "          await google.colab.output.renderOutput(dataTable, element);\n",
       "          const docLink = document.createElement('div');\n",
       "          docLink.innerHTML = docLinkHtml;\n",
       "          element.appendChild(docLink);\n",
       "        }\n",
       "      </script>\n",
       "    </div>\n",
       "  </div>\n",
       "  "
      ],
      "text/plain": [
       "   song_id  play_freq  predicted_play_count  corrected_play_count\n",
       "2     7224        361                  3.14                  3.09\n",
       "1     9942        373                  2.34                  2.29\n",
       "3     8324        252                  2.10                  2.04\n",
       "4     4831        214                  2.07                  2.00\n",
       "0     4448       1291                  1.98                  1.95"
      ]
     },
     "execution_count": 375,
     "metadata": {},
     "output_type": "execute_result"
    }
   ],
   "source": [
    "# Ranking songs based on the above recommendations\n",
    "ranking_songs(recommendations, final_play)\n"
   ]
  },
  {
   "cell_type": "markdown",
   "metadata": {
    "id": "_uJ_nZjBzvKH"
   },
   "source": [
    "**Observations and Insights:**\n",
    "\n",
    "- We have recommended 5 songs with values of the predicted `play_count` between `1.98` and `3.14`."
   ]
  },
  {
   "cell_type": "markdown",
   "metadata": {
    "id": "5U56oSNsR-F2"
   },
   "source": [
    "### **6.4 Content-Based Recommendation Systems**"
   ]
  },
  {
   "cell_type": "markdown",
   "metadata": {
    "id": "9aTEqaOjhoEg"
   },
   "source": [
    "**Think About It:** So far we have only used the play_count of songs to find recommendations but we have other information/features on songs as well. Can we take those song features into account?"
   ]
  },
  {
   "cell_type": "code",
   "execution_count": null,
   "metadata": {
    "id": "RhUx2jgp4frC"
   },
   "outputs": [],
   "source": [
    "# Make a copy of the df_final, on which we will perform further analysis and transformations.\n",
    "df_content = df_final"
   ]
  },
  {
   "cell_type": "code",
   "execution_count": null,
   "metadata": {
    "id": "UX826CsjR-F3"
   },
   "outputs": [],
   "source": [
    "# Concatenate the title, release and artist_name columns to create a new column, text.\n",
    "df_content['text'] = df_content[['title', 'release', 'artist_name']].agg(' '.join, axis=1)\n"
   ]
  },
  {
   "cell_type": "code",
   "execution_count": null,
   "metadata": {
    "colab": {
     "base_uri": "https://localhost:8080/",
     "height": 238
    },
    "id": "WdXw4U-wR-F4",
    "outputId": "2b739da4-b3a9-4089-b3ff-72c33013e9d0"
   },
   "outputs": [
    {
     "data": {
      "text/html": [
       "\n",
       "  <div id=\"df-d5f9aa72-31cd-4ccb-aafa-e3c55fdf8e13\">\n",
       "    <div class=\"colab-df-container\">\n",
       "      <div>\n",
       "<style scoped>\n",
       "    .dataframe tbody tr th:only-of-type {\n",
       "        vertical-align: middle;\n",
       "    }\n",
       "\n",
       "    .dataframe tbody tr th {\n",
       "        vertical-align: top;\n",
       "    }\n",
       "\n",
       "    .dataframe thead th {\n",
       "        text-align: right;\n",
       "    }\n",
       "</style>\n",
       "<table border=\"1\" class=\"dataframe\">\n",
       "  <thead>\n",
       "    <tr style=\"text-align: right;\">\n",
       "      <th></th>\n",
       "      <th>user_id</th>\n",
       "      <th>song_id</th>\n",
       "      <th>play_count</th>\n",
       "      <th>text</th>\n",
       "    </tr>\n",
       "    <tr>\n",
       "      <th>title</th>\n",
       "      <th></th>\n",
       "      <th></th>\n",
       "      <th></th>\n",
       "      <th></th>\n",
       "    </tr>\n",
       "  </thead>\n",
       "  <tbody>\n",
       "    <tr>\n",
       "      <th>Daisy And Prudence</th>\n",
       "      <td>6958</td>\n",
       "      <td>447</td>\n",
       "      <td>1</td>\n",
       "      <td>Daisy And Prudence Distillation Erin McKeown</td>\n",
       "    </tr>\n",
       "    <tr>\n",
       "      <th>The Ballad of Michael Valentine</th>\n",
       "      <td>6958</td>\n",
       "      <td>512</td>\n",
       "      <td>1</td>\n",
       "      <td>The Ballad of Michael Valentine Sawdust The Ki...</td>\n",
       "    </tr>\n",
       "    <tr>\n",
       "      <th>I Stand Corrected (Album)</th>\n",
       "      <td>6958</td>\n",
       "      <td>549</td>\n",
       "      <td>1</td>\n",
       "      <td>I Stand Corrected (Album) Vampire Weekend Vamp...</td>\n",
       "    </tr>\n",
       "    <tr>\n",
       "      <th>They Might Follow You</th>\n",
       "      <td>6958</td>\n",
       "      <td>703</td>\n",
       "      <td>1</td>\n",
       "      <td>They Might Follow You Tiny Vipers Tiny Vipers</td>\n",
       "    </tr>\n",
       "    <tr>\n",
       "      <th>Monkey Man</th>\n",
       "      <td>6958</td>\n",
       "      <td>719</td>\n",
       "      <td>1</td>\n",
       "      <td>Monkey Man You Know I'm No Good Amy Winehouse</td>\n",
       "    </tr>\n",
       "  </tbody>\n",
       "</table>\n",
       "</div>\n",
       "      <button class=\"colab-df-convert\" onclick=\"convertToInteractive('df-d5f9aa72-31cd-4ccb-aafa-e3c55fdf8e13')\"\n",
       "              title=\"Convert this dataframe to an interactive table.\"\n",
       "              style=\"display:none;\">\n",
       "        \n",
       "  <svg xmlns=\"http://www.w3.org/2000/svg\" height=\"24px\"viewBox=\"0 0 24 24\"\n",
       "       width=\"24px\">\n",
       "    <path d=\"M0 0h24v24H0V0z\" fill=\"none\"/>\n",
       "    <path d=\"M18.56 5.44l.94 2.06.94-2.06 2.06-.94-2.06-.94-.94-2.06-.94 2.06-2.06.94zm-11 1L8.5 8.5l.94-2.06 2.06-.94-2.06-.94L8.5 2.5l-.94 2.06-2.06.94zm10 10l.94 2.06.94-2.06 2.06-.94-2.06-.94-.94-2.06-.94 2.06-2.06.94z\"/><path d=\"M17.41 7.96l-1.37-1.37c-.4-.4-.92-.59-1.43-.59-.52 0-1.04.2-1.43.59L10.3 9.45l-7.72 7.72c-.78.78-.78 2.05 0 2.83L4 21.41c.39.39.9.59 1.41.59.51 0 1.02-.2 1.41-.59l7.78-7.78 2.81-2.81c.8-.78.8-2.07 0-2.86zM5.41 20L4 18.59l7.72-7.72 1.47 1.35L5.41 20z\"/>\n",
       "  </svg>\n",
       "      </button>\n",
       "      \n",
       "  <style>\n",
       "    .colab-df-container {\n",
       "      display:flex;\n",
       "      flex-wrap:wrap;\n",
       "      gap: 12px;\n",
       "    }\n",
       "\n",
       "    .colab-df-convert {\n",
       "      background-color: #E8F0FE;\n",
       "      border: none;\n",
       "      border-radius: 50%;\n",
       "      cursor: pointer;\n",
       "      display: none;\n",
       "      fill: #1967D2;\n",
       "      height: 32px;\n",
       "      padding: 0 0 0 0;\n",
       "      width: 32px;\n",
       "    }\n",
       "\n",
       "    .colab-df-convert:hover {\n",
       "      background-color: #E2EBFA;\n",
       "      box-shadow: 0px 1px 2px rgba(60, 64, 67, 0.3), 0px 1px 3px 1px rgba(60, 64, 67, 0.15);\n",
       "      fill: #174EA6;\n",
       "    }\n",
       "\n",
       "    [theme=dark] .colab-df-convert {\n",
       "      background-color: #3B4455;\n",
       "      fill: #D2E3FC;\n",
       "    }\n",
       "\n",
       "    [theme=dark] .colab-df-convert:hover {\n",
       "      background-color: #434B5C;\n",
       "      box-shadow: 0px 1px 3px 1px rgba(0, 0, 0, 0.15);\n",
       "      filter: drop-shadow(0px 1px 2px rgba(0, 0, 0, 0.3));\n",
       "      fill: #FFFFFF;\n",
       "    }\n",
       "  </style>\n",
       "\n",
       "      <script>\n",
       "        const buttonEl =\n",
       "          document.querySelector('#df-d5f9aa72-31cd-4ccb-aafa-e3c55fdf8e13 button.colab-df-convert');\n",
       "        buttonEl.style.display =\n",
       "          google.colab.kernel.accessAllowed ? 'block' : 'none';\n",
       "\n",
       "        async function convertToInteractive(key) {\n",
       "          const element = document.querySelector('#df-d5f9aa72-31cd-4ccb-aafa-e3c55fdf8e13');\n",
       "          const dataTable =\n",
       "            await google.colab.kernel.invokeFunction('convertToInteractive',\n",
       "                                                     [key], {});\n",
       "          if (!dataTable) return;\n",
       "\n",
       "          const docLinkHtml = 'Like what you see? Visit the ' +\n",
       "            '<a target=\"_blank\" href=https://colab.research.google.com/notebooks/data_table.ipynb>data table notebook</a>'\n",
       "            + ' to learn more about interactive tables.';\n",
       "          element.innerHTML = '';\n",
       "          dataTable['output_type'] = 'display_data';\n",
       "          await google.colab.output.renderOutput(dataTable, element);\n",
       "          const docLink = document.createElement('div');\n",
       "          docLink.innerHTML = docLinkHtml;\n",
       "          element.appendChild(docLink);\n",
       "        }\n",
       "      </script>\n",
       "    </div>\n",
       "  </div>\n",
       "  "
      ],
      "text/plain": [
       "                                 user_id  song_id  play_count  \\\n",
       "title                                                           \n",
       "Daisy And Prudence                  6958      447           1   \n",
       "The Ballad of Michael Valentine     6958      512           1   \n",
       "I Stand Corrected (Album)           6958      549           1   \n",
       "They Might Follow You               6958      703           1   \n",
       "Monkey Man                          6958      719           1   \n",
       "\n",
       "                                                                              text  \n",
       "title                                                                               \n",
       "Daisy And Prudence                    Daisy And Prudence Distillation Erin McKeown  \n",
       "The Ballad of Michael Valentine  The Ballad of Michael Valentine Sawdust The Ki...  \n",
       "I Stand Corrected (Album)        I Stand Corrected (Album) Vampire Weekend Vamp...  \n",
       "They Might Follow You                They Might Follow You Tiny Vipers Tiny Vipers  \n",
       "Monkey Man                           Monkey Man You Know I'm No Good Amy Winehouse  "
      ]
     },
     "execution_count": 378,
     "metadata": {},
     "output_type": "execute_result"
    }
   ],
   "source": [
    "# Select the columns 'user_id', 'song_id', 'play_count', 'title', 'text' from df_small data\n",
    "df_content = df_content[['user_id', 'song_id', 'play_count', 'title', 'text']].reset_index(drop=True)\n",
    "# Drop the duplicates from the title column\n",
    "df_content = df_content.drop_duplicates('title')\n",
    "# Set the title column as the index\n",
    "df_content = df_content.set_index('title')\n",
    "df_content.head()\n"
   ]
  },
  {
   "cell_type": "code",
   "execution_count": null,
   "metadata": {
    "colab": {
     "base_uri": "https://localhost:8080/"
    },
    "id": "9UINF3Nwvwfr",
    "outputId": "b0ff53c6-525c-413c-8e2c-9c67a097bfbc"
   },
   "outputs": [
    {
     "name": "stderr",
     "output_type": "stream",
     "text": [
      "[nltk_data] Downloading package punkt to /root/nltk_data...\n",
      "[nltk_data]   Unzipping tokenizers/punkt.zip.\n",
      "[nltk_data] Downloading package stopwords to /root/nltk_data...\n",
      "[nltk_data]   Unzipping corpora/stopwords.zip.\n",
      "[nltk_data] Downloading package wordnet to /root/nltk_data...\n"
     ]
    }
   ],
   "source": [
    "# Importing the necessary libraries for working with text data\n",
    "import nltk\n",
    "\n",
    "# Download punkt library\n",
    "nltk.download('punkt')\n",
    "\n",
    "# Download stopwords library\n",
    "nltk.download('stopwords')\n",
    "\n",
    "# Download wordnet \n",
    "nltk.download('wordnet')\n",
    "\n",
    "# Import regular expression\n",
    "import re\n",
    "\n",
    "# Import word_tokenizer\n",
    "from nltk import word_tokenize\n",
    "\n",
    "# Import WordNetLemmatizer\n",
    "from nltk.stem import WordNetLemmatizer\n",
    "\n",
    "# Import stopwords\n",
    "from nltk.corpus import stopwords\n",
    "\n",
    "# Import CountVectorizer and TfidfVectorizer\n",
    "from sklearn.feature_extraction.text import CountVectorizer, TfidfVectorizer\n"
   ]
  },
  {
   "cell_type": "markdown",
   "metadata": {
    "id": "Jt2vitlnhoEg"
   },
   "source": [
    "#### **Text Data Preprocessing**"
   ]
  },
  {
   "cell_type": "code",
   "execution_count": null,
   "metadata": {
    "id": "j5QSSeUvR-F6"
   },
   "outputs": [],
   "source": [
    "# Function for tokenizing the text\n",
    "def tokenize(text):\n",
    "    '''\n",
    "    A function that tokenizes a given text.\n",
    "    A token is a word that is not a stop word.\n",
    "    Params:\n",
    "        text: text to be tokenized\n",
    "    Returns:\n",
    "        A list of the tokens obtained from the text.    \n",
    "    '''    \n",
    "    # Making each letter as lowercase and removing non-alphabetical text\n",
    "    text = re.sub(r\"[^a-zA-Z]\",\" \", text.lower())\n",
    "    \n",
    "    # Extracting each word in the text\n",
    "    tokens = word_tokenize(text)\n",
    "    \n",
    "    # Removing stopwords\n",
    "    words = [word for word in tokens if word not in stopwords.words(\"english\")]\n",
    "    \n",
    "    # Lemmatize the words\n",
    "    text_lems = [WordNetLemmatizer().lemmatize(lem).strip() for lem in words]\n",
    "\n",
    "    return text_lems"
   ]
  },
  {
   "cell_type": "code",
   "execution_count": null,
   "metadata": {
    "id": "RI_onIGdR-F6"
   },
   "outputs": [],
   "source": [
    "# Create the tfidf vectorizer \n",
    "tfidf = TfidfVectorizer(tokenizer=tokenize)\n",
    "\n",
    "# Fit_transfrom the vectorizer on the text column, convert the output into an array\n",
    "song_tfidf = tfidf.fit_transform(df_content['text'].values).toarray()"
   ]
  },
  {
   "cell_type": "code",
   "execution_count": null,
   "metadata": {
    "colab": {
     "base_uri": "https://localhost:8080/",
     "height": 236
    },
    "id": "fcKrk9-EgHwc",
    "outputId": "4784d54c-65da-4fc8-c772-c566e325ee92"
   },
   "outputs": [
    {
     "data": {
      "text/html": [
       "\n",
       "  <div id=\"df-769569c0-a275-4a38-94dc-b01f3bc5e0c4\">\n",
       "    <div class=\"colab-df-container\">\n",
       "      <div>\n",
       "<style scoped>\n",
       "    .dataframe tbody tr th:only-of-type {\n",
       "        vertical-align: middle;\n",
       "    }\n",
       "\n",
       "    .dataframe tbody tr th {\n",
       "        vertical-align: top;\n",
       "    }\n",
       "\n",
       "    .dataframe thead th {\n",
       "        text-align: right;\n",
       "    }\n",
       "</style>\n",
       "<table border=\"1\" class=\"dataframe\">\n",
       "  <thead>\n",
       "    <tr style=\"text-align: right;\">\n",
       "      <th></th>\n",
       "      <th>0</th>\n",
       "      <th>1</th>\n",
       "      <th>2</th>\n",
       "      <th>3</th>\n",
       "      <th>4</th>\n",
       "      <th>5</th>\n",
       "      <th>6</th>\n",
       "      <th>7</th>\n",
       "      <th>8</th>\n",
       "      <th>9</th>\n",
       "      <th>...</th>\n",
       "      <th>1183</th>\n",
       "      <th>1184</th>\n",
       "      <th>1185</th>\n",
       "      <th>1186</th>\n",
       "      <th>1187</th>\n",
       "      <th>1188</th>\n",
       "      <th>1189</th>\n",
       "      <th>1190</th>\n",
       "      <th>1191</th>\n",
       "      <th>1192</th>\n",
       "    </tr>\n",
       "  </thead>\n",
       "  <tbody>\n",
       "    <tr>\n",
       "      <th>0</th>\n",
       "      <td>0.0</td>\n",
       "      <td>0.0</td>\n",
       "      <td>0.0</td>\n",
       "      <td>0.0</td>\n",
       "      <td>0.0</td>\n",
       "      <td>0.0</td>\n",
       "      <td>0.0</td>\n",
       "      <td>0.0</td>\n",
       "      <td>0.0</td>\n",
       "      <td>0.0</td>\n",
       "      <td>...</td>\n",
       "      <td>0.0</td>\n",
       "      <td>0.0</td>\n",
       "      <td>0.0</td>\n",
       "      <td>0.0</td>\n",
       "      <td>0.0</td>\n",
       "      <td>0.0</td>\n",
       "      <td>0.0</td>\n",
       "      <td>0.0</td>\n",
       "      <td>0.0</td>\n",
       "      <td>0.0</td>\n",
       "    </tr>\n",
       "    <tr>\n",
       "      <th>1</th>\n",
       "      <td>0.0</td>\n",
       "      <td>0.0</td>\n",
       "      <td>0.0</td>\n",
       "      <td>0.0</td>\n",
       "      <td>0.0</td>\n",
       "      <td>0.0</td>\n",
       "      <td>0.0</td>\n",
       "      <td>0.0</td>\n",
       "      <td>0.0</td>\n",
       "      <td>0.0</td>\n",
       "      <td>...</td>\n",
       "      <td>0.0</td>\n",
       "      <td>0.0</td>\n",
       "      <td>0.0</td>\n",
       "      <td>0.0</td>\n",
       "      <td>0.0</td>\n",
       "      <td>0.0</td>\n",
       "      <td>0.0</td>\n",
       "      <td>0.0</td>\n",
       "      <td>0.0</td>\n",
       "      <td>0.0</td>\n",
       "    </tr>\n",
       "    <tr>\n",
       "      <th>2</th>\n",
       "      <td>0.0</td>\n",
       "      <td>0.0</td>\n",
       "      <td>0.0</td>\n",
       "      <td>0.0</td>\n",
       "      <td>0.0</td>\n",
       "      <td>0.0</td>\n",
       "      <td>0.0</td>\n",
       "      <td>0.0</td>\n",
       "      <td>0.0</td>\n",
       "      <td>0.0</td>\n",
       "      <td>...</td>\n",
       "      <td>0.0</td>\n",
       "      <td>0.0</td>\n",
       "      <td>0.0</td>\n",
       "      <td>0.0</td>\n",
       "      <td>0.0</td>\n",
       "      <td>0.0</td>\n",
       "      <td>0.0</td>\n",
       "      <td>0.0</td>\n",
       "      <td>0.0</td>\n",
       "      <td>0.0</td>\n",
       "    </tr>\n",
       "    <tr>\n",
       "      <th>3</th>\n",
       "      <td>0.0</td>\n",
       "      <td>0.0</td>\n",
       "      <td>0.0</td>\n",
       "      <td>0.0</td>\n",
       "      <td>0.0</td>\n",
       "      <td>0.0</td>\n",
       "      <td>0.0</td>\n",
       "      <td>0.0</td>\n",
       "      <td>0.0</td>\n",
       "      <td>0.0</td>\n",
       "      <td>...</td>\n",
       "      <td>0.0</td>\n",
       "      <td>0.0</td>\n",
       "      <td>0.0</td>\n",
       "      <td>0.0</td>\n",
       "      <td>0.0</td>\n",
       "      <td>0.0</td>\n",
       "      <td>0.0</td>\n",
       "      <td>0.0</td>\n",
       "      <td>0.0</td>\n",
       "      <td>0.0</td>\n",
       "    </tr>\n",
       "    <tr>\n",
       "      <th>4</th>\n",
       "      <td>0.0</td>\n",
       "      <td>0.0</td>\n",
       "      <td>0.0</td>\n",
       "      <td>0.0</td>\n",
       "      <td>0.0</td>\n",
       "      <td>0.0</td>\n",
       "      <td>0.0</td>\n",
       "      <td>0.0</td>\n",
       "      <td>0.0</td>\n",
       "      <td>0.0</td>\n",
       "      <td>...</td>\n",
       "      <td>0.0</td>\n",
       "      <td>0.0</td>\n",
       "      <td>0.0</td>\n",
       "      <td>0.0</td>\n",
       "      <td>0.0</td>\n",
       "      <td>0.0</td>\n",
       "      <td>0.0</td>\n",
       "      <td>0.0</td>\n",
       "      <td>0.0</td>\n",
       "      <td>0.0</td>\n",
       "    </tr>\n",
       "  </tbody>\n",
       "</table>\n",
       "<p>5 rows × 1193 columns</p>\n",
       "</div>\n",
       "      <button class=\"colab-df-convert\" onclick=\"convertToInteractive('df-769569c0-a275-4a38-94dc-b01f3bc5e0c4')\"\n",
       "              title=\"Convert this dataframe to an interactive table.\"\n",
       "              style=\"display:none;\">\n",
       "        \n",
       "  <svg xmlns=\"http://www.w3.org/2000/svg\" height=\"24px\"viewBox=\"0 0 24 24\"\n",
       "       width=\"24px\">\n",
       "    <path d=\"M0 0h24v24H0V0z\" fill=\"none\"/>\n",
       "    <path d=\"M18.56 5.44l.94 2.06.94-2.06 2.06-.94-2.06-.94-.94-2.06-.94 2.06-2.06.94zm-11 1L8.5 8.5l.94-2.06 2.06-.94-2.06-.94L8.5 2.5l-.94 2.06-2.06.94zm10 10l.94 2.06.94-2.06 2.06-.94-2.06-.94-.94-2.06-.94 2.06-2.06.94z\"/><path d=\"M17.41 7.96l-1.37-1.37c-.4-.4-.92-.59-1.43-.59-.52 0-1.04.2-1.43.59L10.3 9.45l-7.72 7.72c-.78.78-.78 2.05 0 2.83L4 21.41c.39.39.9.59 1.41.59.51 0 1.02-.2 1.41-.59l7.78-7.78 2.81-2.81c.8-.78.8-2.07 0-2.86zM5.41 20L4 18.59l7.72-7.72 1.47 1.35L5.41 20z\"/>\n",
       "  </svg>\n",
       "      </button>\n",
       "      \n",
       "  <style>\n",
       "    .colab-df-container {\n",
       "      display:flex;\n",
       "      flex-wrap:wrap;\n",
       "      gap: 12px;\n",
       "    }\n",
       "\n",
       "    .colab-df-convert {\n",
       "      background-color: #E8F0FE;\n",
       "      border: none;\n",
       "      border-radius: 50%;\n",
       "      cursor: pointer;\n",
       "      display: none;\n",
       "      fill: #1967D2;\n",
       "      height: 32px;\n",
       "      padding: 0 0 0 0;\n",
       "      width: 32px;\n",
       "    }\n",
       "\n",
       "    .colab-df-convert:hover {\n",
       "      background-color: #E2EBFA;\n",
       "      box-shadow: 0px 1px 2px rgba(60, 64, 67, 0.3), 0px 1px 3px 1px rgba(60, 64, 67, 0.15);\n",
       "      fill: #174EA6;\n",
       "    }\n",
       "\n",
       "    [theme=dark] .colab-df-convert {\n",
       "      background-color: #3B4455;\n",
       "      fill: #D2E3FC;\n",
       "    }\n",
       "\n",
       "    [theme=dark] .colab-df-convert:hover {\n",
       "      background-color: #434B5C;\n",
       "      box-shadow: 0px 1px 3px 1px rgba(0, 0, 0, 0.15);\n",
       "      filter: drop-shadow(0px 1px 2px rgba(0, 0, 0, 0.3));\n",
       "      fill: #FFFFFF;\n",
       "    }\n",
       "  </style>\n",
       "\n",
       "      <script>\n",
       "        const buttonEl =\n",
       "          document.querySelector('#df-769569c0-a275-4a38-94dc-b01f3bc5e0c4 button.colab-df-convert');\n",
       "        buttonEl.style.display =\n",
       "          google.colab.kernel.accessAllowed ? 'block' : 'none';\n",
       "\n",
       "        async function convertToInteractive(key) {\n",
       "          const element = document.querySelector('#df-769569c0-a275-4a38-94dc-b01f3bc5e0c4');\n",
       "          const dataTable =\n",
       "            await google.colab.kernel.invokeFunction('convertToInteractive',\n",
       "                                                     [key], {});\n",
       "          if (!dataTable) return;\n",
       "\n",
       "          const docLinkHtml = 'Like what you see? Visit the ' +\n",
       "            '<a target=\"_blank\" href=https://colab.research.google.com/notebooks/data_table.ipynb>data table notebook</a>'\n",
       "            + ' to learn more about interactive tables.';\n",
       "          element.innerHTML = '';\n",
       "          dataTable['output_type'] = 'display_data';\n",
       "          await google.colab.output.renderOutput(dataTable, element);\n",
       "          const docLink = document.createElement('div');\n",
       "          docLink.innerHTML = docLinkHtml;\n",
       "          element.appendChild(docLink);\n",
       "        }\n",
       "      </script>\n",
       "    </div>\n",
       "  </div>\n",
       "  "
      ],
      "text/plain": [
       "   0     1     2     3     4     5     6     7     8     9     ...  1183  \\\n",
       "0   0.0   0.0   0.0   0.0   0.0   0.0   0.0   0.0   0.0   0.0  ...   0.0   \n",
       "1   0.0   0.0   0.0   0.0   0.0   0.0   0.0   0.0   0.0   0.0  ...   0.0   \n",
       "2   0.0   0.0   0.0   0.0   0.0   0.0   0.0   0.0   0.0   0.0  ...   0.0   \n",
       "3   0.0   0.0   0.0   0.0   0.0   0.0   0.0   0.0   0.0   0.0  ...   0.0   \n",
       "4   0.0   0.0   0.0   0.0   0.0   0.0   0.0   0.0   0.0   0.0  ...   0.0   \n",
       "\n",
       "   1184  1185  1186  1187  1188  1189  1190  1191  1192  \n",
       "0   0.0   0.0   0.0   0.0   0.0   0.0   0.0   0.0   0.0  \n",
       "1   0.0   0.0   0.0   0.0   0.0   0.0   0.0   0.0   0.0  \n",
       "2   0.0   0.0   0.0   0.0   0.0   0.0   0.0   0.0   0.0  \n",
       "3   0.0   0.0   0.0   0.0   0.0   0.0   0.0   0.0   0.0  \n",
       "4   0.0   0.0   0.0   0.0   0.0   0.0   0.0   0.0   0.0  \n",
       "\n",
       "[5 rows x 1193 columns]"
      ]
     },
     "execution_count": 383,
     "metadata": {},
     "output_type": "execute_result"
    }
   ],
   "source": [
    "pd.DataFrame(song_tfidf).head()"
   ]
  },
  {
   "cell_type": "code",
   "execution_count": null,
   "metadata": {
    "colab": {
     "base_uri": "https://localhost:8080/"
    },
    "id": "Beak6ODRR-F7",
    "outputId": "c91dc5c2-825d-4200-833d-251dd8e4a515"
   },
   "outputs": [
    {
     "data": {
      "text/plain": [
       "array([[1., 0., 0., ..., 0., 0., 0.],\n",
       "       [0., 1., 0., ..., 0., 0., 0.],\n",
       "       [0., 0., 1., ..., 0., 0., 0.],\n",
       "       ...,\n",
       "       [0., 0., 0., ..., 1., 0., 0.],\n",
       "       [0., 0., 0., ..., 0., 1., 0.],\n",
       "       [0., 0., 0., ..., 0., 0., 1.]])"
      ]
     },
     "execution_count": 384,
     "metadata": {},
     "output_type": "execute_result"
    }
   ],
   "source": [
    "# Compute the cosine similarity for the tfidf \n",
    "similar_songs = cosine_similarity(song_tfidf, song_tfidf)\n",
    "\n",
    "# Display the similar_songs array\n",
    "similar_songs"
   ]
  },
  {
   "cell_type": "markdown",
   "metadata": {
    "id": "3Jjo3UHKhoEh"
   },
   "source": [
    "#### **Making recommendations based on the title of a song**"
   ]
  },
  {
   "cell_type": "code",
   "execution_count": null,
   "metadata": {
    "id": "upANOISkR-F8"
   },
   "outputs": [],
   "source": [
    "# Function that makes n recommendations to a given title of a song.\n",
    "def recommendations(df, title, similarity_matrix, n=10):\n",
    "    '''\n",
    "    A function that returns a list of songs (titles) similar to a given one.\n",
    "    Params:\n",
    "        df: dataframe with the data\n",
    "        title: the title of the song for which we are computing similar songs\n",
    "        similarity_matrix: the cosine similarity matrix for all song-song\n",
    "        n: the upper limit number of similar songs \n",
    "    Returns:\n",
    "        A list of songs ids, when the title exists in the database.\n",
    "        A message, otherwise.    \n",
    "    '''\n",
    "    recommended_songs = []\n",
    "    \n",
    "    # Get the index of the song that matches the title\n",
    "    df_idx = pd.Series(df.index)\n",
    "    if title not in df.index:\n",
    "        return print(clr.S+'We appologize, we cannot find {} in our database, and we are unable to make recommendations!'.format(title)+clr.E)\n",
    "    idx = df_idx[df_idx == title].index[0]\n",
    "    \n",
    "    # Create a Series with the similarity scores in descending order\n",
    "    sim_scores = pd.Series(similarity_matrix[idx]).sort_values(ascending = False)\n",
    "    \n",
    "    # Filter the scores that are equal to 0.0. \n",
    "    # We do not want to recommend a song that has a simmilarity score of 0.0.\n",
    "    # An improvement would be to set a threshold of what constitues a recommendable song. \n",
    "    sim_scores = sim_scores[sim_scores !=0]\n",
    "    # Getting the indexes of the 10 most similar songs\n",
    "    top_n_index = list(sim_scores.iloc[1:n+1].index)\n",
    "    \n",
    "    # Populating the list of recommendations with the titles of the best 10 matching songs\n",
    "    for i in top_n_index:\n",
    "        recommended_songs.append(list(df.index)[i])\n",
    "        \n",
    "    return recommended_songs"
   ]
  },
  {
   "cell_type": "markdown",
   "metadata": {
    "id": "o4EINBmkR-F8"
   },
   "source": [
    "#### **Recommend 10 songs similar to `Learn To Fly`, a song that exists in the database**"
   ]
  },
  {
   "cell_type": "code",
   "execution_count": null,
   "metadata": {
    "colab": {
     "base_uri": "https://localhost:8080/"
    },
    "id": "ohEK5dkVR-F8",
    "outputId": "e507926a-fce1-4426-cf23-eff5ef331f6b"
   },
   "outputs": [
    {
     "data": {
      "text/plain": [
       "['Everlong',\n",
       " 'The Pretender',\n",
       " 'Nothing Better (Album)',\n",
       " 'From Left To Right',\n",
       " 'Lifespan Of A Fly']"
      ]
     },
     "execution_count": 392,
     "metadata": {},
     "output_type": "execute_result"
    }
   ],
   "source": [
    "# Make the recommendation for the song with title 'Learn To Fly'\n",
    "recommendations(df_content, 'Learn To Fly', similar_songs)"
   ]
  },
  {
   "cell_type": "markdown",
   "metadata": {
    "id": "_CZ9OHwyBwuj"
   },
   "source": [
    "#### **Recommend 10 songs similar to `LearnTo Fly`, a song that exists in the database**"
   ]
  },
  {
   "cell_type": "code",
   "execution_count": null,
   "metadata": {
    "colab": {
     "base_uri": "https://localhost:8080/"
    },
    "id": "-eViRjTDPOYi",
    "outputId": "1b94ce07-74d0-4541-baa9-d5e3ee50076f"
   },
   "outputs": [
    {
     "name": "stdout",
     "output_type": "stream",
     "text": [
      "\u001b[1m\u001b[92mWe appologize, we cannot find LearnTo Fly in our database, and we are unable to make recommendations!\u001b[0m\n"
     ]
    }
   ],
   "source": [
    "recommendations(df_content, 'LearnTo Fly', similar_songs)"
   ]
  },
  {
   "cell_type": "markdown",
   "metadata": {
    "id": "UQ7iI5QJ0oem"
   },
   "source": [
    "**Observations and Insights:**\n",
    "\n",
    "- We added an additional filter in the `recommendations` function, to make sure that we are not recommending songs with a similarity of 0.\n",
    "- We have also added a verification for the existance of the title in the database. Thus, `LearnTo Fly` cannot be found in the database, and no recommendations can be made. We recommend extending the scope of this function, to capture more of such cases. There are simple NLP techniques that can be easily implemented, with very high impact.\n",
    "- Due to the additional filter, there are no 10 songs similar to `Learn To Fly` to be recommended. The maximum number of such songs is `5`, and they are:\n",
    "  1. `Everlong`.\n",
    "  2. `The Pretender`.\n",
    "  3. `Nothing Better (Album)`.\n",
    "  4. `From Left To Right`.\n",
    "  5. `Lifespan Of A Fly`."
   ]
  }
 ],
 "metadata": {
  "colab": {
   "collapsed_sections": [
    "zagHqDjKGv89",
    "Ze2TlWxpYadn",
    "tPZRc1e-eyyO",
    "VUcXc7ZYfaGl"
   ],
   "provenance": []
  },
  "kernelspec": {
   "display_name": "Python 3 (ipykernel)",
   "language": "python",
   "name": "python3"
  },
  "language_info": {
   "codemirror_mode": {
    "name": "ipython",
    "version": 3
   },
   "file_extension": ".py",
   "mimetype": "text/x-python",
   "name": "python",
   "nbconvert_exporter": "python",
   "pygments_lexer": "ipython3",
   "version": "3.9.16"
  }
 },
 "nbformat": 4,
 "nbformat_minor": 1
}
